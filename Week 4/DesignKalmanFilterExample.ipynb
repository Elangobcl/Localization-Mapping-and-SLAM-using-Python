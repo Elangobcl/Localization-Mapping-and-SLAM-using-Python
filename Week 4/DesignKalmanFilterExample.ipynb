{
 "cells": [
  {
   "cell_type": "markdown",
   "id": "35705870-34f3-482c-99f7-b9551b2c06c7",
   "metadata": {},
   "source": [
    "# Design of Kalman Filter Example"
   ]
  },
  {
   "cell_type": "code",
   "execution_count": 1,
   "id": "543e8b28-e663-4aae-8262-2916519de517",
   "metadata": {},
   "outputs": [],
   "source": [
    "import numpy as np\n",
    "import matplotlib.pyplot as plt\n",
    "import math"
   ]
  },
  {
   "cell_type": "markdown",
   "id": "964f4c31-2793-41a5-9792-72bd64019471",
   "metadata": {},
   "source": [
    "### Description\n",
    "Let's assume we want to find the 2D position of the robot such that it's position is _inferred_ using a Kalman Filter that filters out noisy measurements and control inputs to arrive at a final estimate\n",
    "\n",
    "The Robot has a sensor equipped that can provide its 2D position with some uncertainity\n",
    "\n",
    "The Robot is known to be moving with constant velocity with a larger process noise in its input of velocity"
   ]
  },
  {
   "cell_type": "markdown",
   "id": "8e30e56e-1fff-4835-9fe5-16c8e3e5372b",
   "metadata": {},
   "source": [
    "### State variables\n",
    "It is clear that, x and y are the _observed_ variables as they are provided by the measurement sensor\n",
    "\n",
    "However, just having those in the state vector will not lead to good results\n",
    "\n",
    "The velocities in x and y are the _hidden_ variables that if added to the filter will help not only in inferring the position but also the velocities itself. In other words, yes the position and velocities will be correlated\n",
    "\n",
    "There are some _unobserved_ variables (color of robot, temperature of the wheels, etc) if added will not lead to anything useful on those variables\n",
    "\n",
    "Hence,\n",
    "Let's have $X = [x, \\dot{x}, y, \\dot{y}]^T$"
   ]
  },
  {
   "cell_type": "markdown",
   "id": "d1daab94-c3e6-49ea-abd5-e65b679b9f6d",
   "metadata": {},
   "source": [
    "### Order of the system\n",
    "For this example, we are choosing to model the system dynamics as first order\n",
    "\n",
    "It is tempting to model the system as second order because of the fact that velocity inputs are error prone (making us believe that perhaps second order system will track robot's position better). However, that is not the case. You are welcome to try this as an exercise and evalute the filter performance using the difference between actual state and estimated state\n",
    "\n",
    "For first order dynamics, you can write the derivatives in discrete form (Euler method for newtonian equations)\n",
    "\n",
    "$\\dot{x} = x + \\dot{x} \\times \\Delta t$\n",
    "\n",
    "$\\dot{y} = y + \\dot{y} \\times \\Delta t$\n",
    "\n",
    "Remember, that you will have to break down higher order dyamic systems to first order anyway to write the Linear State Transition equation\n",
    "\n",
    "[This](http://www.sharetechnote.com/html/DE_HigherOrderDEtoFirstOrderDE.html) is a good example on this can be achieved"
   ]
  },
  {
   "cell_type": "markdown",
   "id": "f693845e-fa95-4d07-85aa-c64e80db8d1d",
   "metadata": {},
   "source": [
    "### Write the state transition equation\n",
    "It helps to write equation for each component in the state vector as a function of all other state components\n",
    "\n",
    "$x = 1x + \\Delta t \\dot{x} + 0 y + 0 \\dot{y}$\n",
    "\n",
    "$\\dot{x} = 0x + 1 \\dot{x} + 0 y + 0 \\dot{y}$\n",
    "\n",
    "$y = 0x + 0 \\dot{x} + 1 y + \\Delta t \\dot{y}$\n",
    "\n",
    "$\\dot{y} = 0y + 0 \\dot{y} + 0y + 1\\dot{y}$\n",
    "\n",
    "Hence, the state transition matrix $F$ in the equation $X = FX$ can be written as:\n",
    "\n",
    "$\\begin{bmatrix}\n",
    "x \\\\\n",
    "\\dot{x} \\\\\n",
    "y \\\\\n",
    "\\dot{y}\n",
    "\\end{bmatrix} = \\begin{bmatrix} 1 & \\Delta t & 0 & 0 \\\\\n",
    "                                0 & 1 & 0 & 0 \\\\\n",
    "                                0 & 0 & 1 & \\Delta t \\\\\n",
    "                                0 & 0 & 0 & 1\n",
    "                \\end{bmatrix} \\begin{bmatrix}\n",
    "x \\\\\n",
    "\\dot{x} \\\\\n",
    "y \\\\\n",
    "\\dot{y}\n",
    "\\end{bmatrix}$\n",
    "\n",
    "There can be a control input as well which might not be very apparent. Values that are typical constant can be thought of as control input. For example gravity can be a control input and so a $B$ matrix can be written and state transition matrix will take the form $X = FX + BU$"
   ]
  },
  {
   "cell_type": "markdown",
   "id": "fe9fc6cb-f7f2-4728-9886-521c03746a13",
   "metadata": {},
   "source": [
    "### Write the Process Noise matrix\n",
    "Two things to keep in mind for Process noise matrix is: \n",
    "* The dimension of this matrix is $n \\times n$, where $n$ is the dimension of the state vector\n",
    "* Putting non-zero values for the components that are correlated\n",
    "\n",
    "The actual values in the matrix itself is something that might need some tuning\n",
    "\n",
    "For example, for the current case, it makes sense that there will be correlation between Position and velocity components\n",
    "\n",
    "$Q = \\begin{bmatrix}\n",
    "0 & 0.001 & 0 & 0 \\\\\n",
    "0.001 & 0.001 & 0 & 0 \\\\\n",
    "0 & 0 & 0 & 0.001 \\\\\n",
    "0 & 0 & 0.001 & 0.001\n",
    "\\end{bmatrix}$\n",
    "\n",
    "For simplicity, it is often assumed that the noise matrix $Q$ is constant between consecutive updates"
   ]
  },
  {
   "cell_type": "markdown",
   "id": "b447f299-32aa-43c7-b7d4-3e3df5b3ca87",
   "metadata": {},
   "source": [
    "### Write the measurement function\n",
    "Here, the main task is to determine the the matrix H that will transform the state vector to the measurement space\n",
    "\n",
    "$Z = HX$\n",
    "\n",
    "For our case, the $H$ will be trivial and we can guess it using dimension matching\n",
    "Like so, we know that the z is 2 x 1 (there are two observed variables) so $H$ should be a 2 x 4 matrix. \n",
    "In general, $H$ is a $m \\times n$ matrix where, $m$ is the number of measurements\n",
    "\n",
    "For other cases, H can also be as simple as a matrix having conversion factors for units\n",
    "\n",
    "Therefore,\n",
    "\n",
    "$H = \\begin{bmatrix}\n",
    "1 & 0 & 0 & 0 \\\\\n",
    "0 & 0 & 1 & 0 \\\\\n",
    "\\end{bmatrix}$"
   ]
  },
  {
   "cell_type": "markdown",
   "id": "25336b7c-67fd-47dd-bce8-9375e86eb28c",
   "metadata": {},
   "source": [
    "### Write the measurement noise\n",
    "Having independent and uncorrelated values for measurement is a good place to start and in practice these yield suprisingly good results especially for the problem of localization\n",
    "\n",
    "The dimension of the matrix $R$ is $m \\times m$, where $m$ is the number of observed variables within the state\n",
    "\n",
    "For the current example, the measurement noise in X and Y are normally distributed individually and their joint distribution will have covariances has zero\n",
    "\n",
    "Let's assume the variance in measurement is 5 $meters^2$ in each x and y\n",
    "\n",
    "So,\n",
    "$R = \\begin{bmatrix}\n",
    "5 & 0 \\\\\n",
    "0 & 5 \\\\ \n",
    "\\end{bmatrix} $ \n",
    "\n",
    "$R$ is the measurment noise covariance matrix"
   ]
  },
  {
   "cell_type": "markdown",
   "id": "664485ac-7fca-45ac-8e78-147c2a177840",
   "metadata": {},
   "source": [
    "### Initial Conditions\n",
    "Let's assume that the inital position $(x,y) = (0,0)$ and the velocity is also $(\\dot{x}, \\dot{y}) = (0,0) $\n",
    "\n",
    "Since, this is a strong assumption, we can set the initial covariance to a large value\n",
    "\n",
    "The Covariance matrix has the dimension of $n \\times n$, where $n$ is the dimension of the state vector\n",
    "\n",
    "$P = \\begin{bmatrix}\n",
    "500 & 0 & 0 & 0 \\\\\n",
    "0 & 500 & 0 & 0 \\\\\n",
    "0 & 0 & 500 & 0 \\\\\n",
    "0 & 0 & 0 & 500 \n",
    "\\end{bmatrix}$"
   ]
  },
  {
   "cell_type": "code",
   "execution_count": 3,
   "id": "afe41f34-26cd-4285-908b-92a77a5318a4",
   "metadata": {},
   "outputs": [],
   "source": [
    "# Simulation parameters\n",
    "dt = 0.01\n",
    "N = 50\n",
    "zs_x = np.linspace(0, 15, N)\n",
    "zs_y = np.linspace(0, 5, N)\n",
    "\n",
    "Zs = np.vstack((zs_x, zs_y))"
   ]
  },
  {
   "cell_type": "code",
   "execution_count": 4,
   "id": "0565f966-af2d-4ef3-901a-b3d53c3d98a5",
   "metadata": {},
   "outputs": [],
   "source": [
    "# Noise matrices\n",
    "q_std = 0.1\n",
    "r_std = 0.35\n",
    "\n",
    "q_std_sq = q_std ** 2\n",
    "r_std_sq = r_std ** 2\n",
    "\n",
    "Q = np.array([[0, q_std_sq, 0 , 0], [q_std_sq, q_std_sq, 0, 0], [0, 0, 0, q_std_sq], [0, 0, q_std_sq, q_std_sq]])\n",
    "R = np.array([[r_std_sq, 0], [0, r_std_sq]])"
   ]
  },
  {
   "cell_type": "code",
   "execution_count": 5,
   "id": "05762d6e-ad77-4b38-9fdd-1fbfe3d7b078",
   "metadata": {},
   "outputs": [],
   "source": [
    "# Initial Conditions\n",
    "P = np.eye(4) * 500\n",
    "X = np.zeros((4,1))"
   ]
  },
  {
   "cell_type": "code",
   "execution_count": 6,
   "id": "12a4ce40-ccdd-437a-896d-e1083c4b9d01",
   "metadata": {},
   "outputs": [],
   "source": [
    "def state_transition(X):\n",
    "    F = np.array([[1, dt, 0, 0], [0, 1, 0, 0], [0, 0, 1, dt], [0 , 0, 0, 1]])\n",
    "    return F @ X"
   ]
  },
  {
   "cell_type": "code",
   "execution_count": 7,
   "id": "36f5af62-e200-4152-93f1-ebee51689d44",
   "metadata": {},
   "outputs": [],
   "source": [
    "def measurement_function(X):\n",
    "    H = np.array([[1, 0, 0, 0], [0, 0, 1, 0]])\n",
    "    return H @ X"
   ]
  },
  {
   "cell_type": "code",
   "execution_count": 8,
   "id": "0a0d1f23-b030-4539-903a-fab1a6e289a5",
   "metadata": {},
   "outputs": [],
   "source": [
    "def predictor(X, P):\n",
    "    X_pred = state_transition(X)\n",
    "    F = np.array([[1, dt, 0, 0], [0, 1, 0, 0], [0, 0, 1, dt], [0 , 0, 0, 1]])\n",
    "    P_pred = F @ P @ F.T + Q\n",
    "    return X_pred, P_pred"
   ]
  },
  {
   "cell_type": "code",
   "execution_count": 9,
   "id": "63bf40a4-ae8d-4b63-8cff-36bca6bc4b2a",
   "metadata": {},
   "outputs": [],
   "source": [
    "def corrector(X, P, z):\n",
    "    H = np.array([[1, 0, 0, 0], [0, 0, 1, 0]])\n",
    "    K = P @ H.T @ np.linalg.inv(H @ P @ H.T + R)\n",
    "    X_est = X + K @ (z - measurement_function(X))\n",
    "    P_est = (np.eye(4) - K @ H) @ P\n",
    "    return X_est, P_est"
   ]
  },
  {
   "cell_type": "code",
   "execution_count": 10,
   "id": "b64570af-027c-4a7d-ac4f-656b2a65d236",
   "metadata": {},
   "outputs": [],
   "source": [
    "# Simulate\n",
    "z = np.array([[Zs[0, 0]], [Zs[1,0]]])\n",
    "z_n = z + r_std_sq * np.random.randn(2,1)\n",
    "X_est, P_est = corrector(X, P, z)\n",
    "Xs = [X_est]\n",
    "Ps = [P_est]\n",
    "Z_noisy = [z_n]\n",
    "for i in range(1, N):\n",
    "    z = np.array([[Zs[0, i]], [Zs[1,i]]])\n",
    "    z_n = z + r_std_sq * np.random.randn(2,1)\n",
    "    X_pred, P_pred = predictor(X_est, P_est)\n",
    "    if i % 2 == 0:\n",
    "        X_est, P_est = corrector(X_pred, P_pred, z)\n",
    "    else:\n",
    "        X_est = X_pred\n",
    "        P_est = P_pred\n",
    "        \n",
    "    Xs.append(X_est)\n",
    "    Ps.append(P_est)\n",
    "    Z_noisy.append(z_n)"
   ]
  },
  {
   "cell_type": "code",
   "execution_count": 11,
   "id": "4ce49689-7821-4b00-be03-ace751b749f0",
   "metadata": {},
   "outputs": [],
   "source": [
    "def draw_error_ellipse(ax, mu, sigma, sigma_bounds=[1,2,3], show_points=False, draw_arrow=False):\n",
    "    w, v = np.linalg.eig(sigma)\n",
    "\n",
    "    dom = np.linspace(-math.pi, math.pi, 200, endpoint=True)\n",
    "\n",
    "    axes_aligned_points_bounds = dict()\n",
    "\n",
    "    for bound in sigma_bounds:\n",
    "        X = list()\n",
    "        Y = list()\n",
    "        a = bound * math.sqrt(w[0])\n",
    "        b = bound * math.sqrt(w[1])\n",
    "        for p in dom:\n",
    "            X.append(a * math.cos(p))\n",
    "            Y.append(b * math.sin(p))\n",
    "\n",
    "        axes_aligned_points_bounds[bound] = np.vstack((np.array(X), np.array(Y)))\n",
    "\n",
    "    theta = math.atan2(v[1,0], v[0,0])\n",
    "\n",
    "    R = np.array([[math.cos(theta), -math.sin(theta)], [math.sin(theta), math.cos(theta)]])\n",
    "\n",
    "    if show_points:\n",
    "        XY = np.random.multivariate_normal(mu, sigma, 500)\n",
    "        ax.scatter(XY[:,0], XY[:,1], alpha = 0.1)\n",
    "    \n",
    "    if draw_arrow:\n",
    "        ax.arrow(0, 0, v[0,0], v[1,0], fc = 'g', width = 0.02, length_includes_head=True)\n",
    "        ax.arrow(0, 0, v[0,1], v[1,1], fc='r', width = 0.02, length_includes_head=True)\n",
    "\n",
    "    for bound, axes_aligned_points in axes_aligned_points_bounds.items():\n",
    "        transformed_points = R @ axes_aligned_points + mu\n",
    "        ax.scatter(transformed_points[0,:], transformed_points[1,:], c='k', s = 1, alpha = 0.5)"
   ]
  },
  {
   "cell_type": "code",
   "execution_count": 12,
   "id": "9f0558ef-e73f-449d-9d18-815ad53b34c3",
   "metadata": {},
   "outputs": [],
   "source": [
    "%matplotlib widget"
   ]
  },
  {
   "cell_type": "code",
   "execution_count": 13,
   "id": "c5972ea9-cf0f-4c04-97b3-f96a72e92f40",
   "metadata": {},
   "outputs": [
    {
     "data": {
      "application/vnd.jupyter.widget-view+json": {
       "model_id": "b292bca310144355bbe1afb84a079897",
       "version_major": 2,
       "version_minor": 0
      },
      "text/plain": [
       "Canvas(toolbar=Toolbar(toolitems=[('Home', 'Reset original view', 'home', 'home'), ('Back', 'Back to previous …"
      ]
     },
     "metadata": {},
     "output_type": "display_data"
    },
    {
     "data": {
      "text/plain": [
       "<matplotlib.legend.Legend at 0x146608bf1f0>"
      ]
     },
     "execution_count": 13,
     "metadata": {},
     "output_type": "execute_result"
    }
   ],
   "source": [
    "# Plot Trajectory\n",
    "fig, ax = plt.subplots()\n",
    "X_pts = [X[0] for X in Xs]\n",
    "Y_pts = [X[2] for X in Xs]\n",
    "\n",
    "Z_n_x = [z_n[0] for z_n in Z_noisy]\n",
    "Z_n_y = [z_n[1] for z_n in Z_noisy]\n",
    "\n",
    "plt.axis('equal')\n",
    "plt.grid()\n",
    "plt.title(\"XY Position and Error vs time\")\n",
    "ax.plot(X_pts, Y_pts, label=\"Robot Trajectory\")\n",
    "\n",
    "ax.scatter(Z_n_x, Z_n_y, marker='o', c='green', label=\"Measurements\")\n",
    "\n",
    "i = 0\n",
    "for x_i, p_i in zip(Xs, Ps):\n",
    "    if i % 2 != 0:\n",
    "        i = i + 1\n",
    "        continue\n",
    "    mu = np.array([[x_i[0,0]], [x_i[2,0]]])\n",
    "    sigma = np.array([[p_i[0,0], p_i[0,2]], [p_i[2,0], p_i[2,2]]])\n",
    "    draw_error_ellipse(ax, mu, sigma, sigma_bounds=[3])\n",
    "    i = i + 1\n",
    "plt.legend()"
   ]
  },
  {
   "cell_type": "markdown",
   "id": "2762dbd8-f13a-4a8b-8f0f-5e1fbba825ca",
   "metadata": {},
   "source": [
    "### Filter Evaluation\n",
    "From the computed State Covariance matrix, the bounds for std for X and Y can be obtained\n",
    "\n",
    "These bounds represent the theoretical bounds for the performance of Kalman Filter\n",
    "\n",
    "If the difference between actual position and estimated postion is within this bound 68% of times for $1 \\sigma$ and 99.7% of times for $ 3 \\sigma$, it can be said that filter is working as expected"
   ]
  },
  {
   "cell_type": "code",
   "execution_count": 14,
   "id": "7d8a4789-b7cf-42fc-93e3-2e78173b6e43",
   "metadata": {},
   "outputs": [
    {
     "data": {
      "application/vnd.jupyter.widget-view+json": {
       "model_id": "6d2cf03075984b0089e75036a273421b",
       "version_major": 2,
       "version_minor": 0
      },
      "text/plain": [
       "Canvas(toolbar=Toolbar(toolitems=[('Home', 'Reset original view', 'home', 'home'), ('Back', 'Back to previous …"
      ]
     },
     "metadata": {},
     "output_type": "display_data"
    },
    {
     "data": {
      "text/plain": [
       "<matplotlib.legend.Legend at 0x14661c046d0>"
      ]
     },
     "execution_count": 14,
     "metadata": {},
     "output_type": "execute_result"
    }
   ],
   "source": [
    "one_sigma_error_y_pos = [math.sqrt(p[2,2]) for p in Ps]\n",
    "one_sigma_error_y_neg = [-math.sqrt(p[2,2]) for p in Ps]\n",
    "\n",
    "gt = [np.array([[Zs[0,i]], [Zs[1,i]]]) for i in range(Zs.shape[1])]\n",
    "\n",
    "error = [x[2] - z[1] for x,z in zip(Xs, Z_noisy)]\n",
    "\n",
    "x_axis = np.linspace(0, 15, len(Ps))\n",
    "x_axis = x_axis.tolist()\n",
    "\n",
    "plt.figure()\n",
    "plt.grid()\n",
    "plt.title('Error Bounds in 1 sigma')\n",
    "plt.plot(x_axis, one_sigma_error_y_pos, '--', label='Upper bound Error')\n",
    "plt.plot(x_axis, one_sigma_error_y_neg, '--', label='Lower bound Error')\n",
    "plt.plot(x_axis, error, label='Error between est state and measurement')\n",
    "plt.legend()"
   ]
  },
  {
   "cell_type": "markdown",
   "id": "f86e00b6-86fc-491a-8c0c-56abe25cc5c2",
   "metadata": {},
   "source": [
    "## Conclusion\n",
    "1. Playing with Kalman Filter in simulation is easy. You know the $Q$ and you know the $R$\n",
    "2. In practice, such evaluations with simulated as well as real data will help driving the choice of matrices\n",
    "3. Experimenting with order of filter and confirming that filter doesn't diverge can be done offline or online\n",
    "4. The end result is often that the Kalman filter is an inexact model of the system. This inexactness causes suboptimal behavior, which in the worst case causes the filter to diverge completely.\n",
    "5. If the Kalman filter is performing optimally its estimation errors will have following properties:\n",
    "\n",
    "   a. The mean of the estimation error is zero\n",
    "   \n",
    "   b. The covariance is described by Kalman Filter's covariance matrix "
   ]
  },
  {
   "cell_type": "code",
   "execution_count": null,
   "id": "4cc233ea-066d-48b6-91d9-29e251f24d93",
   "metadata": {},
   "outputs": [],
   "source": []
  }
 ],
 "metadata": {
  "kernelspec": {
   "display_name": "Python 3 (ipykernel)",
   "language": "python",
   "name": "python3"
  },
  "language_info": {
   "codemirror_mode": {
    "name": "ipython",
    "version": 3
   },
   "file_extension": ".py",
   "mimetype": "text/x-python",
   "name": "python",
   "nbconvert_exporter": "python",
   "pygments_lexer": "ipython3",
   "version": "3.9.1"
  }
 },
 "nbformat": 4,
 "nbformat_minor": 5
}
