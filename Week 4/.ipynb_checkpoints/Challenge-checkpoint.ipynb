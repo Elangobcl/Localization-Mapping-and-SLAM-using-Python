{
 "cells": [
  {
   "cell_type": "markdown",
   "id": "ee74edc2-521e-482f-bed6-3859ca57b9cb",
   "metadata": {},
   "source": [
    "## Tracking position of a ball executing a projectile motion\n",
    "A Ball fired through a cannon at an angle under the influence of gravity executes what is called as the Projectile motion\n",
    "\n",
    "The physics governing this motion can be represented as \n",
    "\n",
    "$ y = y_0 + v_{y0} t + \\frac{1}{2} g t^2 $\n",
    "\n",
    "$ x = x_0 + v_{x0} t $\n",
    "\n",
    "$\\frac{d^2 y}{dt} = g$\n",
    "\n",
    "$\\frac{d x}{dt} = v_{x0}$\n",
    "\n",
    "where,\n",
    "\n",
    "$t$ is the time in seconds\n",
    "\n",
    "$g = -9.8 \\frac{m}{s^2}$ is the acceleration due to gravity \n",
    "\n",
    "If $v_0$ is the initial velocity of ball launched at an angle of $\\theta$\n",
    "\n",
    "$v_{x0} = v_0 \\times cos(\\theta)$\n",
    "\n",
    "$v_{y0} = v_0 \\times sin(\\theta)$\n",
    "\n",
    "However, we know that the model is not perfect and there are unmodelled effects due to air drag and hence there is a Process noise\n",
    "\n",
    "Also, we will assume that we have a computer vision system that looks down on this planar motion and is able to segment the ball as a blob using image segmentation and provide $(x,y)$ position of the ball\n",
    "\n",
    "The measurment also is not perfect and is noisy which we can model as a gaussian noise\n",
    "\n",
    "Given the Process Noise and measurement noise, your task is to provide the optimal estimate for the position of the ball using kalman filter"
   ]
  },
  {
   "cell_type": "code",
   "execution_count": 1,
   "id": "cd30d52b-9ef5-4527-8991-caf6e6b7b014",
   "metadata": {},
   "outputs": [],
   "source": [
    "import matplotlib.pyplot as plt\n",
    "import numpy as np\n",
    "import math"
   ]
  },
  {
   "cell_type": "code",
   "execution_count": 2,
   "id": "24f0918f-50d7-43e9-8176-391f4ce15477",
   "metadata": {},
   "outputs": [],
   "source": [
    "%matplotlib widget"
   ]
  },
  {
   "cell_type": "code",
   "execution_count": 3,
   "id": "ba4b3224-0fb0-47ac-9878-1c6633e30b0d",
   "metadata": {},
   "outputs": [],
   "source": [
    "# Assume independent and uncorrelated noise for Process and Measurement\n",
    "# You can play around with these values to see how the filter performs\n",
    "Q = np.diag([0.01, 0.1, 0.1, 0.001]) ** 2\n",
    "R = np.diag([0.05, 0.05]) ** 2"
   ]
  },
  {
   "cell_type": "code",
   "execution_count": 4,
   "id": "a8aefd7c-7683-497f-9731-c1c58b86a3b8",
   "metadata": {},
   "outputs": [],
   "source": [
    "# Sim Params\n",
    "# You can change and experiment with these\n",
    "dt = 0.01\n",
    "N = 102\n",
    "v_0 = 10\n",
    "theta = math.pi / 6"
   ]
  },
  {
   "cell_type": "code",
   "execution_count": 5,
   "id": "f29896a1-5bf9-42f4-927b-717fcf7194df",
   "metadata": {},
   "outputs": [
    {
     "data": {
      "application/vnd.jupyter.widget-view+json": {
       "model_id": "75f23c0c600b4402bcd5e568ff86d6e4",
       "version_major": 2,
       "version_minor": 0
      },
      "text/plain": [
       "Canvas(toolbar=Toolbar(toolitems=[('Home', 'Reset original view', 'home', 'home'), ('Back', 'Back to previous …"
      ]
     },
     "metadata": {},
     "output_type": "display_data"
    },
    {
     "data": {
      "text/plain": [
       "<matplotlib.legend.Legend at 0x1e728b0f490>"
      ]
     },
     "execution_count": 5,
     "metadata": {},
     "output_type": "execute_result"
    }
   ],
   "source": [
    "# Create some noisy measurement data - You don't have to modify this part\n",
    "g = -9.81\n",
    "\n",
    "v_y = v_0 * math.sin(theta)\n",
    "v_x = v_0 * math.cos(theta)\n",
    "top_y = (v_0 * math.sin(theta)) ** 2 / (2 * 9.81)\n",
    "\n",
    "zs_y = np.zeros(N)\n",
    "zs_x = np.zeros(N)\n",
    "\n",
    "for i in range(1,N):\n",
    "    zs_y[i] = zs_y[i-1] + v_y * dt  + g  * (dt ** 2) / 2\n",
    "    v_y = v_y + g * dt\n",
    "    zs_x[i] = zs_x[i-1] + v_x * dt\n",
    "\n",
    "Zs = np.vstack((zs_x, zs_y))\n",
    "Z_noisy = list()\n",
    "\n",
    "Z_noisy = [np.array([[Zs[0,i]], [Zs[1,i]]]) + (np.random.multivariate_normal(np.zeros(2), R, 1)).T for i in range(N)]\n",
    "    \n",
    "z_noisy_x = [z[0,0] for z in Z_noisy]\n",
    "z_noisy_y = [z[1,0] for z in Z_noisy]\n",
    "\n",
    "plt.figure()\n",
    "plt.title('Noisy measurement input tracking ball position')\n",
    "plt.grid()\n",
    "plt.scatter(z_noisy_x, z_noisy_y, c='g', alpha=0.5, label='Noisy Measurement')\n",
    "plt.legend()"
   ]
  },
  {
   "cell_type": "markdown",
   "id": "00ab9dbf-4198-4a22-94b6-e9259cf1a8fb",
   "metadata": {},
   "source": [
    "## Choose State variables (and control input)\n",
    "Break down the equations above as first order differential equations\n",
    "\n",
    "_Hint: the gravitational constant can be treated as a control input_\n",
    "\n"
   ]
  },
  {
   "cell_type": "markdown",
   "id": "6511a87b-17a6-4409-a183-a96421d55ef4",
   "metadata": {},
   "source": [
    "## Write down the state transition equation\n",
    "$\\bar{X} = FX + BU$\n",
    "\n",
    "Write matrices for $F$ and $B$,\n",
    "\n"
   ]
  },
  {
   "cell_type": "code",
   "execution_count": 13,
   "id": "6c41be42-285e-4945-bf4f-b716a5742197",
   "metadata": {},
   "outputs": [],
   "source": [
    "def state_transition(X):\n",
    "    \"\"\"\n",
    "    :param X: np array of size 4 x 1 representing the State at t-1 \n",
    "    :return Updated State after one iteration of state update\n",
    "    \"\"\"\n",
    "    # Your code here\n",
    "    "
   ]
  },
  {
   "cell_type": "code",
   "execution_count": 14,
   "id": "303e5b13-1e2b-44d3-9523-a88b27639313",
   "metadata": {},
   "outputs": [],
   "source": [
    "def predictor(X, P):\n",
    "    \"\"\"\n",
    "    :param X: np array of size 4 x 1 representing State at t-1\n",
    "    :param P: np array of size 4 x 4 representing Covariance Estimate at t-1\n",
    "    :return X_pred,P_pred: A tuple of updated state and its covariance\n",
    "    \"\"\"\n",
    "    # Your code here\n",
    "    "
   ]
  },
  {
   "cell_type": "markdown",
   "id": "fdaafd0a-91e3-4d43-ba9a-836452d5eb72",
   "metadata": {},
   "source": [
    "## Find the Measurement function\n",
    "$ z = HX$\n",
    "\n",
    "Since, only observed variables are position of the ball, write the $H$ matrix"
   ]
  },
  {
   "cell_type": "code",
   "execution_count": 15,
   "id": "10617c90-9238-46f1-a7c0-09c04e2bc87f",
   "metadata": {},
   "outputs": [],
   "source": [
    "def measurement_function(X):\n",
    "    \"\"\"\n",
    "    :param X: np array of size 4x1 Predicted State of t\n",
    "    :return Mapped state to measurement space using measurment matrix H\n",
    "    \"\"\"\n",
    "    # Your code here\n"
   ]
  },
  {
   "cell_type": "code",
   "execution_count": 16,
   "id": "10b98106-534c-4fb4-86d4-0cab3d98c630",
   "metadata": {},
   "outputs": [],
   "source": [
    "def corrector(X, P, z):\n",
    "    \"\"\"\n",
    "    :param X:  np array of size 4x1 representing State after incorporating prediction\n",
    "    :parm P:  np array of size 4x4 representing Covariance after incorporating prediction\n",
    "    :parm z: np array of size 2 x 1 representing the measurement x, y at the current time instant\n",
    "    :return X_est, P_est: tuple of Estimated state and covariance after measurement update\n",
    "    \"\"\"\n",
    "    # Your code here\n",
    "    "
   ]
  },
  {
   "cell_type": "markdown",
   "id": "3e775929-4f89-4ac3-9a69-4dd882bde82c",
   "metadata": {},
   "source": [
    "## Initial Conditions\n",
    "Assuming, $x = 0  \\quad and \\quad y = 0$;\n",
    "\n",
    "$v_0 = 10$ and $\\theta = 30$ degrees\n",
    "\n",
    "Assign proper values to $X_0$ and $P_0$\n"
   ]
  },
  {
   "cell_type": "code",
   "execution_count": 17,
   "id": "dce50c52-cfe0-4b4a-b170-51320632fbef",
   "metadata": {},
   "outputs": [],
   "source": [
    "def getInitialStateAndCovariance():\n",
    "    \"\"\"\n",
    "    :return initial state and covariance matrix\n",
    "    \n",
    "    initial state should be a numpy array of size 4 x 1\n",
    "    Covariance should be covariance matrix of size 4 x 4\n",
    "    \"\"\"\n",
    "    X0 = np.zeros((4,1))\n",
    "    P0 = np.zeros((4,4))\n",
    "    \n",
    "    # Your code here\n",
    "    \n",
    "    return X0, P0"
   ]
  },
  {
   "cell_type": "code",
   "execution_count": 11,
   "id": "b0cb1ba1-248f-4e12-a05d-113e956bf9ba",
   "metadata": {},
   "outputs": [],
   "source": [
    "# Simulate\n",
    "X, P = getInitialStateAndCovariance() \n",
    "X_est, P_est = corrector(X, P, Z_noisy[0])\n",
    "Xs = [X_est]\n",
    "Ps = [P_est]\n",
    "for i in range(1, N):\n",
    "    X_pred, P_pred = predictor(X_est, P_est)\n",
    "    if i % 2 == 0: # Choose the frequency of update\n",
    "        X_est, P_est = corrector(X_pred, P_pred, Z_noisy[i])\n",
    "    else:\n",
    "        X_est = X_pred\n",
    "        P_est = P_pred\n",
    "        \n",
    "    Xs.append(X_est)\n",
    "    Ps.append(P_est)"
   ]
  },
  {
   "cell_type": "code",
   "execution_count": 12,
   "id": "4e8a82ea-8d7c-4a4d-a7ce-80280dff8100",
   "metadata": {},
   "outputs": [
    {
     "data": {
      "application/vnd.jupyter.widget-view+json": {
       "model_id": "2d799b6cf00b4cc199fdc6969a52d13e",
       "version_major": 2,
       "version_minor": 0
      },
      "text/plain": [
       "Canvas(toolbar=Toolbar(toolitems=[('Home', 'Reset original view', 'home', 'home'), ('Back', 'Back to previous …"
      ]
     },
     "metadata": {},
     "output_type": "display_data"
    },
    {
     "data": {
      "text/plain": [
       "<matplotlib.legend.Legend at 0x1e728babc10>"
      ]
     },
     "execution_count": 12,
     "metadata": {},
     "output_type": "execute_result"
    }
   ],
   "source": [
    "# Plot Trajectory\n",
    "fig, ax = plt.subplots()\n",
    "X_pts = [X[0] for X in Xs]\n",
    "Y_pts = [X[2] for X in Xs]\n",
    "\n",
    "Z_n_x = [z_n[0] for z_n in Z_noisy]\n",
    "Z_n_y = [z_n[1] for z_n in Z_noisy]\n",
    "\n",
    "plt.grid()\n",
    "plt.title(\"Estimated XY Position vs time\")\n",
    "ax.plot(X_pts, Y_pts, label=\"Robot Trajectory\")\n",
    "\n",
    "ax.scatter(Z_n_x, Z_n_y, marker='o', c='green', label=\"Measurements\")\n",
    "\n",
    "plt.legend()"
   ]
  },
  {
   "cell_type": "markdown",
   "id": "495d36ca-d44f-449f-ab66-acfe0051170b",
   "metadata": {},
   "source": [
    "## Optional\n",
    "1. Tune the noise parameters to smoothen the trajectory\n",
    "2. Evalute the filter and verify that error between measured state and estimated state is within bounds of covariance matrix"
   ]
  },
  {
   "cell_type": "code",
   "execution_count": null,
   "id": "f66f9dcd-ac5b-4d50-aff8-ec6eed177677",
   "metadata": {},
   "outputs": [],
   "source": []
  }
 ],
 "metadata": {
  "kernelspec": {
   "display_name": "Python 3",
   "language": "python",
   "name": "python3"
  },
  "language_info": {
   "codemirror_mode": {
    "name": "ipython",
    "version": 3
   },
   "file_extension": ".py",
   "mimetype": "text/x-python",
   "name": "python",
   "nbconvert_exporter": "python",
   "pygments_lexer": "ipython3",
   "version": "3.8.8"
  }
 },
 "nbformat": 4,
 "nbformat_minor": 5
}
