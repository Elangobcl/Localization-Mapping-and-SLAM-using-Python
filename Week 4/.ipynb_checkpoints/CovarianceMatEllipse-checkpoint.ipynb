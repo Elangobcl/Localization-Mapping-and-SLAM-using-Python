{
 "cells": [
  {
   "cell_type": "code",
   "execution_count": 29,
   "id": "98bf103b-df47-440d-a347-ccc1c6503515",
   "metadata": {},
   "outputs": [],
   "source": [
    "import numpy as np\n",
    "import matplotlib.pyplot as plt\n",
    "import math"
   ]
  },
  {
   "cell_type": "code",
   "execution_count": 30,
   "id": "29045352-1f37-4a3f-8272-877b9fdce677",
   "metadata": {},
   "outputs": [],
   "source": [
    "%matplotlib widget"
   ]
  },
  {
   "cell_type": "markdown",
   "id": "8094fb9f-1250-4ddf-be7a-6936759f2e6e",
   "metadata": {},
   "source": [
    "# Covariance Matrix as white noise\n",
    "$\\Sigma_w = \\begin{bmatrix} \n",
    "1 & 0 \\\\\n",
    "0 & 1\n",
    "\\end{bmatrix}$"
   ]
  },
  {
   "cell_type": "code",
   "execution_count": 31,
   "id": "64c5edef-d6b8-4448-871e-5ad945f21fd3",
   "metadata": {},
   "outputs": [
    {
     "data": {
      "application/vnd.jupyter.widget-view+json": {
       "model_id": "a1cfe4c9b98b46b3b2888981a807aec1",
       "version_major": 2,
       "version_minor": 0
      },
      "text/plain": [
       "Canvas(toolbar=Toolbar(toolitems=[('Home', 'Reset original view', 'home', 'home'), ('Back', 'Back to previous …"
      ]
     },
     "metadata": {},
     "output_type": "display_data"
    },
    {
     "data": {
      "text/plain": [
       "<matplotlib.collections.PathCollection at 0x1ff8cb6a5b0>"
      ]
     },
     "execution_count": 31,
     "metadata": {},
     "output_type": "execute_result"
    }
   ],
   "source": [
    "X = np.random.normal(0, 1, 500)\n",
    "Y = np.random.normal(0, 1, 500)\n",
    "plt.figure()\n",
    "plt.grid()\n",
    "plt.title('Generated Data from uncorrelated white noise data')\n",
    "plt.axis('equal');\n",
    "plt.scatter(X,Y)"
   ]
  },
  {
   "cell_type": "markdown",
   "id": "a0af75a9-7597-4afc-90e1-3d64c7ecdd35",
   "metadata": {},
   "source": [
    "# Eigen Decomposition\n",
    "$\\Sigma v = \\lambda v$\n",
    "\n",
    "where,\n",
    "$\\lambda$ is the eigen value\n",
    "\n",
    "$v$ is the eigen vector"
   ]
  },
  {
   "cell_type": "code",
   "execution_count": 32,
   "id": "142d44f8-6e02-498f-bc0c-ab2fbc748b24",
   "metadata": {},
   "outputs": [
    {
     "name": "stdout",
     "output_type": "stream",
     "text": [
      "[1. 1.]\n",
      "[[1. 0.]\n",
      " [0. 1.]]\n"
     ]
    }
   ],
   "source": [
    "w, v = np.linalg.eig(np.identity(2))\n",
    "print(w)\n",
    "print(v)"
   ]
  },
  {
   "cell_type": "code",
   "execution_count": 33,
   "id": "82858b20-34ea-493d-a0c7-53d523f47985",
   "metadata": {},
   "outputs": [
    {
     "data": {
      "application/vnd.jupyter.widget-view+json": {
       "model_id": "30b7a77004f740d9bd27206d32c648ec",
       "version_major": 2,
       "version_minor": 0
      },
      "text/plain": [
       "Canvas(toolbar=Toolbar(toolitems=[('Home', 'Reset original view', 'home', 'home'), ('Back', 'Back to previous …"
      ]
     },
     "metadata": {},
     "output_type": "display_data"
    },
    {
     "data": {
      "text/plain": [
       "<matplotlib.patches.FancyArrow at 0x1ff8cb9b220>"
      ]
     },
     "execution_count": 33,
     "metadata": {},
     "output_type": "execute_result"
    }
   ],
   "source": [
    "X = np.random.normal(0, 1, 500)\n",
    "Y = np.random.normal(0, 1, 500)\n",
    "plt.figure()\n",
    "plt.grid()\n",
    "plt.title('Generated Data from uncorrelated white noise data')\n",
    "plt.axis('equal');\n",
    "plt.scatter(X,Y)\n",
    "plt.arrow(0 , 0, w[0] * v[0,0], w[0] * v[1,0], width = 0.1, fc='g', length_includes_head=True)\n",
    "plt.arrow(0 , 0, w[1] * v[0,1], w[1] * v[1,1], width = 0.1, fc='r', length_includes_head=True)"
   ]
  },
  {
   "cell_type": "markdown",
   "id": "6f93ba3b-2b78-4890-a502-cbfdb7876fa3",
   "metadata": {},
   "source": [
    "### Scaling of Covariance Matrix\n",
    "Suppose we scale the covariance matrix across Y\n",
    "\n",
    "$ \\Sigma_s = \\begin{bmatrix}\n",
    "s_x & 0 \\\\\n",
    "0 & s_y\n",
    "\\end{bmatrix} \\times \\Sigma_w $\n",
    "\n",
    "Let, $s_x = 1$ and $s_y = 16$\n",
    "\n",
    "$\\Sigma_s = \\begin{bmatrix}\n",
    "1 & 0 \\\\\n",
    "0 & 16\n",
    "\\end{bmatrix} = \\begin{bmatrix}\n",
    "\\sigma_x^2 & 0 \\\\\n",
    "0 & \\sigma_y^2 \\end{bmatrix}$"
   ]
  },
  {
   "cell_type": "code",
   "execution_count": 34,
   "id": "726e4eef-dd2e-4be5-beae-bf06a59f16d1",
   "metadata": {},
   "outputs": [
    {
     "name": "stdout",
     "output_type": "stream",
     "text": [
      "[ 1. 16.]\n"
     ]
    },
    {
     "data": {
      "application/vnd.jupyter.widget-view+json": {
       "model_id": "74fa95c95e2b4dfda28b820f2373862b",
       "version_major": 2,
       "version_minor": 0
      },
      "text/plain": [
       "Canvas(toolbar=Toolbar(toolitems=[('Home', 'Reset original view', 'home', 'home'), ('Back', 'Back to previous …"
      ]
     },
     "metadata": {},
     "output_type": "display_data"
    },
    {
     "data": {
      "text/plain": [
       "(-3.2108706704879593,\n",
       " 3.4911017933425703,\n",
       " -14.02867737447813,\n",
       " 16.083798293400818)"
      ]
     },
     "execution_count": 34,
     "metadata": {},
     "output_type": "execute_result"
    }
   ],
   "source": [
    "X = np.random.normal(0,1,500)\n",
    "Y = np.random.normal(0,4,500)\n",
    "\n",
    "Cov_s = np.array([[1, 0], [0,16]])\n",
    "w, v = np.linalg.eig(Cov_s)\n",
    "print(w)\n",
    "\n",
    "plt.figure()\n",
    "plt.grid()\n",
    "plt.scatter(X, Y)\n",
    "plt.arrow(0, 0, 3 * math.sqrt(w[0]) * v[0,0], 3 * math.sqrt(w[0]) * v[1,0], fc = 'g', width = 0.2, length_includes_head=True)\n",
    "plt.arrow(0, 0, 3 * math.sqrt(w[1]) * v[0,1], 3 * math.sqrt(w[1]) * v[1,1], fc='r', width = 0.3, length_includes_head=True)\n",
    "plt.title('Scaled spread in the y direction')\n",
    "plt.axis('equal')"
   ]
  },
  {
   "cell_type": "markdown",
   "id": "96e9bc14-5af3-4b5f-874b-f46e231e2858",
   "metadata": {},
   "source": [
    "## Axis Aligned (non-correlated) data\n",
    "For Axis Aligned data, the variance is equivalent to eigen values\n",
    "\n",
    "$\\lambda_j$ = $\\sigma_j^2$  \n",
    "\n",
    "Eigen Vectors (unit vector) are along the axes directions X & Y"
   ]
  },
  {
   "cell_type": "markdown",
   "id": "80f69cfa-b981-49d3-a88b-3aa5dcd561be",
   "metadata": {},
   "source": [
    "## But What happens when the data is correlated?\n",
    "Let, \n",
    "$\\mu = \\begin{bmatrix}\n",
    "0 \\\\\n",
    "0\n",
    "\\end{bmatrix}$\n",
    "\n",
    "$\\Sigma = \\begin{bmatrix}\n",
    "4 & 3 \\\\\n",
    "3 & 9\n",
    "\\end{bmatrix}$\n",
    "\n",
    "Drawing from a multivariate normal distribution"
   ]
  },
  {
   "cell_type": "code",
   "execution_count": 35,
   "id": "643fa1b4-eb2d-4f2a-980b-10c428479d10",
   "metadata": {},
   "outputs": [
    {
     "name": "stdout",
     "output_type": "stream",
     "text": [
      "[ 2.59487516 10.40512484]\n",
      "[[-0.90558942 -0.4241554 ]\n",
      " [ 0.4241554  -0.90558942]]\n"
     ]
    },
    {
     "data": {
      "application/vnd.jupyter.widget-view+json": {
       "model_id": "8ff0715b32f14493827143efd1fe6d03",
       "version_major": 2,
       "version_minor": 0
      },
      "text/plain": [
       "Canvas(toolbar=Toolbar(toolitems=[('Home', 'Reset original view', 'home', 'home'), ('Back', 'Back to previous …"
      ]
     },
     "metadata": {},
     "output_type": "display_data"
    },
    {
     "data": {
      "text/plain": [
       "(-5.752231659005138, 6.12959006122698, -9.759201437102327, 12.146828648642074)"
      ]
     },
     "execution_count": 35,
     "metadata": {},
     "output_type": "execute_result"
    }
   ],
   "source": [
    "mu = np.zeros(2)\n",
    "sigma = np.array([[4, 3], [3, 9]])\n",
    "XY = np.random.multivariate_normal(mu, sigma, 500)\n",
    "\n",
    "w, v = np.linalg.eig(sigma)\n",
    "print(w)\n",
    "print(v)\n",
    "plt.figure()\n",
    "plt.grid()\n",
    "plt.scatter(XY[:,0], XY[:,1])\n",
    "plt.arrow(0, 0, 3 * math.sqrt(w[0]) * v[0,0], 3 * math.sqrt(w[0]) * v[1,0], fc = 'g', width = 0.2, length_includes_head=True)\n",
    "plt.arrow(0, 0, 3 * math.sqrt(w[1]) * v[0,1], 3 * math.sqrt(w[1]) * v[1,1], fc='r', width = 0.2, length_includes_head=True)\n",
    "plt.axis('equal')"
   ]
  },
  {
   "cell_type": "markdown",
   "id": "50868c92-b669-41d5-bfd8-13e8efbb9e6a",
   "metadata": {},
   "source": [
    "## Non-axis aligned (correlated) data\n",
    "Eigen values represent the magnitude of spread along the eigen vector direction\n",
    "\n",
    "Variance Components in the covariance matrix represent the magnitude of spread along the global X and Y axes\n",
    "\n",
    "Zero Covariance means Variance Components and Eigen Values will be equivalent\n",
    "\n",
    "Eigen Vectors are always going to be orthonormal for a symmetric matrix"
   ]
  },
  {
   "cell_type": "markdown",
   "id": "8d4e17a9-4ec7-408e-9b92-1beae678ab05",
   "metadata": {},
   "source": [
    "## Covariance as Rotation and Scaling\n",
    "Let, $T = RS$\n",
    "\n",
    "We know,\n",
    "\n",
    "$\\Sigma v = \\lambda v$\n",
    "\n",
    "For All Eigen values and Eigen Vectors,\n",
    "\n",
    "$\\Sigma V = V \\Lambda$\n",
    "\n",
    "where,\n",
    "\n",
    "$V$ is the Matrix representing the eigen vectors on its columns\n",
    "$\\Lambda$ is the diagonal matrix with the corresponding eigen values for the eigen vectors\n",
    "\n",
    "**Remember that returned eigen vectors and  weights are consistent or aligned with the original covariance matrix**\n",
    "\n",
    "Therefore,\n",
    "\n",
    "$\\Sigma = V \\Lambda V^{-1}$ is the Eigen Decomposition, \n",
    "Since the eigen vectors are orthonormal for Cov Matrix, it is also called as the spectral decomposition\n",
    "\n",
    "Also, since the eigen vectors are orthonormal, they form a orthonormal basis. Hence, satisfy the properties for a Rotation Matrix\n",
    "$\\Sigma = R S (S R)^{-1} $\n",
    "\n",
    "where,\n",
    "$R = V$\n",
    "\n",
    "$S = \\sqrt{\\Lambda}$\n",
    "\n",
    "Also, \n",
    "$S^{-1} = S$\n",
    "\n",
    "$R^{-1} = R^{T}$\n",
    "\n",
    "Hence,\n",
    "$\\Sigma = RSSR^T  =  T T ^T$ and,\n",
    "\n",
    "$\\Sigma = RSSR^T \\times \\Sigma_w$\n",
    "\n",
    "So, we can get whatever Covariance Matrix of our choice by using the appropriate scaling"
   ]
  },
  {
   "cell_type": "markdown",
   "id": "1a150133-b8a6-456a-8761-eecffd8d9fbe",
   "metadata": {},
   "source": [
    "## Recover underlying scale and rotation\n",
    "The underlying eigen decomposition can be leveraged,\n",
    "\n",
    "In a way it separates the covariance matrix as Rotation and Scale\n",
    "\n",
    "$\\theta = \\tan^{-1} \\frac{V(1,0)}{V(0,0)}$\n",
    "\n",
    "$ S_x = \\sqrt{\\Lambda(0,0)}$;\n",
    "\n",
    "$ S_y = \\sqrt{\\Lambda(1,1)}$"
   ]
  },
  {
   "cell_type": "code",
   "execution_count": 38,
   "id": "b4652dad-808d-4f3d-9cdc-71395384734a",
   "metadata": {},
   "outputs": [
    {
     "name": "stdout",
     "output_type": "stream",
     "text": [
      "The orientation of Ellipse is: 25.097214453867405\n",
      "The value of sigma obtained after combination of decomposition is: [[9. 3.]\n",
      " [3. 4.]]\n"
     ]
    },
    {
     "data": {
      "application/vnd.jupyter.widget-view+json": {
       "model_id": "b4c99990512f4dfb83c27a8dcdad4be5",
       "version_major": 2,
       "version_minor": 0
      },
      "text/plain": [
       "Canvas(toolbar=Toolbar(toolitems=[('Home', 'Reset original view', 'home', 'home'), ('Back', 'Back to previous …"
      ]
     },
     "metadata": {},
     "output_type": "display_data"
    },
    {
     "data": {
      "text/plain": [
       "(-9.884505498573835, 9.651471763289553, -6.949825419249748, 7.669523930679402)"
      ]
     },
     "execution_count": 38,
     "metadata": {},
     "output_type": "execute_result"
    }
   ],
   "source": [
    "mu = np.zeros(2)\n",
    "sigma = np.array([[9, 3], [3, 4]])\n",
    "\n",
    "w, v = np.linalg.eig(sigma)\n",
    "\n",
    "theta = math.atan2(v[1,0], v[0,0])\n",
    "scales = (math.sqrt(w[0]), math.sqrt(w[1]))\n",
    "\n",
    "print(f'The orientation of Ellipse is: {theta * 180 / math.pi}')\n",
    "\n",
    "R = np.array([[math.cos(theta), -math.sin(theta)], [math.sin(theta), math.cos(theta)]])\n",
    "\n",
    "S = np.array([[scales[0], 0], [0, scales[1]]])\n",
    "\n",
    "sigma_rot = R @ S @ S @ R.T\n",
    "print(f'The value of sigma obtained after combination of decomposition is: {sigma_rot}')\n",
    "\n",
    "# Using the one from above cell for the sake of comparison\n",
    "XY = np.random.multivariate_normal(mu, sigma_rot, 500)\n",
    "\n",
    "w, v = np.linalg.eig(sigma)\n",
    "\n",
    "plt.figure()\n",
    "plt.grid()\n",
    "plt.scatter(XY[:,0], XY[:,1])\n",
    "plt.arrow(0, 0, 3 * scales[0] * v[0,0], 3 * scales[0] * v[1,0], fc = 'g', width = 0.2, length_includes_head=True)\n",
    "plt.arrow(0, 0, 3 * scales[1] * v[0,1], 3 * scales[1] * v[1,1], fc='r', width = 0.2, length_includes_head=True)\n",
    "plt.axis('equal')"
   ]
  },
  {
   "cell_type": "markdown",
   "id": "3be68582-be41-4fe9-ae11-384e476e9eee",
   "metadata": {},
   "source": [
    "### Knowing Rotation also allows us to remove correlation within the data\n",
    "All we need to do is use the rotation matrix to transform the points\n",
    "\n",
    "For getting the covariance matrix with zero covariance,\n",
    "$ \\Sigma_{uncorrelated} = R^T \\times \\Sigma \\times R$\n",
    "\n",
    "This is also called as the Similarity Transform"
   ]
  },
  {
   "cell_type": "code",
   "execution_count": 39,
   "id": "d7e13dd0-3c9e-4ca7-b077-ce633749bab0",
   "metadata": {},
   "outputs": [
    {
     "name": "stdout",
     "output_type": "stream",
     "text": [
      "[[ 1.04051248e+01 -4.44089210e-16]\n",
      " [ 3.33066907e-16  2.59487516e+00]]\n",
      "[[9. 3.]\n",
      " [3. 4.]]\n"
     ]
    }
   ],
   "source": [
    "sigma_uncorr = R.T @ sigma_rot @ R\n",
    "print(sigma_uncorr)\n",
    "sigma_corr = R @ sigma_uncorr @ R.T\n",
    "print(sigma_corr)"
   ]
  },
  {
   "cell_type": "markdown",
   "id": "3f95a041-9b2f-42de-9be1-69e6b508c6e8",
   "metadata": {},
   "source": [
    "## Drawing Error Elllipse\n",
    "Strictly speaking the $3 \\times \\sigma$ approach does not give the accurate 99.7% interpretation of underlying data\n",
    "\n",
    "It is a good ballpark number to draw our error ellipse and it can be treated as an upper bound\n",
    "\n",
    "Equation of Ellipse aligned with the axes and centered at origin is given by:\n",
    "\n",
    "$ \\frac{x^2}{a^2} + \\frac{y^2}{b^2} = 1$ \n",
    "\n",
    "where, \n",
    "$a$ = $\\frac{1}{2}$ times major axis;\n",
    "\n",
    "$b$ = $\\frac{1}{2}$ times minor axis\n",
    "\n",
    "It can also be expressed as a locus of points given by:\n",
    "\n",
    "$x = a cos(\\phi)$;\n",
    "\n",
    "$y = b cos(\\phi)$\n",
    "\n",
    "Where $\\phi$ is the angle of the line connecting the point on the ellipse to the center of ellipse with the X-axis\n",
    "\n",
    "To Draw a error ellipse for any covariance matrix, we simply need to find out major and minor axes and rotate the points based on the $\\theta$ value"
   ]
  },
  {
   "cell_type": "code",
   "execution_count": 40,
   "id": "45370197-7b6b-43d5-9bf2-01cc58ca1116",
   "metadata": {},
   "outputs": [
    {
     "data": {
      "application/vnd.jupyter.widget-view+json": {
       "model_id": "0955a7f92c73462791712853c9695da6",
       "version_major": 2,
       "version_minor": 0
      },
      "text/plain": [
       "Canvas(toolbar=Toolbar(toolitems=[('Home', 'Reset original view', 'home', 'home'), ('Back', 'Back to previous …"
      ]
     },
     "metadata": {},
     "output_type": "display_data"
    },
    {
     "data": {
      "text/plain": [
       "Text(0.5, 1.0, 'Correlated Data with Ellipse')"
      ]
     },
     "execution_count": 40,
     "metadata": {},
     "output_type": "execute_result"
    }
   ],
   "source": [
    "mu = np.zeros(2)\n",
    "sigma = np.array([[9, 3], [3, 4]])\n",
    "w, v = np.linalg.eig(sigma)\n",
    "\n",
    "dom = np.linspace(-math.pi, math.pi, 500, endpoint=True)\n",
    "\n",
    "X = list()\n",
    "Y = list()\n",
    "\n",
    "a = 3 * math.sqrt(w[0])\n",
    "b = 3 * math.sqrt(w[1])\n",
    "\n",
    "for p in dom:\n",
    "    X.append(a * math.cos(p))\n",
    "    Y.append(b * math.sin(p))\n",
    "    \n",
    "axes_aligned_points = np.vstack((np.array(X), np.array(Y)))\n",
    "\n",
    "theta = math.atan2(v[1,0], v[0,0])\n",
    "\n",
    "R = np.array([[math.cos(theta), -math.sin(theta)], [math.sin(theta), math.cos(theta)]])\n",
    "\n",
    "transformed_points = R @ axes_aligned_points\n",
    "\n",
    "XY = np.random.multivariate_normal(mu, sigma, 500)\n",
    "plt.figure()\n",
    "plt.grid()\n",
    "plt.scatter(XY[:,0], XY[:,1])\n",
    "plt.arrow(0, 0, a * v[0,0], a * v[1,0], fc = 'g', width = 0.2, length_includes_head=True)\n",
    "plt.arrow(0, 0, b * v[0,1], b * v[1,1], fc='r', width = 0.2, length_includes_head=True)\n",
    "plt.scatter(transformed_points[0,:], transformed_points[1,:], color='k')\n",
    "plt.title(\"Correlated Data with Ellipse\")"
   ]
  },
  {
   "cell_type": "markdown",
   "id": "e29835e9-02ec-4a17-a85e-da41fe8fcc83",
   "metadata": {},
   "source": [
    "## Improving Bounds of Covariance Error Ellipse\n",
    "Individual X and Y are normally distributed, but the sum of squares of their distribution follows a Chi(squared) distribution.\n",
    "\n",
    "The ellipse underlying that distribution can be represnted as\n",
    "$ \\frac{x^2}{\\sigma_x^2} + \\frac{y^2}{\\sigma_y^2} = s$ \n",
    "\n",
    "where,\n",
    "\n",
    "$s$ = 5.991 for 95% of data\n",
    "\n",
    "$s$ = 9.210 for 99% of data\n",
    "\n",
    "$s$ = 4.605 for 90% of data \n",
    "\n",
    "Therefore, all we have to do is modify our ellipse equation params $a$ and $b$ as:\n",
    "\n",
    "$a =\\sqrt{s \\times w_x}$;\n",
    "\n",
    "$b = \\sqrt{s \\times w_y}$"
   ]
  },
  {
   "cell_type": "code",
   "execution_count": 41,
   "id": "13ec9e76-097e-4fcf-8d2c-25a2e699cff6",
   "metadata": {},
   "outputs": [
    {
     "data": {
      "application/vnd.jupyter.widget-view+json": {
       "model_id": "ce3e718b4a024dbeb972f5169c19e31d",
       "version_major": 2,
       "version_minor": 0
      },
      "text/plain": [
       "Canvas(toolbar=Toolbar(toolitems=[('Home', 'Reset original view', 'home', 'home'), ('Back', 'Back to previous …"
      ]
     },
     "metadata": {},
     "output_type": "display_data"
    },
    {
     "data": {
      "text/plain": [
       "Text(0.5, 1.0, 'Correlated Data with Ch-Squared Ellipse')"
      ]
     },
     "execution_count": 41,
     "metadata": {},
     "output_type": "execute_result"
    }
   ],
   "source": [
    "mu = np.zeros(2)\n",
    "sigma = np.array([[9, 3], [3, 4]])\n",
    "w, v = np.linalg.eig(sigma)\n",
    "\n",
    "dom = np.linspace(-math.pi, math.pi, 500, endpoint=True)\n",
    "\n",
    "bound_map = {'99':9.210, '95':5.991, '90':4.605}\n",
    "color_map = {'99':'orange', '95':'black', '90':'cyan'}\n",
    "axes_aligned_points_bounds = dict()\n",
    "\n",
    "for bound, s in bound_map.items():\n",
    "    X = list()\n",
    "    Y = list()\n",
    "    a = math.sqrt(s) * math.sqrt(w[0])\n",
    "    b = math.sqrt(s) * math.sqrt(w[1])\n",
    "    for p in dom:\n",
    "        X.append(a * math.cos(p))\n",
    "        Y.append(b * math.sin(p))\n",
    "\n",
    "    axes_aligned_points_bounds[bound] = np.vstack((np.array(X), np.array(Y)))\n",
    "\n",
    "theta = math.atan2(v[1,0], v[0,0])\n",
    "\n",
    "R = np.array([[math.cos(theta), -math.sin(theta)], [math.sin(theta), math.cos(theta)]])\n",
    "\n",
    "XY = np.random.multivariate_normal(mu, sigma, 500)\n",
    "fig, ax = plt.subplots()\n",
    "plt.grid()\n",
    "ax.scatter(XY[:,0], XY[:,1])\n",
    "ax.arrow(0, 0, a * v[0,0], a * v[1,0], fc = 'g', width = 0.2, length_includes_head=True)\n",
    "ax.arrow(0, 0, b * v[0,1], b * v[1,1], fc='r', width = 0.2, length_includes_head=True)\n",
    "\n",
    "for bound, axes_aligned_points in axes_aligned_points_bounds.items():\n",
    "    transformed_points = R @ axes_aligned_points\n",
    "    ax.scatter(transformed_points[0,:], transformed_points[1,:], label=bound + ' %', c=color_map[bound], alpha = 0.5)\n",
    "    \n",
    "plt.legend()\n",
    "plt.title(\"Correlated Data with Ch-Squared Ellipse\")"
   ]
  },
  {
   "cell_type": "markdown",
   "id": "9de13262-1730-45f4-9691-b0b5c78bad83",
   "metadata": {},
   "source": [
    "## Conclusion\n",
    "* We saw that the bounds of covariance ellipse can be improved by using a Chi Squared distribution\n",
    "* Usually, we are still concerned with 1 $\\sigma$, 2 $\\sigma$ and 3 $\\sigma$ ellipses. Even though they don't represent the actual 68-95-99.7 of data\n",
    "* We can get away with this representation as typically real world data is not gaussian\n",
    "* For all practical purposes, we would still be using 1 $\\sigma$, 2 $\\sigma$ and 3 $\\sigma$ ellipses"
   ]
  },
  {
   "cell_type": "code",
   "execution_count": 42,
   "id": "5bb3390a-aae9-4db6-a67e-49cd2e5e8315",
   "metadata": {},
   "outputs": [],
   "source": [
    "def draw_error_ellipse(ax, mu, sigma, sigma_bounds=[1,2,3], show_points=False):\n",
    "    w, v = np.linalg.eig(sigma)\n",
    "\n",
    "    dom = np.linspace(-math.pi, math.pi, 500, endpoint=True)\n",
    "\n",
    "    axes_aligned_points_bounds = dict()\n",
    "\n",
    "    for bound in sigma_bounds:\n",
    "        X = list()\n",
    "        Y = list()\n",
    "        a = bound * math.sqrt(w[0])\n",
    "        b = bound * math.sqrt(w[1])\n",
    "        for p in dom:\n",
    "            X.append(a * math.cos(p))\n",
    "            Y.append(b * math.sin(p))\n",
    "\n",
    "        axes_aligned_points_bounds[bound] = np.vstack((np.array(X), np.array(Y)))\n",
    "\n",
    "    theta = math.atan2(v[1,0], v[0,0])\n",
    "\n",
    "    R = np.array([[math.cos(theta), -math.sin(theta)], [math.sin(theta), math.cos(theta)]])\n",
    "\n",
    "    if show_points:\n",
    "        XY = np.random.multivariate_normal(mu, sigma, 500)\n",
    "        ax.scatter(XY[:,0], XY[:,1], alpha = 0.1)\n",
    "        \n",
    "    ax.arrow(0, 0, v[0,0], v[1,0], fc = 'g', width = 0.02, length_includes_head=True)\n",
    "    ax.arrow(0, 0, v[0,1], v[1,1], fc='r', width = 0.02, length_includes_head=True)\n",
    "\n",
    "    for bound, axes_aligned_points in axes_aligned_points_bounds.items():\n",
    "        transformed_points = R @ axes_aligned_points\n",
    "        ax.scatter(transformed_points[0,:], transformed_points[1,:], c='k', alpha = 0.5)"
   ]
  },
  {
   "cell_type": "code",
   "execution_count": 43,
   "id": "452a0736-6d08-4258-8a02-057420b2831b",
   "metadata": {},
   "outputs": [
    {
     "data": {
      "application/vnd.jupyter.widget-view+json": {
       "model_id": "d08f52b6d8b748f4a80927e722a8dca7",
       "version_major": 2,
       "version_minor": 0
      },
      "text/plain": [
       "Canvas(toolbar=Toolbar(toolitems=[('Home', 'Reset original view', 'home', 'home'), ('Back', 'Back to previous …"
      ]
     },
     "metadata": {},
     "output_type": "display_data"
    },
    {
     "data": {
      "text/plain": [
       "(-9.89995172743879, 9.899950164009518, -6.599992539414745, 6.599912223707434)"
      ]
     },
     "execution_count": 43,
     "metadata": {},
     "output_type": "execute_result"
    }
   ],
   "source": [
    "mu = np.zeros((2,1))\n",
    "sigma = np.array([[9, 3], [3, 4]])\n",
    "fig, ax = plt.subplots()\n",
    "plt.grid()\n",
    "draw_error_ellipse(ax, mu, sigma)\n",
    "plt.title(\"Bounds of underlying data\")\n",
    "plt.axis('equal')"
   ]
  },
  {
   "cell_type": "code",
   "execution_count": 44,
   "id": "e51d3019-67e2-46f8-80a1-15731a30beb2",
   "metadata": {},
   "outputs": [
    {
     "name": "stdout",
     "output_type": "stream",
     "text": [
      "[[0.12246999 0.        ]\n",
      " [0.         0.12246999]]\n"
     ]
    },
    {
     "data": {
      "application/vnd.jupyter.widget-view+json": {
       "model_id": "ff0d64c9562747a7b2a91a90f57fa928",
       "version_major": 2,
       "version_minor": 0
      },
      "text/plain": [
       "Canvas(toolbar=Toolbar(toolitems=[('Home', 'Reset original view', 'home', 'home'), ('Back', 'Back to previous …"
      ]
     },
     "metadata": {},
     "output_type": "display_data"
    },
    {
     "data": {
      "text/plain": [
       "(-1.154857475284713,\n",
       " 1.1548366685792266,\n",
       " -1.1548527937618036,\n",
       " 1.1548527937618036)"
      ]
     },
     "execution_count": 44,
     "metadata": {},
     "output_type": "execute_result"
    }
   ],
   "source": [
    "mu = np.zeros((2,1))\n",
    "sigma = np.array([[0.12246999, 0], [0, 0.12246999]])\n",
    "print(sigma)\n",
    "fig, ax = plt.subplots()\n",
    "plt.grid()\n",
    "draw_error_ellipse(ax, mu, sigma, sigma_bounds=[3])\n",
    "plt.title(\"Bounds of underlying data\")\n",
    "plt.axis('equal')"
   ]
  },
  {
   "cell_type": "code",
   "execution_count": null,
   "id": "782a7eb6-d15c-43da-b8b5-800960478bed",
   "metadata": {},
   "outputs": [],
   "source": []
  }
 ],
 "metadata": {
  "kernelspec": {
   "display_name": "Python 3",
   "language": "python",
   "name": "python3"
  },
  "language_info": {
   "codemirror_mode": {
    "name": "ipython",
    "version": 3
   },
   "file_extension": ".py",
   "mimetype": "text/x-python",
   "name": "python",
   "nbconvert_exporter": "python",
   "pygments_lexer": "ipython3",
   "version": "3.8.8"
  }
 },
 "nbformat": 4,
 "nbformat_minor": 5
}
