{
 "cells": [
  {
   "cell_type": "markdown",
   "id": "e5c5b867-914f-4e94-8fd3-7741a4068468",
   "metadata": {
    "tags": []
   },
   "source": [
    "# Simulating a Diff Drive Robot with Unicycle Model\n",
    "\n",
    "<img src=\"supportingMaterial/images/UnicycleWithDiffDrive.png\" alt=\"Test Image\" width=\"300\" style=\"float: center\"/>\n",
    "\n",
    "Let's apply Unicycle Model to diff drive Robot and simulate a dead reckoning/ odometry based Localization"
   ]
  },
  {
   "cell_type": "markdown",
   "id": "4085f1d4-5082-4079-b292-03ac8eaa8385",
   "metadata": {},
   "source": [
    "## System Dynamics\n",
    "As we know, Model Kinematics for Unicycle model looks like\n",
    "\n",
    "$\\dot{X}$ = $f(x_r,y_r,\\theta_r, v, \\omega)$ \n",
    "\n",
    "$\\dot{X} = \\begin{pmatrix}\n",
    "\\dot{x_r} \\\\\n",
    "\\dot{y_r} \\\\\n",
    "\\dot{\\theta_r}\n",
    "\\end{pmatrix}$ = $\\begin{pmatrix} \n",
    "v \\times \\cos(\\theta_r) \\\\\n",
    "v \\times \\sin(\\theta_r) \\\\\n",
    "\\omega\n",
    "\\end{pmatrix}$"
   ]
  },
  {
   "cell_type": "markdown",
   "id": "1bb38963-7c90-4b71-a1b5-732dbdc1231a",
   "metadata": {},
   "source": [
    "## Equation for $v$ and $\\omega$\n",
    "In a differential drive model, Wheel angular velocities translates to $v$ and $\\omega$ as follows\n",
    "$v = \\frac{r}{2} \\times \\omega_R + \\frac{r}{2} \\times \\omega_L$\n",
    "\n",
    "$\\omega$ = $\\frac{r}{d} \\times \\omega_R - \\frac{r}{d} \\times \\omega_L$\n",
    "\n",
    "Where,\n",
    "\n",
    "$r$ = wheel radius\n",
    "\n",
    "$d$ = distance between wheels\n",
    "\n",
    "$\\omega_R$ = Angular velocity given to Right Wheel\n",
    "\n",
    "$\\omega_L$ = Angular velocity given to Left Wheel\n"
   ]
  },
  {
   "cell_type": "markdown",
   "id": "c26351be-db09-434c-bfe6-c9b641234230",
   "metadata": {},
   "source": [
    "## State Transition\n",
    "$x_t = x_{t-1} + v_t \\cos(\\theta_t) \\times dt$\n",
    "\n",
    "$y_t = y_{t-1} + v_t \\sin(\\theta_t) \\times dt$\n",
    "\n",
    "$\\theta_t = \\theta_{t-1} + \\omega_t \\times dt$\n",
    "\n",
    "### Write the State Transition in the form of Matrices\n",
    "For the given input\n",
    "$U_t = \\begin{pmatrix}\n",
    "    \\omega_R \\\\\n",
    "    \\omega_L\n",
    "    \\end{pmatrix}$\n",
    "\n",
    "Express, state transition for the unicycle model in the form of:\n",
    "$X_t = A X_{t-1} + B U_t$\n",
    "\n",
    "You can use the latex form or you can choose to upload the picture with your solution\n",
    "* For $X_t = A X_{t-1} + B U_t$:\n",
    "    - $A = $\n",
    "    - $B= $\n"
   ]
  },
  {
   "cell_type": "code",
   "execution_count": 81,
   "id": "2ea275c0-0595-4e57-800a-a58cf4af7048",
   "metadata": {},
   "outputs": [],
   "source": [
    "import matplotlib.pyplot as plt\n",
    "from matplotlib.animation import FuncAnimation\n",
    "import numpy as np\n",
    "import math\n",
    "import time"
   ]
  },
  {
   "cell_type": "code",
   "execution_count": 82,
   "id": "8cb193cd-b57a-4e86-bb02-889bcec944c9",
   "metadata": {},
   "outputs": [],
   "source": [
    "# Sim Params - You can choose to modify this\n",
    "dt = 0.1\n",
    "# Fixed params for Robot\n",
    "r = 0.01 # Radius of Wheel\n",
    "d = 0.5 # Distance between wheels"
   ]
  },
  {
   "cell_type": "code",
   "execution_count": 83,
   "id": "5a7304b0-4fd9-4590-af11-76008ba5e586",
   "metadata": {},
   "outputs": [],
   "source": [
    "# Assume constant input - You can play around with this\n",
    "omega_L = 11.0  # [rad/s]\n",
    "omega_R = 10.0  # [rad/s]"
   ]
  },
  {
   "cell_type": "code",
   "execution_count": 84,
   "id": "39568538-80df-4aca-82ef-73ffc6e5fd6d",
   "metadata": {},
   "outputs": [],
   "source": [
    "def motion_model(x_t0,u):\n",
    "    A = np.array([1,0,0,0,0,1,0,0,0,0,1,0,0,0,0,0]).reshape(4,4)\n",
    "    omega_t = (r/d)*omega_R - (r/d)*omega_L\n",
    "    vel_t = (r/2)*omega_R + (r/2)*omega_L\n",
    "    theta_t0 = x_t0[2,0]\n",
    "    theta_t1 = theta_t0 + (omega_t*dt)\n",
    "    B = np.array([math.cos(theta_t1),0,math.sin(theta_t1),0,0,dt,1,0]).reshape(4,2)\n",
    "    U_t = np.array([vel_t,omega_t]).reshape(2,1)\n",
    "    X_t = np.dot(A,x_t0) + np.dot(B,U_t)\n",
    "    return X_t"
   ]
  },
  {
   "cell_type": "code",
   "execution_count": 85,
   "id": "70e4082a-0261-48a1-b2b7-fff398dc6e4d",
   "metadata": {},
   "outputs": [],
   "source": [
    "# You need not modify this function\n",
    "def get_input():\n",
    "    u = np.array([[omega_R], [omega_L]])\n",
    "    return u"
   ]
  },
  {
   "cell_type": "markdown",
   "id": "b1a39944-00b1-4786-86bc-5f2a1deef874",
   "metadata": {},
   "source": [
    "## Robot Axes\n",
    "Let's also draw Robot Axes so that it gives sense of heading for a robot\n",
    "\n",
    "Remember that Robot's x-axis on the body frame co-ordinate always points in front direction and y-axis to the left. This may not be true in global frame.\n",
    "\n",
    "Hence, we have to transform the axes from body frame to global frame\n",
    "Write the equation for how this can be done\n",
    "\n",
    "Assume initial pose of Robot is (0,0,90 degrees)\n",
    "Red represents the X-Axis and Green Represents the Y-axis. This is shown in the figure below\n",
    "\n",
    "This means that Robot's Body frame axes at (0,0,0) are parallel to that of global frame\n",
    "\n",
    "<img src=\"supportingMaterial/images/DiffDriveInitialPos.png\" alt=\"Test Image\" width=\"300\" style=\"float: center\"/>"
   ]
  },
  {
   "cell_type": "code",
   "execution_count": 86,
   "id": "252a50c3-00b4-4e3c-af2d-8e3c362e496b",
   "metadata": {},
   "outputs": [],
   "source": [
    "def get_robot_axis(pose):\n",
    "    # pose is a 4x1 column vector (x,y,theta,v)\n",
    "    # Function should return a np.array of shape 2 x 4\n",
    "    # Where first two columns gives co-ordinates of x-axis ([x1,y1],[x2,y2])\n",
    "    # Next two columns gives co-ordinates of y-axis ([x1,y1],[x2,y2])\n",
    "    \n",
    "    # Axes co-ordinates for x and y axis in the Robot Body frame\n",
    "    # Remember that these always remain the same in the body frame\n",
    "    # Irrespective of Robot's pose\n",
    "    # You don't have to change these values    \n",
    "    x_body = np.array([[0, 1.0],[0,0]])\n",
    "    y_body = np.array([[0,0],[0,1.0]])\n",
    "    # Your Code Here\n",
    "    x_pos = pose[0,0]\n",
    "    y_pos = pose[1,0]\n",
    "    thet_pos = pose[3,0]    \n",
    "    axis_transformation = np.array([math.cos(thet_pos), (math.sin(-thet_pos)),math.sin(thet_pos),math.cos(thet_pos)]).reshape(2,2)\n",
    "    x_body_transform = np.dot(x_body,axis_transformation)\n",
    "    y_body_transform = np.dot(y_body,axis_transformation)\n",
    "    robot_axis = np.hstack((x_body_transform,y_body_transform))\n",
    "    return (robot_axis)\n",
    "    "
   ]
  },
  {
   "cell_type": "code",
   "execution_count": 87,
   "id": "83ac7243-d92f-4f42-985c-c9ee7e9044a0",
   "metadata": {},
   "outputs": [],
   "source": [
    "def checkTransformedAxes(axes):\n",
    "    # Verify Axes should always be perpendicular - This is sanity check for the axes returned by your method\n",
    "    dot_product = (axes[0,1] - axes[0,0]) * (axes[0,3] - axes[0,2]) + \\\n",
    "                  (axes[1,1] - axes[1,0]) * (axes[1,3] - axes[1,2])\n",
    "    \n",
    "    if abs(dot_product) > 1e-5:\n",
    "        print(\"Non-zero dot product obtained: {}\".format(dot_product))\n",
    "        return False\n",
    "    else:\n",
    "        return True"
   ]
  },
  {
   "cell_type": "code",
   "execution_count": 88,
   "id": "44bfab93-ba6b-48df-9ebe-57eeb9fc1ff8",
   "metadata": {},
   "outputs": [],
   "source": [
    "# conda install -c conda-forge ipympl\n",
    "%matplotlib widget"
   ]
  },
  {
   "cell_type": "markdown",
   "id": "f3e3f761-3c87-4749-a843-3aa713370ac2",
   "metadata": {},
   "source": [
    "## Simulation"
   ]
  },
  {
   "cell_type": "code",
   "execution_count": 89,
   "id": "07348755-9a81-40ca-b1d9-45705c44d3a0",
   "metadata": {},
   "outputs": [],
   "source": [
    "# Run this cell, to simulate the robot position for 200 seconds\n",
    "t = 200.0\n",
    "SIM_TIME = 1000.0 # You can reduce the time to debug\n",
    "\n",
    "# State Vector [x y yaw v]'\n",
    "X_dr = np.zeros((4, 1))\n",
    "X_dr[2,0] = math.pi / 2\n",
    "\n",
    "x_axes = np.zeros((2,2))\n",
    "y_axes = np.zeros((2,2))\n",
    "\n",
    "x_curr = X_dr\n",
    "u = get_input()\n",
    "while SIM_TIME >= t:\n",
    "    x_next = motion_model(x_curr, u)\n",
    "    X_dr = np.hstack((X_dr, x_next))\n",
    "    axes = get_robot_axis(x_next)\n",
    "    if not checkTransformedAxes(axes):\n",
    "        print(\"Aborting Simulation, Transformed axes are not correct, please check\")\n",
    "        break\n",
    "    x_axis_curr = axes[:,0:2]\n",
    "    y_axis_curr = axes[:,2:4]\n",
    "    x_axes = np.hstack((x_axes, x_axis_curr))\n",
    "    y_axes = np.hstack((y_axes, y_axis_curr))\n",
    "    x_curr = x_next\n",
    "    t += dt"
   ]
  },
  {
   "cell_type": "code",
   "execution_count": 90,
   "id": "45c8b0d6-09eb-44d0-b952-d6b80b0d1a63",
   "metadata": {
    "tags": []
   },
   "outputs": [
    {
     "data": {
      "application/vnd.jupyter.widget-view+json": {
       "model_id": "867eaf56e5054bea9fbf0c0e76eb0c68",
       "version_major": 2,
       "version_minor": 0
      },
      "image/png": "[encoded data removed]",
      "text/html": [
       "\n",
       "            <div style=\"display: inline-block;\">\n",
       "                <div class=\"jupyter-widgets widget-label\" style=\"text-align: center;\">\n",
       "                    Figure\n",
       "                </div>\n",
       "                <img src='data:image/png;base64,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' width=640.0/>\n",
       "            </div>\n",
       "        "
      ],
      "text/plain": [
       "Canvas(toolbar=Toolbar(toolitems=[('Home', 'Reset original view', 'home', 'home'), ('Back', 'Back to previous …"
      ]
     },
     "metadata": {},
     "output_type": "display_data"
    }
   ],
   "source": [
    "# Animate DR for Diff Drive Robot\n",
    "# You just have to execute this cell\n",
    "numFrames = 2000\n",
    "\n",
    "fig, ax = plt.subplots()\n",
    "dr_data, = plt.plot([],[],'-k', label='Dead Reckoning Traj')\n",
    "x_axes_data, = plt.plot([],[],'-r', label='X-axis')\n",
    "y_axes_data, = plt.plot([],[],'-g', label='Y-Axis')\n",
    "\n",
    "frames=np.linspace(0, numFrames)\n",
    "ind_dr = [(int)(frame * (X_dr.shape[1] - 1)/ numFrames) for frame in frames]\n",
    "ind_ax = [(int)(frame * (x_axes.shape[1]- 2)/ numFrames) for frame in frames]\n",
    "\n",
    "def init():\n",
    "    x_dr = X_dr[0,:]\n",
    "    y_dr = X_dr[1,:]\n",
    "    \n",
    "    if np.min(x_dr) < np.min(y_dr):\n",
    "        min_val = np.min(x_dr)\n",
    "    else:\n",
    "        min_val = np.min(y_dr)\n",
    "    \n",
    "    if np.max(x_dr) > np.max(y_dr):\n",
    "        max_val = np.max(x_dr)\n",
    "    else:\n",
    "        max_val = np.max(y_dr)\n",
    "        \n",
    "    min_x = np.min(x_dr) - 5\n",
    "    ax.set_xlim([min_val - 5, max_val + 5])\n",
    "    ax.set_ylim([min_val - 5, max_val + 5])\n",
    "    plt.title(\"Dead Reckoning for a Unicycle Model with a Diff Drive Robot\")\n",
    "    plt.legend()\n",
    "    ax.grid(True)\n",
    "    return dr_data,x_axes_data,y_axes_data\n",
    "    \n",
    "def update(frameID):\n",
    "    dr_data.set_data(X_dr[0,0:ind_dr[frameID]], X_dr[1,0:ind_dr[frameID]])\n",
    "    x1 = x_axes[:,ind_ax[frameID]]\n",
    "    x2 = x_axes[:,ind_ax[frameID] + 1]\n",
    "    x_axes_data.set_data([x1[0], x2[0]],[x1[1], x2[1]])\n",
    "    y1 = y_axes[:, ind_ax[frameID]]\n",
    "    y2 = y_axes[:, ind_ax[frameID] + 1]\n",
    "    y_axes_data.set_data([y1[0], y2[0]], [y1[1], y2[1]])\n",
    "    return dr_data,\n",
    "\n",
    "anim = FuncAnimation(fig, update, frames=numFrames-1, init_func=init, blit=True)\n",
    "plt.show()"
   ]
  },
  {
   "cell_type": "code",
   "execution_count": null,
   "id": "90dbbbd7-03c3-4441-8237-4ecfccfe2208",
   "metadata": {},
   "outputs": [],
   "source": []
  }
 ],
 "metadata": {
  "kernelspec": {
   "display_name": "slam",
   "language": "python",
   "name": "slam"
  },
  "language_info": {
   "codemirror_mode": {
    "name": "ipython",
    "version": 3
   },
   "file_extension": ".py",
   "mimetype": "text/x-python",
   "name": "python",
   "nbconvert_exporter": "python",
   "pygments_lexer": "ipython3",
   "version": "3.9.16"
  }
 },
 "nbformat": 4,
 "nbformat_minor": 5
}
