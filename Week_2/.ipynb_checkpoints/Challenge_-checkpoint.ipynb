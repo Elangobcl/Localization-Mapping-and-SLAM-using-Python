{
 "cells": [
  {
   "cell_type": "markdown",
   "id": "9a1add1d-b715-4416-9545-e1297cb86ca8",
   "metadata": {},
   "source": [
    "# GPS measurement filtering\n",
    "Given, series of noisy data on measurements on 1D postion of robot from GPS in the file attached with this exercise.\n",
    "\n",
    "Your task is to obtain GPS measurement using least squares and verify if this is equivalent to MLE\n",
    "\n",
    "We will choose a linear measurement model:\n",
    "\n",
    "$y = Hx + v$\n",
    "\n",
    "Where,\n",
    "$y$ is the measurement vector (to be read from the file)\n",
    "\n",
    "$x$ is the estimated value from several measurements (m)\n",
    "\n",
    "$v$ is the measurement noise\n",
    "\n",
    "However, the underlying data is not strictly gaussian and it is known to have some outliers due to residual calibration errors\n",
    "\n",
    "From earlier experiments, you know that gps measurements for the particular location should be $\\sim$ 10m and it can be off by a maximum of $\\pm$ 1.5 m\n",
    "\n",
    "You have to first \"preprocess\" data by filtering outliers using a suitable criteria"
   ]
  },
  {
   "cell_type": "code",
   "execution_count": 1,
   "id": "3fd84ae1-5276-4efa-bafb-f26a0e329ec5",
   "metadata": {},
   "outputs": [],
   "source": [
    "import numpy as np\n",
    "import matplotlib.pyplot as plt\n",
    "from scipy.stats import norm\n",
    "import statistics"
   ]
  },
  {
   "cell_type": "code",
   "execution_count": 14,
   "id": "09292862-0653-4a1e-9899-3301ca94ac28",
   "metadata": {},
   "outputs": [],
   "source": [
    "# Read Create a numpy array for measurement vector Y\n",
    "filepath = 'data/gpsMeasurements.txt'\n",
    "# Your code here\n",
    "Y = np.loadtxt(filepath)\n",
    "Y_rounded = np.around(Y,decimals=1)\n",
    "#print(Y_rounded)"
   ]
  },
  {
   "cell_type": "code",
   "execution_count": 13,
   "id": "fb8b2aa7-da64-4068-bb41-b9f39e23e31e",
   "metadata": {},
   "outputs": [
    {
     "data": {
      "image/png": "[encoded data removed]",
      "text/plain": [
       "<Figure size 640x480 with 1 Axes>"
      ]
     },
     "metadata": {},
     "output_type": "display_data"
    }
   ],
   "source": [
    "# Fit a gaussian to the data and plot the distribution -> py\n",
    "axis_temp = np.zeros(Y.shape)\n",
    "#plt.scatter(Y, axis_temp, color='r', marker='x', label='data')\n",
    "#plt.grid()\n",
    "\n",
    "# Your code here\n",
    "data_size = np.size(Y)\n",
    "x, y = np.meshgrid(np.linspace(Y.min(), Y.max(), data_size), np.linspace(Y.min(), Y.max(), data_size))\n",
    "\n",
    "# Guassian plot\n",
    "# Calculating mean and standard deviation\n",
    "mean_y = statistics.mean(Y_rounded)\n",
    "sd_y = statistics.stdev(Y_rounded) \n",
    "norm.pdf(Y_rounded, mean_y, sd_y)\n",
    "#print(\"norm pdf {}\".format(norm.pdf(Y_rounded, mean_y, sd_y)))\n",
    "plt.scatter(Y_rounded, norm.pdf(Y_rounded, mean_y, sd_y),color='r', marker='x', label='data')\n",
    "plt.show()"
   ]
  },
  {
   "cell_type": "code",
   "execution_count": 5,
   "id": "3d56d986-04fd-401f-ac1b-391ca28e973a",
   "metadata": {},
   "outputs": [
    {
     "name": "stderr",
     "output_type": "stream",
     "text": [
      "C:\\Users\\maile\\AppData\\Local\\Temp\\ipykernel_9320\\116138442.py:5: FutureWarning: `rcond` parameter will change to the default of machine precision times ``max(M, N)`` where M and N are the input matrix dimensions.\n",
      "To use the future default and silence this warning we advise to pass `rcond=None`, to keep using the old, explicitly pass `rcond=-1`.\n",
      "  np.linalg.lstsq(H,Y)\n"
     ]
    },
    {
     "data": {
      "text/plain": [
       "(array([9.62070684]), array([245.04904253]), 1, array([15.8113883]))"
      ]
     },
     "execution_count": 5,
     "metadata": {},
     "output_type": "execute_result"
    }
   ],
   "source": [
    "# Formulate Least Square solution\n",
    "# Create H matrix and find least square solution on unfiltered data\n",
    "H = np.ones((np.size(Y),1))\n",
    "# Your code here\n",
    "np.linalg.lstsq(H,Y)"
   ]
  },
  {
   "cell_type": "code",
   "execution_count": 6,
   "id": "594886fe-ad84-4c6c-83e0-d3e49a82cc5b",
   "metadata": {},
   "outputs": [
    {
     "name": "stdout",
     "output_type": "stream",
     "text": [
      "217\n"
     ]
    }
   ],
   "source": [
    "# Because \"expected\" value for measurement and max range for error is known, filter outliers using a suitable criteria\n",
    "# Your code here\n",
    "# Y_filt = list()\n",
    "gps_threshold = 10\n",
    "gps_offset = 1.5\n",
    "Y_filt_list = []\n",
    "for gps_data in Y:\n",
    "    if((gps_data>float(gps_threshold-gps_offset)) and (gps_data<float(gps_threshold+gps_offset))):\n",
    "        Y_filt_list.append(gps_data)\n",
    "Y_filt = np.array(Y_filt_list)\n",
    "print(Y_filt.size)"
   ]
  },
  {
   "cell_type": "markdown",
   "id": "154ced73-50e8-4525-bec2-2484bea01eda",
   "metadata": {
    "tags": []
   },
   "source": [
    "##### Redraw gaussian on filtered data -> pyfilt\n",
    "# Find the new MLE\n",
    "Y_filt_arr = np.array(Y_filt)\n",
    "axis_temp = np.zeros(Y_filt_arr.shape)\n",
    "plt.scatter(Y_filt_arr, axis_temp, color='r', marker='x', label='data')\n",
    "plt.grid()\n",
    "\n",
    "# Your code here\n"
   ]
  },
  {
   "cell_type": "code",
   "execution_count": 8,
   "id": "df9f78ad-2cf6-4f0d-b9bf-eb5957c6448c",
   "metadata": {},
   "outputs": [],
   "source": [
    "# Recalculate the new least square solution -> it should be the same as MLE\n"
   ]
  }
 ],
 "metadata": {
  "kernelspec": {
   "display_name": "slam",
   "language": "python",
   "name": "slam"
  },
  "language_info": {
   "codemirror_mode": {
    "name": "ipython",
    "version": 3
   },
   "file_extension": ".py",
   "mimetype": "text/x-python",
   "name": "python",
   "nbconvert_exporter": "python",
   "pygments_lexer": "ipython3",
   "version": "3.9.16"
  }
 },
 "nbformat": 4,
 "nbformat_minor": 5
}
