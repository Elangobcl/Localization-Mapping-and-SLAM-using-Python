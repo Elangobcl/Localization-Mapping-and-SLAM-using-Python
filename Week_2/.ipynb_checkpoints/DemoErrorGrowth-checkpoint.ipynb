{
 "cells": [
  {
   "cell_type": "markdown",
   "id": "e5c5b867-914f-4e94-8fd3-7741a4068468",
   "metadata": {
    "tags": []
   },
   "source": [
    "# Simulating a Diff Drive Robot with Unicycle Model\n",
    "Let's apply Unicycle Model to diff drive Robot\n",
    "<img src=\"supportingMaterial/images/UnicycleWithDiffDrive.png\" alt=\"Test Image\" width=\"300\" style=\"float: center\"/>\n"
   ]
  },
  {
   "cell_type": "markdown",
   "id": "4085f1d4-5082-4079-b292-03ac8eaa8385",
   "metadata": {},
   "source": [
    "## System Dynamics\n",
    "Model Kinematics for Unicycle model\n",
    "$\\dot{X}$ = $f(x_r,y_r,\\theta_r, v, \\omega)$ \n",
    "\n",
    "$\\dot{X} = \\begin{pmatrix}\n",
    "\\dot{x_r} \\\\\n",
    "\\dot{y_r} \\\\\n",
    "\\dot{\\theta_r}\n",
    "\\end{pmatrix}$ = $\\begin{pmatrix} \n",
    "v \\times \\cos(\\theta_r) \\\\\n",
    "v \\times \\sin(\\theta_r) \\\\\n",
    "\\omega\n",
    "\\end{pmatrix}$"
   ]
  },
  {
   "cell_type": "markdown",
   "id": "c26351be-db09-434c-bfe6-c9b641234230",
   "metadata": {},
   "source": [
    "## State Space Form\n",
    "$x_t = x_{t-1} + v_t \\cos(\\theta_t) \\times dt$\n",
    "\n",
    "$y_t = y_{t-1} + v_t \\sin(\\theta_t) \\times dt$\n",
    "\n",
    "$\\theta_t = \\theta_{t-1} + \\omega_t \\times dt$\n",
    "\n",
    "* For $X_t = A X_{t-1} + B U_t$:\n",
    "    - $ A = \\begin{bmatrix} \n",
    "        1 & 0 & 0 & 0 \\\\\n",
    "        0 & 1 & 0 & 0 \\\\\n",
    "        0 & 0 & 1 & 0 \\\\\n",
    "        0 & 0 & 0 & 0\n",
    "       \\end{bmatrix}$\n",
    "    - $ B = \\begin{bmatrix}\n",
    "        \\cos(\\theta_t) & 0 \\\\\n",
    "        \\sin(\\theta_t) & 0 \\\\\n",
    "        0 & dt \\\\\n",
    "        1 & 0\n",
    "        \\end{bmatrix} $\n",
    "    - $ U_t = \\begin{pmatrix}\n",
    "    v_t \\\\\n",
    "    \\omega_t\n",
    "    \\end{pmatrix}$"
   ]
  },
  {
   "cell_type": "code",
   "execution_count": 1,
   "id": "2ea275c0-0595-4e57-800a-a58cf4af7048",
   "metadata": {},
   "outputs": [],
   "source": [
    "import matplotlib.pyplot as plt\n",
    "from matplotlib.animation import FuncAnimation\n",
    "import numpy as np\n",
    "import math\n",
    "import time"
   ]
  },
  {
   "cell_type": "code",
   "execution_count": 2,
   "id": "8cb193cd-b57a-4e86-bb02-889bcec944c9",
   "metadata": {},
   "outputs": [],
   "source": [
    "# Sim Params\n",
    "dt = 0.1\n",
    "# Assume constant input\n",
    "v = 1.0  # [m/s]\n",
    "yawrate = 0.01  # [rad/s]"
   ]
  },
  {
   "cell_type": "code",
   "execution_count": 3,
   "id": "84808dce-a6d6-486d-a787-f475c46ea7c5",
   "metadata": {},
   "outputs": [],
   "source": [
    "def motion_model(x, u):\n",
    "    A = np.array([[1.0, 0, 0, 0],\n",
    "                  [0, 1.0, 0, 0],\n",
    "                  [0, 0, 1.0, 0],\n",
    "                  [0, 0, 0, 0]])\n",
    "\n",
    "    B = np.array([[dt * math.cos(x[2, 0]), 0],\n",
    "                  [dt * math.sin(x[2, 0]), 0],\n",
    "                  [0.0, dt],\n",
    "                  [1.0, 0.0]])\n",
    "\n",
    "    x = A @ x + B @ u\n",
    "\n",
    "    return x"
   ]
  },
  {
   "cell_type": "code",
   "execution_count": 4,
   "id": "d716d0ba-808a-4f08-bae0-33135514742c",
   "metadata": {},
   "outputs": [],
   "source": [
    "def motion_model_noise(x,u):\n",
    "    x_next = motion_model(x,u)\n",
    "    noise = 0.02 * np.random.randn(x_next.shape[0], x_next.shape[1])\n",
    "    x = x_next + noise\n",
    "    return x"
   ]
  },
  {
   "cell_type": "code",
   "execution_count": 5,
   "id": "70e4082a-0261-48a1-b2b7-fff398dc6e4d",
   "metadata": {},
   "outputs": [],
   "source": [
    "def get_input():\n",
    "    u = np.array([[v], [yawrate]])\n",
    "    return u"
   ]
  },
  {
   "cell_type": "code",
   "execution_count": 6,
   "id": "44bfab93-ba6b-48df-9ebe-57eeb9fc1ff8",
   "metadata": {},
   "outputs": [],
   "source": [
    "# conda install -c conda-forge ipympl\n",
    "%matplotlib widget"
   ]
  },
  {
   "cell_type": "markdown",
   "id": "f3e3f761-3c87-4749-a843-3aa713370ac2",
   "metadata": {},
   "source": [
    "## Simulation"
   ]
  },
  {
   "cell_type": "code",
   "execution_count": 7,
   "id": "07348755-9a81-40ca-b1d9-45705c44d3a0",
   "metadata": {},
   "outputs": [],
   "source": [
    "t = 0.0\n",
    "SIM_TIME = 30.0\n",
    "\n",
    "# State Vector [x y yaw v]'\n",
    "X_gt = np.zeros((4, 1))  # Ground Truth\n",
    "X_dr = np.zeros((4, 1))  # Dead reckoning\n",
    "x_curr = X_dr\n",
    "x_curr_gt = X_gt\n",
    "u = get_input()\n",
    "while SIM_TIME >= t:\n",
    "    x_next_gt = motion_model(x_curr_gt, u)\n",
    "    x_next_dr = motion_model_noise(x_curr, u)\n",
    "    X_gt = np.hstack((X_gt, x_next_gt))\n",
    "    X_dr = np.hstack((X_dr, x_next_dr))\n",
    "    x_curr = x_next_dr\n",
    "    x_curr_gt = x_next_gt\n",
    "    t += dt"
   ]
  },
  {
   "cell_type": "code",
   "execution_count": 8,
   "id": "45c8b0d6-09eb-44d0-b952-d6b80b0d1a63",
   "metadata": {},
   "outputs": [
    {
     "data": {
      "application/vnd.jupyter.widget-view+json": {
       "model_id": "b7e9d897a57b4776a9a371d69e507152",
       "version_major": 2,
       "version_minor": 0
      },
      "text/plain": [
       "Canvas(toolbar=Toolbar(toolitems=[('Home', 'Reset original view', 'home', 'home'), ('Back', 'Back to previous …"
      ]
     },
     "metadata": {},
     "output_type": "display_data"
    }
   ],
   "source": [
    "# Animate DR\n",
    "#from IPython.display import HTML\n",
    "numFrames = 1000\n",
    "\n",
    "fig, ax = plt.subplots()\n",
    "dr_data, = plt.plot([],[],'-k', label='Dead Reckoning Traj')\n",
    "gt_data, = plt.plot([],[],'-g', label='Ground Truth Traj')\n",
    "\n",
    "frames=np.linspace(0, numFrames)\n",
    "ind = [(int)(frame * X_dr.shape[1]/ numFrames) for frame in frames]\n",
    "\n",
    "def init():\n",
    "    x_dr = X_dr[0,:]\n",
    "    y_dr = X_dr[1,:]\n",
    "    ax.set_xlim([np.min(x_dr) - 5, np.max(x_dr) + 5])\n",
    "    ax.set_ylim([np.min(y_dr) - 5, np.max(y_dr) + 5])\n",
    "    plt.title(\"Dead Reckoning vs Ground Truth of a Unicycle Model\")\n",
    "    plt.legend()\n",
    "    ax.grid(True)\n",
    "    return dr_data, gt_data\n",
    "    \n",
    "def update(frameID):\n",
    "    dr_data.set_data(X_dr[0,0:ind[frameID]], X_dr[1,0:ind[frameID]])\n",
    "    gt_data.set_data(X_gt[0,0:ind[frameID]], X_gt[1,0:ind[frameID]])\n",
    "    return dr_data, gt_data\n",
    "\n",
    "anim = FuncAnimation(fig, update, frames=numFrames, init_func=init, blit=True)\n",
    "# Alternates\n",
    "#HTML(anim.to_html5_video())\n",
    "#HTML(anim.to_jshtml())\n",
    "plt.show()"
   ]
  },
  {
   "cell_type": "code",
   "execution_count": null,
   "id": "90dbbbd7-03c3-4441-8237-4ecfccfe2208",
   "metadata": {},
   "outputs": [],
   "source": []
  }
 ],
 "metadata": {
  "kernelspec": {
   "display_name": "Python 3",
   "language": "python",
   "name": "python3"
  },
  "language_info": {
   "codemirror_mode": {
    "name": "ipython",
    "version": 3
   },
   "file_extension": ".py",
   "mimetype": "text/x-python",
   "name": "python",
   "nbconvert_exporter": "python",
   "pygments_lexer": "ipython3",
   "version": "3.8.8"
  }
 },
 "nbformat": 4,
 "nbformat_minor": 5
}
