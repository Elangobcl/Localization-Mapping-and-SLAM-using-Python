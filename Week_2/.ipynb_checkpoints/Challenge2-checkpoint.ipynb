{
 "cells": [
  {
   "cell_type": "markdown",
   "id": "9a1add1d-b715-4416-9545-e1297cb86ca8",
   "metadata": {},
   "source": [
    "# GPS measurement filtering\n",
    "Given, series of noisy data on measurements on 1D postion of robot from GPS in the file attached with this exercise.\n",
    "\n",
    "Your task is to obtain GPS measurement using least squares and verify if this is equivalent to MLE\n",
    "\n",
    "We will choose a linear measurement model:\n",
    "\n",
    "$y = Hx + v$\n",
    "\n",
    "Where,\n",
    "$y$ is the measurement vector (to be read from the file)\n",
    "\n",
    "$x$ is the estimated value from several measurements (m)\n",
    "\n",
    "$v$ is the measurement noise\n",
    "\n",
    "However, the underlying data is not strictly gaussian and it is known to have some outliers due to residual calibration errors\n",
    "\n",
    "From earlier experiments, you know that gps measurements for the particular location should be $\\sim$ 10m and it can be off by a maximum of $\\pm$ 1.5 m\n",
    "\n",
    "You have to first \"preprocess\" data by filtering outliers using a suitable criteria"
   ]
  },
  {
   "cell_type": "code",
   "execution_count": null,
   "id": "3fd84ae1-5276-4efa-bafb-f26a0e329ec5",
   "metadata": {},
   "outputs": [],
   "source": [
    "import numpy as np\n",
    "import matplotlib.pyplot as plt"
   ]
  },
  {
   "cell_type": "code",
   "execution_count": null,
   "id": "09292862-0653-4a1e-9899-3301ca94ac28",
   "metadata": {},
   "outputs": [],
   "source": [
    "# Read Create a numpy array for measurement vector Y\n",
    "filepath = 'data/gpsMeasurements.txt'\n",
    "\n",
    "# Your code here\n"
   ]
  },
  {
   "cell_type": "code",
   "execution_count": null,
   "id": "fb8b2aa7-da64-4068-bb41-b9f39e23e31e",
   "metadata": {},
   "outputs": [],
   "source": [
    "# Fit a gaussian to the data and plot the distribution -> py\n",
    "axis_temp = np.zeros(Y.shape)\n",
    "plt.scatter(Y, axis_temp, color='r', marker='x', label='data')\n",
    "plt.grid()\n",
    "\n",
    "# Your code here\n"
   ]
  },
  {
   "cell_type": "code",
   "execution_count": null,
   "id": "3d56d986-04fd-401f-ac1b-391ca28e973a",
   "metadata": {},
   "outputs": [],
   "source": [
    "# Formulate Least Square solution\n",
    "# Create H matrix and find least square solution on unfiltered data\n",
    "# Your code here\n"
   ]
  },
  {
   "cell_type": "code",
   "execution_count": null,
   "id": "594886fe-ad84-4c6c-83e0-d3e49a82cc5b",
   "metadata": {},
   "outputs": [],
   "source": [
    "# Because \"expected\" value for measurement and max range for error is known, filter outliers using a suitable criteria\n",
    "# Your code here\n",
    "# Y_filt = list()\n"
   ]
  },
  {
   "cell_type": "code",
   "execution_count": null,
   "id": "55632f36-d59e-4b86-aee6-43e36cf258c7",
   "metadata": {},
   "outputs": [],
   "source": [
    "# Redraw gaussian on filtered data -> pyfilt\n",
    "# Find the new MLE\n",
    "Y_filt_arr = np.array(Y_filt)\n",
    "axis_temp = np.zeros(Y_filt_arr.shape)\n",
    "plt.scatter(Y_filt_arr, axis_temp, color='r', marker='x', label='data')\n",
    "plt.grid()\n",
    "\n",
    "# Your code here\n"
   ]
  },
  {
   "cell_type": "code",
   "execution_count": null,
   "id": "df9f78ad-2cf6-4f0d-b9bf-eb5957c6448c",
   "metadata": {},
   "outputs": [],
   "source": [
    "# Recalculate the new least square solution -> it should be the same as MLE\n"
   ]
  }
 ],
 "metadata": {
  "kernelspec": {
   "display_name": "Python 3",
   "language": "python",
   "name": "python3"
  },
  "language_info": {
   "codemirror_mode": {
    "name": "ipython",
    "version": 3
   },
   "file_extension": ".py",
   "mimetype": "text/x-python",
   "name": "python",
   "nbconvert_exporter": "python",
   "pygments_lexer": "ipython3",
   "version": "3.8.8"
  }
 },
 "nbformat": 4,
 "nbformat_minor": 5
}
