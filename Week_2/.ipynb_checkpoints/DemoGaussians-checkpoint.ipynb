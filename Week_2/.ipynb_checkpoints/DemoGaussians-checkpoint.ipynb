{
 "cells": [
  {
   "cell_type": "markdown",
   "id": "4ec3601a-65c8-4ec0-b6aa-13ee5017d109",
   "metadata": {},
   "source": [
    "# Gaussians Illustration\n",
    "Let's look at Gaussian Distribution function for single random variable and two random variables\n",
    "\n",
    "Recall,\n",
    "$N(X; \\mu, \\sigma) = p(x) = \\frac{1}{\\sqrt{2 \\pi} \\sigma} e^{\\frac{-(x - \\mu)^2}{2 \\sigma^2}}$\n",
    "\n",
    "$N(\\textbf{X}; \\mu, \\Sigma) = p(\\textbf{X}) = \\frac{1}{(2 \\pi)^{d/2} det(\\Sigma) ^{\\frac{1}{2}}} e^{-\\frac{1}{2}(\\textbf{X} - \\mu)^T \\Sigma^{-1}(\\textbf{X} - \\mu)}$\n",
    "\n",
    "For Two Random Variables,\n",
    "\n",
    "$N(\\textbf{X}; \\mu \\Sigma) = p(\\textbf{X}) = \\frac{1}{2 \\pi \\times det(\\Sigma) ^{\\frac{1}{2}}} e^{-\\frac{1}{2}(\\textbf{X} - \\mu)^T \\Sigma^{-1}(\\textbf{X} - \\mu)}$"
   ]
  },
  {
   "cell_type": "code",
   "execution_count": 1,
   "id": "325d587a-2f4f-4b2f-a101-7033f6304d6e",
   "metadata": {},
   "outputs": [],
   "source": [
    "import numpy as np\n",
    "import matplotlib.pyplot as plt\n",
    "from math import sqrt, pi"
   ]
  },
  {
   "cell_type": "code",
   "execution_count": 2,
   "id": "c13621da-1986-4f0d-8af6-ad893e178929",
   "metadata": {},
   "outputs": [],
   "source": [
    "def gaussian_1d(x, mu, std):\n",
    "    return (1 / (sqrt(2 * pi) * std)) * np.exp(-(x - mu) ** 2 / (2 * std ** 2))"
   ]
  },
  {
   "cell_type": "code",
   "execution_count": 3,
   "id": "d83fe280-e4ea-465e-8e73-6fd0e2476617",
   "metadata": {},
   "outputs": [
    {
     "data": {
      "text/plain": [
       "<matplotlib.legend.Legend at 0x1d66e62e400>"
      ]
     },
     "execution_count": 3,
     "metadata": {},
     "output_type": "execute_result"
    },
    {
     "data": {
      "image/png": "[encoded data removed]",
      "text/plain": [
       "<Figure size 432x288 with 1 Axes>"
      ]
     },
     "metadata": {
      "needs_background": "light"
     },
     "output_type": "display_data"
    }
   ],
   "source": [
    "# 1D Gaussian Representation\n",
    "x = np.linspace(-50, 50, 200)\n",
    "mu = 10\n",
    "std = 3\n",
    "y = gaussian_1d(x, mu, std)\n",
    "plt.plot(x,y, label='sigma=3')\n",
    "plt.grid()\n",
    "\n",
    "# Can also do the same using lambda function\n",
    "px = lambda x,mu,std : (1 / (sqrt(2 * pi) * std)) * np.exp(-(x - mu) ** 2 / (2 * std ** 2))\n",
    "\n",
    "# Show Mean\n",
    "plt.plot([10, 10], [0, np.max(y)], '-.', label='mean')\n",
    "\n",
    "# Show effect of changing variance\n",
    "plt.plot(x, px(x, 10, 6), '.', label='sigma=6')\n",
    "plt.plot(x, px(x, 10, 10), '--', label='sigma=10')\n",
    "plt.legend()"
   ]
  },
  {
   "cell_type": "markdown",
   "id": "f6a76edb-5f7f-4848-8a26-d3b4393f9173",
   "metadata": {},
   "source": [
    "# The 68-95-99.7 Rule\n",
    "The standard deviation is a measure of how much the data deviates from the mean. For Gaussian distributions, 68% of all the data falls within one standard deviation ($\\pm1\\sigma$) of the mean, 95% falls within two standard deviations ($\\pm2\\sigma$), and 99.7% within three ($\\pm3\\sigma$). This is often called the 68-95-99.7 rule.\n",
    "\n",
    "The mean and std has sam units as the underlying quantity."
   ]
  },
  {
   "cell_type": "code",
   "execution_count": 4,
   "id": "5e042617-f28b-4740-adab-c2e73e27d045",
   "metadata": {},
   "outputs": [],
   "source": [
    "def gaussian(x, mu, cov):\n",
    "    assert(cov.shape[0] == cov.shape[1])\n",
    "    d = np.size(cov) / cov.shape[0]\n",
    "    return (1 / (2 * pi) ** (d / 2) * sqrt(np.linalg.det(cov))) * \\\n",
    "           np.exp(-(x - mu).T @ np.linalg.inv(cov) @ (x - mu) / 2)"
   ]
  },
  {
   "cell_type": "code",
   "execution_count": 5,
   "id": "0fcebc4a-c506-4ff0-8029-0fa80fc658ab",
   "metadata": {},
   "outputs": [],
   "source": [
    "%matplotlib widget"
   ]
  },
  {
   "cell_type": "code",
   "execution_count": 6,
   "id": "fb632d44-45d1-4dbb-8239-1fd0fc07841b",
   "metadata": {},
   "outputs": [],
   "source": [
    "x = np.linspace(-50, 50, 100)\n",
    "y = np.linspace(-50, 50, 100)\n",
    "X, Y = np.meshgrid(x,y)\n",
    "mu = np.zeros((2,1))"
   ]
  },
  {
   "cell_type": "code",
   "execution_count": 7,
   "id": "5b0cb5db-40c9-4340-b1d5-1f8136a721a0",
   "metadata": {},
   "outputs": [],
   "source": [
    "def createGaussianDistData(cov):\n",
    "    Z = np.zeros((np.size(y), np.size(x)))\n",
    "    for i in range(np.size(y)):\n",
    "        X_pts = X[i, :]\n",
    "        Y_pts = Y[i, :]\n",
    "        for j in range(np.size(X_pts)):\n",
    "            x_j = X_pts[j]\n",
    "            y_j = Y_pts[j]\n",
    "            X_vec = np.array([[x_j], [y_j]])\n",
    "            z_j = gaussian(X_vec, mu, cov)\n",
    "            Z[i,j] = z_j\n",
    "    print(Z.shape)\n",
    "    return Z"
   ]
  },
  {
   "cell_type": "code",
   "execution_count": 8,
   "id": "8409c476-41d0-4c55-b821-11350d43e838",
   "metadata": {},
   "outputs": [
    {
     "data": {
      "application/vnd.jupyter.widget-view+json": {
       "model_id": "fb4f8f9af2c545e8923f5b134f67e2ba",
       "version_major": 2,
       "version_minor": 0
      },
      "text/plain": [
       "Canvas(toolbar=Toolbar(toolitems=[('Home', 'Reset original view', 'home', 'home'), ('Back', 'Back to previous …"
      ]
     },
     "metadata": {},
     "output_type": "display_data"
    },
    {
     "name": "stdout",
     "output_type": "stream",
     "text": [
      "(100, 100)\n"
     ]
    },
    {
     "data": {
      "text/plain": [
       "Text(0.5, 0, 'Y')"
      ]
     },
     "execution_count": 8,
     "metadata": {},
     "output_type": "execute_result"
    }
   ],
   "source": [
    "ax = plt.axes(projection='3d')\n",
    "cov = np.array([[64, 0], [0, 225]])\n",
    "ax.plot_surface(X, Y, createGaussianDistData(cov), rstride=1, cstride=1,cmap='viridis', edgecolor='none', antialiased=True)\n",
    "ax.set_xlabel('X')\n",
    "ax.set_ylabel('Y')"
   ]
  },
  {
   "cell_type": "code",
   "execution_count": 12,
   "id": "6f461b00-5541-4015-8ce4-0d941d6a6fff",
   "metadata": {},
   "outputs": [
    {
     "data": {
      "application/vnd.jupyter.widget-view+json": {
       "model_id": "a660adc8fee14cf0abdf410bd040b411",
       "version_major": 2,
       "version_minor": 0
      },
      "text/plain": [
       "Canvas(toolbar=Toolbar(toolitems=[('Home', 'Reset original view', 'home', 'home'), ('Back', 'Back to previous …"
      ]
     },
     "metadata": {},
     "output_type": "display_data"
    },
    {
     "name": "stdout",
     "output_type": "stream",
     "text": [
      "(100, 100)\n"
     ]
    }
   ],
   "source": [
    "plt.figure()\n",
    "plt.grid()\n",
    "cov = np.array([[64, 0], [0, 225]])\n",
    "Z = createGaussianDistData(cov)\n",
    "\n",
    "# Show data where there is density\n",
    "for i in range(np.size(y)):\n",
    "    point_dist = [(x[j], y[i]) for j in range(0,np.size(x),1) if np.abs(Z[i,j]) > 0.1]\n",
    "    x_2d = [p[0] for p in point_dist]\n",
    "    y_2d = [p[1] for p in point_dist]\n",
    "    plt.scatter(x_2d, y_2d, color='b')\n",
    "plt.xlabel('X')\n",
    "plt.ylabel('Y')\n",
    "plt.axis('equal')\n",
    "plt.title('Distribution of Data with random variables X and Y')\n",
    "plt.show()"
   ]
  },
  {
   "cell_type": "code",
   "execution_count": null,
   "id": "bea87769-cc38-482d-a59a-6b13aec134e0",
   "metadata": {},
   "outputs": [],
   "source": []
  }
 ],
 "metadata": {
  "kernelspec": {
   "display_name": "Python 3",
   "language": "python",
   "name": "python3"
  },
  "language_info": {
   "codemirror_mode": {
    "name": "ipython",
    "version": 3
   },
   "file_extension": ".py",
   "mimetype": "text/x-python",
   "name": "python",
   "nbconvert_exporter": "python",
   "pygments_lexer": "ipython3",
   "version": "3.8.8"
  }
 },
 "nbformat": 4,
 "nbformat_minor": 5
}
