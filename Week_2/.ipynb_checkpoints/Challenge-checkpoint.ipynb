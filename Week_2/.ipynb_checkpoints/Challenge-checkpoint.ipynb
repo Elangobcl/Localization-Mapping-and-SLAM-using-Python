{
 "cells": [
  {
   "cell_type": "markdown",
   "id": "9a1add1d-b715-4416-9545-e1297cb86ca8",
   "metadata": {},
   "source": [
    "# GPS measurement filtering\n",
    "Given, series of noisy data on measurements on 1D postion of robot from GPS in the file attached with this exercise.\n",
    "\n",
    "Your task is to obtain GPS measurement using least squares and verify if this is equivalent to MLE\n",
    "\n",
    "We will choose a linear measurement model:\n",
    "\n",
    "$y = Hx + v$\n",
    "\n",
    "Where,\n",
    "$y$ is the measurement vector (to be read from the file)\n",
    "\n",
    "$x$ is the estimated value from several measurements (m)\n",
    "\n",
    "$v$ is the measurement noise\n",
    "\n",
    "However, the underlying data is not strictly gaussian and it is known to have some outliers due to residual calibration errors\n",
    "\n",
    "From earlier experiments, you know that gps measurements for the particular location should be $\\sim$ 10m and it can be off by a maximum of $\\pm$ 1.5 m\n",
    "\n",
    "You have to first \"preprocess\" data by filtering outliers using a suitable criteria"
   ]
  },
  {
   "cell_type": "code",
   "execution_count": 2,
   "id": "3fd84ae1-5276-4efa-bafb-f26a0e329ec5",
   "metadata": {},
   "outputs": [],
   "source": [
    "import numpy as np\n",
    "import matplotlib.pyplot as plt"
   ]
  },
  {
   "cell_type": "code",
   "execution_count": 5,
   "id": "09292862-0653-4a1e-9899-3301ca94ac28",
   "metadata": {},
   "outputs": [
    {
     "name": "stdout",
     "output_type": "stream",
     "text": [
      "[ 9.52497266 10.47746245  8.66367897  9.74112529  9.98940547  9.28917971\n",
      " 10.76862232 10.0647252   9.88427464  9.6864361  10.5581033  10.78415622\n",
      " 10.24142785  9.97445086  9.62559092  9.28019259 10.1654849  10.44006502\n",
      " 10.21897865 10.67935815 10.62864227  9.44159176 10.3983862  10.01897241\n",
      "  9.76516655  9.80714019  9.96373254 10.4489747   9.83235688  9.36702695\n",
      " 10.47836785 10.51074599 10.12075884  9.60573136 10.38673616 10.85149285\n",
      "  9.04965209 10.26326906  8.90886025  9.4387875  10.03808897 10.67225082\n",
      "  9.61629674  9.92839156  9.29882096  9.30734508 10.16013265 10.35797253\n",
      " 10.0283993   9.37182954 10.5024975   9.32636211 10.33878582  9.97626654\n",
      "  9.54666167  9.99003924  9.33255789  9.80368846 10.41470654 10.3095444\n",
      "  9.27366275  9.48686667 10.04702746  9.8924443  10.04144698  9.81787981\n",
      " 10.25177063  9.9834397   9.43531993 10.28512695  9.61559727 10.25714212\n",
      " 10.21520847 10.32091716 10.30998206 10.48706957  9.98821585 10.32439915\n",
      " 10.64337887 10.27733893  9.99973771  9.85406461 10.07290233 10.43833766\n",
      " 10.81046924  9.45325141 10.241349    9.67347892 10.1169082   9.86262079\n",
      "  9.48432736  9.0212536   9.60975844 10.39854109 10.42162694 10.10385153\n",
      " 10.26143247  8.95834427 10.04941993 10.54864089  9.40720259  9.32197025\n",
      " 10.04935314 10.44502678 10.29372494  9.32177699 10.197002   10.14122784\n",
      "  9.73794946  9.51120877  9.77867938  9.49702544  9.30437753 10.81902771\n",
      "  9.96727451  9.85731578  9.1782138  10.11562677  9.52774095 10.09648864\n",
      " 10.51011285 10.27448164 10.06399411  9.96761194  9.9453113   9.74502861\n",
      " 11.22446805 10.00667082 10.23395871  9.88206898 10.08806    10.54138955\n",
      " 10.26083029  9.70611902 10.09728974 10.6429602   9.79053035  9.72884605\n",
      "  9.78024424 10.57639949 11.03761543 10.29256318  9.63187322 10.10088522\n",
      " 10.21260711 10.20617411  9.36265993 10.24835725 10.32396058 10.06952173\n",
      "  9.52316951 10.45270345 10.52256818 10.64186489 11.11651147  9.44475828\n",
      "  9.29277674  9.57998497  9.02374515 10.2898957   9.49233043 10.17137391\n",
      " 11.76301996 10.57262674  9.12651923  9.948749   10.91109098 10.07372531\n",
      " 10.26819869 10.24687916 10.19396522  9.26175337 10.65630154  9.37400528\n",
      "  9.68808242 10.2483379   9.91624498 10.3505563   9.51282467 10.39776061\n",
      " 10.2243435   9.96147613 10.61060408  9.86182502  9.79237361  9.59522738\n",
      " 11.04399575  9.6537737  10.10950866  9.79567774  9.97686074 10.14407588\n",
      "  9.93859663 10.13760093 10.34517836  9.78728603  9.41474023  9.00875292\n",
      " 10.37687214 10.37189103  9.68058012  6.34862066  8.95680552  7.07973456\n",
      "  7.16818185  7.43384885  7.7554655   9.32687409  7.26271938  9.69637853\n",
      "  7.74532612  8.11834941  8.28194099  7.40270281  7.7333384   7.53074723\n",
      "  7.30538683  9.24592057  7.59002033  7.31094008  6.85549656  7.8873297\n",
      "  8.5301564   8.7224088   9.29695177  8.89267101  8.95994534  6.60866684\n",
      "  6.71227695  8.08622695  7.43580866  8.63728339  8.90461251  8.16826726\n",
      "  7.72343124  8.98648609  9.13678002  8.30893344  7.71129926  6.94919426\n",
      "  8.18030279  8.15403826  9.18360149  9.9500906   7.62027996  9.86272715\n",
      "  8.8638176   8.38407695  6.10407743  6.05252466]\n"
     ]
    }
   ],
   "source": [
    "# Read Create a numpy array for measurement vector Y\n",
    "filepath = 'data/gpsMeasurements.txt'\n",
    "# Your code here\n",
    "Y = np.loadtxt(filepath)\n",
    "print(Y)"
   ]
  },
  {
   "cell_type": "code",
   "execution_count": 4,
   "id": "fb8b2aa7-da64-4068-bb41-b9f39e23e31e",
   "metadata": {},
   "outputs": [
    {
     "data": {
      "image/png": "[encoded data removed]",
      "text/plain": [
       "<Figure size 640x480 with 1 Axes>"
      ]
     },
     "metadata": {},
     "output_type": "display_data"
    }
   ],
   "source": [
    "# Fit a gaussian to the data and plot the distribution -> py\n",
    "axis_temp = np.zeros(Y.shape)\n",
    "plt.scatter(Y, axis_temp, color='r', marker='x', label='data')\n",
    "plt.grid()\n",
    "\n",
    "# Your code here\n"
   ]
  },
  {
   "cell_type": "code",
   "execution_count": null,
   "id": "3d56d986-04fd-401f-ac1b-391ca28e973a",
   "metadata": {},
   "outputs": [],
   "source": [
    "# Formulate Least Square solution\n",
    "# Create H matrix and find least square solution on unfiltered data\n",
    "H = np.ones((np.size(Y),1))\n",
    "# Your code here\n",
    "np.linalg.lstsq(H,Y)"
   ]
  },
  {
   "cell_type": "code",
   "execution_count": 15,
   "id": "594886fe-ad84-4c6c-83e0-d3e49a82cc5b",
   "metadata": {},
   "outputs": [
    {
     "name": "stdout",
     "output_type": "stream",
     "text": [
      "217\n"
     ]
    }
   ],
   "source": [
    "# Because \"expected\" value for measurement and max range for error is known, filter outliers using a suitable criteria\n",
    "# Your code here\n",
    "# Y_filt = list()\n",
    "gps_threshold = 10\n",
    "gps_offset = 1.5\n",
    "Y_filt_list = []\n",
    "for gps_data in Y:\n",
    "    if((gps_data>float(gps_threshold-gps_offset)) and (gps_data<float(gps_threshold+gps_offset))):\n",
    "        Y_filt_list.append(gps_data)\n",
    "Y_filt = np.array(Y_filt_list)\n",
    "print(Y_filt.size)"
   ]
  },
  {
   "cell_type": "code",
   "execution_count": null,
   "id": "55632f36-d59e-4b86-aee6-43e36cf258c7",
   "metadata": {},
   "outputs": [],
   "source": [
    "# Redraw gaussian on filtered data -> pyfilt\n",
    "# Find the new MLE\n",
    "Y_filt_arr = np.array(Y_filt)\n",
    "axis_temp = np.zeros(Y_filt_arr.shape)\n",
    "plt.scatter(Y_filt_arr, axis_temp, color='r', marker='x', label='data')\n",
    "plt.grid()\n",
    "\n",
    "# Your code here\n"
   ]
  },
  {
   "cell_type": "code",
   "execution_count": null,
   "id": "df9f78ad-2cf6-4f0d-b9bf-eb5957c6448c",
   "metadata": {},
   "outputs": [],
   "source": [
    "# Recalculate the new least square solution -> it should be the same as MLE\n"
   ]
  }
 ],
 "metadata": {
  "kernelspec": {
   "display_name": "slam",
   "language": "python",
   "name": "slam"
  },
  "language_info": {
   "codemirror_mode": {
    "name": "ipython",
    "version": 3
   },
   "file_extension": ".py",
   "mimetype": "text/x-python",
   "name": "python",
   "nbconvert_exporter": "python",
   "pygments_lexer": "ipython3",
   "version": "3.9.16"
  }
 },
 "nbformat": 4,
 "nbformat_minor": 5
}
