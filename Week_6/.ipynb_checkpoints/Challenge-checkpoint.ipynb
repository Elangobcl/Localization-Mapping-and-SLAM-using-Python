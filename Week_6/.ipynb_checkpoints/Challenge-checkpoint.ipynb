{
 "cells": [
  {
   "cell_type": "markdown",
   "metadata": {},
   "source": [
    "## Particle Filter with known correspondences"
   ]
  },
  {
   "cell_type": "markdown",
   "metadata": {},
   "source": [
    "   ### The Mobile Robot\n",
    "   <img src=\"images/PFRobotPicture.png\" alt=\"Trial Image\" width=\"250\" style=\"float: right\"/>\n",
    "   \n",
    "   * Consider a simple planar outdoor robot with IMU & RF Transponder\n",
    "   * Let's say that the forward velocity and angular velocity are the control inputs\n",
    "   * In other words the robot dynamics are modelled as unicycle\n",
    "   * Simulation Frequency = model dynamics frequency = 10 Hz (0.01s)\n",
    "   * Radio Update Frequency = Measurement Update = 5 Hz (0.05s)\n",
    "   * State Vector $X_t$ = $\\begin{pmatrix}\n",
    "       x_t \\\\\n",
    "       y_t \\\\\n",
    "       \\theta_t \\\\\n",
    "       v_t\n",
    "     \\end{pmatrix}$\n",
    "   * Input Vector $U_t$ = $\\begin{pmatrix}\n",
    "   v_t \\\\\n",
    "   \\omega_t\n",
    "   \\end{pmatrix}$\n",
    "   * Measurement vector $Z_t$ = $\\begin{pmatrix}\n",
    "   r_t \\\\\n",
    "   \\end{pmatrix}$"
   ]
  },
  {
   "cell_type": "markdown",
   "metadata": {},
   "source": [
    "### The Environment\n",
    "<img src=\"images/rf-id.png\" alt=\"Trial Image\" width=\"250\" style=\"float: right\"/>\n",
    "\n",
    "*  Tags are fixed in the environment with some known location. \n",
    "* Robot periodically sends out a query, and any tags within range respond by sending a reply.\n",
    "* The robot can then estimate the distance to each responding tag by determining the time lapsed between sending the query and receiving the response.\n",
    "* Since each tag transmits a unique ID number, distance readings are automatically associated with the appropriate tags,\n"
   ]
  },
  {
   "cell_type": "markdown",
   "metadata": {},
   "source": [
    "### How many RF ids to place in the environment?\n",
    "<img src=\"images/TrilaterationPrinciple.png\" alt=\"Trial Image\" width=\"500\" style=\"float: center\"/>"
   ]
  },
  {
   "cell_type": "code",
   "execution_count": 1,
   "metadata": {},
   "outputs": [],
   "source": [
    "import math\n",
    "import matplotlib.pyplot as plt\n",
    "from matplotlib.animation import FuncAnimation\n",
    "import numpy as np"
   ]
  },
  {
   "cell_type": "code",
   "execution_count": 2,
   "metadata": {},
   "outputs": [],
   "source": [
    "# Estimation parameter of PF - Unceetainity in motion & measurement model\n",
    "Q = np.diag([2.0, np.deg2rad(40.0)]) ** 2  # input error\n",
    "R = np.diag([0.2]) ** 2  # range error"
   ]
  },
  {
   "cell_type": "code",
   "execution_count": 3,
   "metadata": {},
   "outputs": [],
   "source": [
    "#  Simulation parameter - Uncertainity in measurements\n",
    "Q_sim = np.diag([1.0, np.deg2rad(30.0)]) ** 2\n",
    "R_sim = np.diag([0.2]) ** 2"
   ]
  },
  {
   "cell_type": "code",
   "execution_count": 4,
   "metadata": {},
   "outputs": [],
   "source": [
    "DT = 0.1 # Simulation Time Step"
   ]
  },
  {
   "cell_type": "markdown",
   "metadata": {},
   "source": [
    "### System Dynamics\n",
    "* $x_t = x_{t-1} + v_t \\cos(\\theta_t) dt$\n",
    "* $y_t = y_{t-1} + v_t \\sin(\\theta_t) dt$\n",
    "* $\\theta_t = \\theta_{t-1} + \\omega_t \\times dt$\n",
    "* For $X_t = A X_{t-1} + B U_t$:\n",
    "    - $ A = \\begin{bmatrix} \n",
    "        1 & 0 & 0 & 0 \\\\\n",
    "        0 & 1 & 0 & 0 \\\\\n",
    "        0 & 0 & 1 & 0 \\\\\n",
    "        0 & 0 & 0 & 0\n",
    "       \\end{bmatrix}$\n",
    "    - $ B = \\begin{bmatrix}\n",
    "        \\cos(\\theta_t)dt & 0 \\\\\n",
    "        \\sin(\\theta_t)dt & 0 \\\\\n",
    "        0 & dt \\\\\n",
    "        1 & 0\n",
    "        \\end{bmatrix} $\n",
    "* $v_{err} = v - \\hat{v}$\n",
    "* $\\omega_{err} = \\omega - \\hat{\\omega}$\n",
    "* $p(x_t|u_t,x_{t-1}) = \\mathcal{N}(\\mu, \\Sigma)$\n",
    "where,\n",
    "\n",
    "    $\\mu = \\begin{pmatrix}\n",
    "    v_{err} \\\\\n",
    "    \\omega_{err}\n",
    "    \\end{pmatrix}$\n",
    "    \n",
    "    $\\Sigma = \\begin{bmatrix}\n",
    "    \\sigma_v & 0 \\\\\n",
    "    0 & \\sigma_{\\omega}\n",
    "    \\end{bmatrix}$"
   ]
  },
  {
   "cell_type": "code",
   "execution_count": 5,
   "metadata": {},
   "outputs": [],
   "source": [
    "def motion_model(x, u):\n",
    "    A = np.array([[1.0, 0, 0, 0],\n",
    "                  [0, 1.0, 0, 0],\n",
    "                  [0, 0, 1.0, 0],\n",
    "                  [0, 0, 0, 0]])\n",
    "\n",
    "    B = np.array([[DT * math.cos(x[2, 0]), 0],\n",
    "                  [DT * math.sin(x[2, 0]), 0],\n",
    "                  [0.0, DT],\n",
    "                  [1.0, 0.0]])\n",
    "\n",
    "    x = A @ x + B @ u\n",
    "\n",
    "    return x"
   ]
  },
  {
   "cell_type": "markdown",
   "metadata": {},
   "source": [
    "### Measurement Model\n",
    "* Transponder on the Robot would measure the distance to the RFID\n",
    "* For Particle Filter, Let's use the value from the Probability Distribution (Gaussian) as the weight of the particle. \n",
    "* Larger the measured distance from the actual distance smaller is the weight\n",
    "$ j = c^{i}_{t}$ \n",
    "\n",
    "$\\hat{r} = \\sqrt{(m_{j,x} - x)^2 + (m_{j,y} - y)^2}$\n",
    "\n",
    "$r = \\hat{r} + \\epsilon; \\quad \\epsilon = \\mathcal{N}(0,\\sigma_d)$\n",
    "\n",
    "$p(z^i_t|x_t) = w_i = \\mathcal{N}(r - \\hat{r}, \\sigma_d)$\n",
    "\n",
    "where,\n",
    "$j$ = jth correspondence of ith measurement at t\n",
    "\n",
    "$ \\hat{r}$ = Expected Distance\n",
    "\n",
    "$ m_{j,x}, m_{j,y}$ = Location of RFID in the world/map frame\n",
    "\n",
    "$ x, y$ = Location of Robot at $t$\n",
    "\n",
    "$w_i$ = Weight of each particle measured using a Gaussian based on difference from actual value"
   ]
  },
  {
   "cell_type": "code",
   "execution_count": 6,
   "metadata": {},
   "outputs": [],
   "source": [
    "def gauss_likelihood(x, sigma):\n",
    "    \"\"\"\n",
    "    @param x: Particle Representing a state\n",
    "    @param sigma: standard deviation of the measurement\n",
    "    \"\"\""
   ]
  },
  {
   "cell_type": "markdown",
   "metadata": {},
   "source": [
    "### Resampling - Low Variance Resampling\n",
    "<img src=\"images/ResamplingAlgorithm.png\" alt=\"Trial Image\" width=\"500\" style=\"float: center\"/>\n",
    "\n",
    "* Sample number uniformly between 0 and 1 of cumulative sum on weights and find which weight includes that number\n",
    "* Particle with larger weight gets duplicated more"
   ]
  },
  {
   "cell_type": "code",
   "execution_count": 7,
   "metadata": {},
   "outputs": [],
   "source": [
    "def resample(px, pw):\n",
    "    \"\"\"\n",
    "    low variance re-sampling\n",
    "    px: List of particles\n",
    "    pw: List of weights\n",
    "    \"\"\"\n",
    "    \n",
    "    # Implement this method\n",
    "    # Modify px in place"
   ]
  },
  {
   "cell_type": "code",
   "execution_count": 8,
   "metadata": {},
   "outputs": [],
   "source": [
    "def calc_input():\n",
    "    v = 1.0  # [m/s]\n",
    "    yawrate = 0.1  # [rad/s]\n",
    "    u = np.array([[v], [yawrate]])\n",
    "    return u"
   ]
  },
  {
   "cell_type": "code",
   "execution_count": 9,
   "metadata": {},
   "outputs": [],
   "source": [
    "def prediction(px, u):\n",
    "    \"\"\"\n",
    "    @param px: particles\n",
    "    @param u: control input  \n",
    "    @return px: predicted particles\n",
    "    \"\"\"\n",
    "    # Predict with random input sampling\n",
    "    \n",
    "    # Your code here"
   ]
  },
  {
   "cell_type": "code",
   "execution_count": 1,
   "metadata": {},
   "outputs": [],
   "source": [
    "def generate_noisy_control_input(u):\n",
    "    ud1 = u[0, 0] + np.random.randn() * Q_sim[0, 0] ** 0.5\n",
    "    ud2 = u[1, 0] + np.random.randn() * Q_sim[1, 1] ** 0.5\n",
    "    ud = np.array([[ud1, ud2]]).T\n",
    "    return ud"
   ]
  },
  {
   "cell_type": "code",
   "execution_count": 2,
   "metadata": {},
   "outputs": [],
   "source": [
    "def generate_noisy_measurement(x_true, rf_id):\n",
    "    \"\"\"\n",
    "    z[0,0] = actual measurement\n",
    "    z[0,1] = ground_truth_x\n",
    "    z[0,2] = ground_truth_y\n",
    "    \"\"\"\n",
    "    z = np.zeros((0, 3))\n",
    "    for i in range(len(rf_id[:, 0])):\n",
    "        dx = x_true[0, 0] - rf_id[i, 0]\n",
    "        dy = x_true[1, 0] - rf_id[i, 1]\n",
    "        d = math.hypot(dx, dy)\n",
    "        if d <= MAX_RANGE:\n",
    "            dn = d + np.random.randn() * R_sim[0, 0] ** 0.5  # add noise\n",
    "            zi = np.array([[dn, rf_id[i, 0], rf_id[i, 1]]])\n",
    "            z = np.vstack((z,zi))\n",
    "    return z"
   ]
  },
  {
   "cell_type": "code",
   "execution_count": 12,
   "metadata": {},
   "outputs": [],
   "source": [
    "# Go through this method, the method has been implemented for you\n",
    "def pf_update(px, pw, z):\n",
    "    for ip in range(NP):\n",
    "        x = np.array([px[:, ip]]).T\n",
    "        w = pw[0, ip]\n",
    "        #  Calculate Importance Weight\n",
    "        for i in range(len(z[:, 0])):\n",
    "            if z[i,0] > 0.01:\n",
    "                dx = x[0, 0] - z[i, 1]\n",
    "                dy = x[1, 0] - z[i, 2]\n",
    "                pre_z = math.hypot(dx, dy)\n",
    "                dz = pre_z - z[i, 0]\n",
    "                w = w * gauss_likelihood(dz, math.sqrt(R[0, 0]))\n",
    "        pw[0, ip] = w\n",
    "    pw = pw / pw.sum()  # normalize\n",
    "    x_est = px.dot(pw.T)\n",
    "    \n",
    "    N_eff = 1.0 / (pw.dot(pw.T))[0, 0]  # Effective particle number\n",
    "    if N_eff < NTh:\n",
    "        px, pw = resample(px, pw)\n",
    "        \n",
    "    return x_est, px, pw"
   ]
  },
  {
   "cell_type": "code",
   "execution_count": 13,
   "metadata": {},
   "outputs": [],
   "source": [
    "%matplotlib widget"
   ]
  },
  {
   "cell_type": "code",
   "execution_count": 14,
   "metadata": {},
   "outputs": [],
   "source": [
    "NP = 100  # Number of Particle\n",
    "NTh = NP / 2.0  # Number of particle threshold for re-sampling\n",
    "px = np.zeros((4, NP))  # Particles - 4 x NP\n",
    "pw = np.zeros((1, NP)) + 1.0 / NP  # Particle weight - 1 x NP\n",
    "MAX_RANGE = 20.0\n",
    "SENSOR_UPDATE_RATE = 3"
   ]
  },
  {
   "cell_type": "code",
   "execution_count": 15,
   "metadata": {},
   "outputs": [],
   "source": [
    "# Add some initial noise to provide diversity\n",
    "for ip in range(NP):\n",
    "    white_noise_s = 0.5 * np.random.randn(4,1)\n",
    "    curr_part_state = np.array([px[:,ip]]).T\n",
    "    noisy_state = curr_part_state + white_noise_s\n",
    "    px[:,ip] = noisy_state[:,0]"
   ]
  },
  {
   "cell_type": "code",
   "execution_count": 16,
   "metadata": {},
   "outputs": [],
   "source": [
    "# Create Simulation environment & simulate PF\n",
    "SIM_TIME= 50.0\n",
    "time = 0.0\n",
    "\n",
    "# RF_ID positions [x, y]\n",
    "rf_id = np.array([[10.0, 0.0],\n",
    "                  [10.0, 10.0],\n",
    "                  [0.0, 15.0],\n",
    "                  [-5.0, 20.0]])\n",
    "\n",
    "# State Vector [x y yaw v]'\n",
    "x_est = np.zeros((4, 1))\n",
    "x_true = np.zeros((4, 1))\n",
    "x_dr = np.zeros((4, 1))  # Dead reckoning\n",
    "\n",
    "# history\n",
    "h_x_est = x_est\n",
    "h_x_true = x_true\n",
    "h_x_dr = x_true\n",
    "h_x_particle = np.zeros((1,NP))\n",
    "h_y_particle = np.zeros((1,NP))\n",
    "h_x_measurement = []\n",
    "h_y_measurement = []\n",
    "\n",
    "count = 0\n",
    "while SIM_TIME >= time:\n",
    "    time += DT\n",
    "    u = calc_input()\n",
    "    \n",
    "    # Generate Ground Truth\n",
    "    x_true = motion_model(x_true, u)\n",
    "    \n",
    "    # Generate actual noisy control input\n",
    "    ud = generate_noisy_control_input(u)\n",
    "    x_dr = motion_model(x_dr, ud)\n",
    "    \n",
    "    # Propagate the particles\n",
    "    px = prediction(px, ud)   \n",
    "    \n",
    "    if count % SENSOR_UPDATE_RATE == 0:\n",
    "        # Generate actual noisy measurements\n",
    "        z = generate_noisy_measurement(x_true, rf_id)\n",
    "        \n",
    "        # Perform PF Update\n",
    "        x_est, px, pw = pf_update(px, pw, z)\n",
    "        \n",
    "        # Stack measurement for visualization\n",
    "        current_meas_x = []\n",
    "        current_meas_y = []\n",
    "        for i in range(len(z[:, 0])):\n",
    "            current_meas_x.append([x_true[0,0], z[i,1]])\n",
    "            current_meas_y.append([x_true[1,0], z[i,2]]) \n",
    "        h_x_measurement.append(current_meas_x)\n",
    "        h_y_measurement.append(current_meas_y)\n",
    "    else:\n",
    "        x_est = px.dot(pw.T)\n",
    "    \n",
    "    count = count + 1\n",
    "    h_x_est = np.hstack((h_x_est, x_est))\n",
    "    h_x_dr = np.hstack((h_x_dr, x_dr))\n",
    "    h_x_true = np.hstack((h_x_true, x_true))\n",
    "    x_p = np.array([px[0, :]])\n",
    "    y_p = np.array([px[1, :]])\n",
    "    h_x_particle = np.vstack((h_x_particle, x_p))\n",
    "    h_y_particle = np.vstack((h_y_particle, y_p))"
   ]
  },
  {
   "cell_type": "code",
   "execution_count": 17,
   "metadata": {},
   "outputs": [
    {
     "data": {
      "application/vnd.jupyter.widget-view+json": {
       "model_id": "1b952285cfb84999a9eff127ea6e99a4",
       "version_major": 2,
       "version_minor": 0
      },
      "text/plain": [
       "Canvas(toolbar=Toolbar(toolitems=[('Home', 'Reset original view', 'home', 'home'), ('Back', 'Back to previous …"
      ]
     },
     "metadata": {},
     "output_type": "display_data"
    }
   ],
   "source": [
    "# Animate Particle Filter\n",
    "measDatas = []\n",
    "numRfIds = len(rf_id[:, 0])\n",
    "\n",
    "fig, ax = plt.subplots()\n",
    "predData, = plt.plot([],[],'-k', label='Dead Reckoning Traj')\n",
    "gtData, = plt.plot([],[],'-b', label='Ground Truth Traj')\n",
    "pfData, = plt.plot([],[],'-r', label='PF Estimate')\n",
    "for _ in range(len(rf_id[:, 0])):\n",
    "    measData, = plt.plot([],[],'-g')\n",
    "    measDatas.append(measData)\n",
    "    \n",
    "particleData, = plt.plot([],[],'.r', label='Particles')\n",
    "numFrames = 1000\n",
    "\n",
    "frames=np.linspace(0, numFrames)\n",
    "ind = [(int)(frame * h_x_particle.shape[0]/ numFrames) for frame in frames]\n",
    "ind_meas = [(int)(frame * len(h_x_measurement)/ numFrames) for frame in frames]\n",
    "\n",
    "def init():\n",
    "    x_true = h_x_true[0,:]\n",
    "    #y_true = h_x_true[1,:]\n",
    "    ax.set_xlim([np.min(x_true) - 5, np.max(rf_id[:, 0]) + 5])\n",
    "    ax.set_ylim([np.min(rf_id[:, 1]) - 5, np.max(rf_id[:, 1]) + 5])\n",
    "    plt.plot(rf_id[:, 0], rf_id[:, 1], \"*k\")\n",
    "    plt.title(\"Dead Reckoning vs PF vs Ground Truth\")\n",
    "    plt.legend()\n",
    "    ax.grid(True)\n",
    "    \n",
    "def update(frameID):\n",
    "    predData.set_data(h_x_dr[0,0:ind[frameID]], h_x_dr[1,0:ind[frameID]])\n",
    "    gtData.set_data(h_x_true[0,0:ind[frameID]], h_x_true[1,0:ind[frameID]])\n",
    "    pfData.set_data(h_x_est[0,0:ind[frameID]], h_x_est[1,0:ind[frameID]])\n",
    "    particleData.set_data(h_x_particle[ind[frameID], :], h_y_particle[ind[frameID], :])\n",
    "    if frameID % SENSOR_UPDATE_RATE == 0:\n",
    "        for i in range(len(h_x_measurement[ind_meas[frameID]])):\n",
    "           measDatas[i].set_data(h_x_measurement[ind_meas[frameID]][i], h_y_measurement[ind_meas[frameID]][i]) \n",
    "anim = FuncAnimation(fig, update, frames=numFrames, interval= 1000, init_func=init, blit=True)\n",
    "plt.show()"
   ]
  },
  {
   "cell_type": "code",
   "execution_count": null,
   "metadata": {},
   "outputs": [],
   "source": []
  }
 ],
 "metadata": {
  "kernelspec": {
   "display_name": "Python 3",
   "language": "python",
   "name": "python3"
  },
  "language_info": {
   "codemirror_mode": {
    "name": "ipython",
    "version": 3
   },
   "file_extension": ".py",
   "mimetype": "text/x-python",
   "name": "python",
   "nbconvert_exporter": "python",
   "pygments_lexer": "ipython3",
   "version": "3.8.8"
  }
 },
 "nbformat": 4,
 "nbformat_minor": 4
}
