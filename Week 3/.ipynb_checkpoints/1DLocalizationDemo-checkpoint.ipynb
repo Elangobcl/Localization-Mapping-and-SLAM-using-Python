{
 "cells": [
  {
   "cell_type": "code",
   "execution_count": 1,
   "id": "913886f2-3d76-43b2-8863-6f45c9d9b213",
   "metadata": {},
   "outputs": [],
   "source": [
    "import numpy as np\n",
    "import matplotlib.pyplot as plt"
   ]
  },
  {
   "cell_type": "markdown",
   "id": "3b73f281-2cd5-4784-ac30-7a36bcb9b91c",
   "metadata": {},
   "source": [
    "# Initial belief\n",
    "Let's assume we want to find the position at t=1,\n",
    "\n",
    "$bel(x0)$ = $p(x_{t-1}) = \\begin{bmatrix} 0.333 & 0 & 0.333 & 0 & 0 & 0 & 0 & 0.333 & 0 & 0 \\end{bmatrix}$"
   ]
  },
  {
   "cell_type": "code",
   "execution_count": 2,
   "id": "d73fb783-93a6-40ee-9fdc-d3340b051e61",
   "metadata": {},
   "outputs": [
    {
     "data": {
      "image/png": "[encoded data removed]",
      "text/plain": [
       "<Figure size 432x288 with 1 Axes>"
      ]
     },
     "metadata": {
      "needs_background": "light"
     },
     "output_type": "display_data"
    }
   ],
   "source": [
    "x_t_minus_1 = np.array([0.333, 0, 0.333, 0, 0, 0, 0, 0.333, 0, 0])\n",
    "x_axis = np.arange(np.size(x_t_minus_1))\n",
    "plt.ylim((0,1))\n",
    "plt.grid()\n",
    "plt.title(\"Initial Belief of Robot\")\n",
    "plt.bar(x_axis, x_t_minus_1)\n",
    "ax = plt.gca()\n",
    "ax.set_xticks(x_axis);"
   ]
  },
  {
   "cell_type": "code",
   "execution_count": 3,
   "id": "11243c84-e7dd-4cb2-b216-5ea4a6eb34ca",
   "metadata": {},
   "outputs": [
    {
     "data": {
      "text/plain": [
       "<BarContainer object of 10 artists>"
      ]
     },
     "execution_count": 3,
     "metadata": {},
     "output_type": "execute_result"
    },
    {
     "data": {
      "image/png": "[encoded data removed]",
      "text/plain": [
       "<Figure size 432x288 with 1 Axes>"
      ]
     },
     "metadata": {
      "needs_background": "light"
     },
     "output_type": "display_data"
    }
   ],
   "source": [
    "# Cell Transition - Perfect world - Assume Ut = 2\n",
    "x_t_perfect = np.zeros((10,1))\n",
    "for i in range(10):\n",
    "    x_t_perfect[i] = x_t_minus_1[i - 2]\n",
    "\n",
    "# Plot the Perfect Transition\n",
    "plt.ylim((0,1))\n",
    "plt.grid()\n",
    "plt.title(\"Perfect Cell Transition\")\n",
    "ax = plt.gca()\n",
    "ax.set_xticks(x_axis);\n",
    "plt.bar(x_axis, x_t_perfect[:,0])"
   ]
  },
  {
   "cell_type": "markdown",
   "id": "c4751a69-5bea-4760-88f8-dbb31b455c9e",
   "metadata": {},
   "source": [
    "# Cell Transition Probability\n",
    "Let's assume we give control input $u_t = 2$\n",
    "We want to define $p(x_t|x_{t-1}, u_t)$ a.k.a state transition probability\n",
    "Specifically, we want it when $u_t = 2$\n",
    "\n",
    "Let's define the state transition probability as 80% robot succeeds in moving two cells, 10% it overhshoots by one cell and 10% it undershoots by one cell\n",
    "\n",
    "Also, we assume that the robot wraps to initial position after it crosses the cell number 10. In other words, the hallway is circular\n",
    "\n",
    "This can be mathematically represented as:\n",
    "\n",
    "$ p(x_t | x_{t-1}, u_t = 2) = \\begin{bmatrix}\n",
    "x_{t-1}/x_{t} & 0 & 1 & 2 & 3 & 4 & 5 & 6 & 7 & 8 & 9 \\\\\n",
    "0 & 0 & 0.1 & 0.8 & 0.1 & 0 & 0 & 0 & 0 & 0 & 0 \\\\\n",
    "1 & 0 & 0 & 0.1 & 0.8 & 0.1 & 0 & 0 & 0 & 0 & 0 \\\\\n",
    "2 & 0 & 0 & 0 & 0.1 & 0.8 & 0.1 & 0 & 0 & 0 & 0 \\\\\n",
    "3 & 0 & 0 & 0 & 0 & 0.1 & 0.8 & 0.1 & 0 & 0 & 0 \\\\\n",
    "4 & 0 & 0 & 0 & 0 & 0 & 0.1 & 0.8 & 0.1 & 0 & 0 \\\\\n",
    "5 & 0 & 0 & 0 & 0 & 0 & 0 & 0.1 & 0.8 & 0.1 & 0 \\\\\n",
    "6 & 0 & 0 & 0 & 0 & 0 & 0 & 0 & 0.1 & 0.8 & 0.1 \\\\\n",
    "7 & 0.1 & 0 & 0 & 0 & 0 & 0 & 0 & 0 & 0.1 & 0.8 \\\\\n",
    "8 & 0.8 & 0.1 & 0 & 0 & 0 & 0 & 0 & 0 & 0 & 0.1 \\\\\n",
    "9 & 0.1 & 0.8 & 0.1 & 0 & 0 & 0 & 0 & 0 & 0 & 0 \\\\\n",
    "\\end{bmatrix}$\n",
    "\n",
    "This is the conditional distribution of two random variables: $x_t$ and $x_{t-1}$ given the value of random variable $u_t$ = 2"
   ]
  },
  {
   "cell_type": "code",
   "execution_count": 4,
   "id": "15a931fe-4a36-4e13-8998-79ced319bc96",
   "metadata": {},
   "outputs": [],
   "source": [
    "state_transition_prob = np.array([[0, 0.1, 0.8, 0.1, 0, 0, 0, 0, 0, 0],\n",
    "                                  [0, 0, 0.1, 0.8, 0.1, 0, 0, 0, 0, 0],\n",
    "                                  [0, 0, 0, 0.1, 0.8, 0.1, 0, 0, 0, 0],\n",
    "                                  [0, 0, 0, 0, 0.1, 0.8, 0.1, 0, 0, 0],\n",
    "                                  [0, 0, 0, 0, 0, 0.1, 0.8, 0.1, 0, 0],\n",
    "                                  [0, 0, 0, 0, 0, 0, 0.1, 0.8, 0.1, 0],\n",
    "                                  [0, 0, 0, 0, 0, 0, 0, 0.1, 0.8, 0.1],\n",
    "                                  [0.1, 0, 0, 0, 0, 0, 0, 0, 0.1, 0.8],\n",
    "                                  [0.8, 0.1, 0, 0, 0, 0, 0, 0, 0, 0.1],\n",
    "                                  [0.1, 0.8, 0.1, 0, 0, 0, 0, 0, 0, 0]])"
   ]
  },
  {
   "cell_type": "markdown",
   "id": "5151c76e-c44f-47e0-a929-6fec32d88520",
   "metadata": {},
   "source": [
    "# Recover next _prior_ using theorem of total probability\n",
    "We know that,\n",
    "\n",
    "$p(x_t, u_t) = \\int p(x_t|u_t,x_{t-1})p(x_{t-1})dt$\n",
    "\n",
    "In Bayesian modelling, \n",
    "\n",
    "$p(x_t, u_t)$ = $\\bar{bel}(X)$ = prior \n",
    "\n",
    "Hence,\n",
    "$\\bar{bel}(X) = \\int p(x_t|u_t,x_{t-1})p(x_{t-1})dt$"
   ]
  },
  {
   "cell_type": "code",
   "execution_count": 5,
   "id": "888360c5-e775-4831-9de8-cb1dfd831e81",
   "metadata": {},
   "outputs": [
    {
     "name": "stdout",
     "output_type": "stream",
     "text": [
      "[[0.0333]\n",
      " [0.0333]\n",
      " [0.2664]\n",
      " [0.0666]\n",
      " [0.2664]\n",
      " [0.0333]\n",
      " [0.    ]\n",
      " [0.    ]\n",
      " [0.0333]\n",
      " [0.2664]]\n"
     ]
    }
   ],
   "source": [
    "# Calculate the new belief\n",
    "# Non-Matrix approach\n",
    "x_t_slow = np.zeros((10,1))\n",
    "for i in range(10):\n",
    "    for j in range(10):\n",
    "        x_t_slow[i] += state_transition_prob[j,i] * x_t_minus_1[j]\n",
    "\n",
    "print(x_t_slow)"
   ]
  },
  {
   "cell_type": "code",
   "execution_count": 6,
   "id": "b1bca9a8-b165-4717-8dec-38eefb186cb7",
   "metadata": {},
   "outputs": [
    {
     "name": "stdout",
     "output_type": "stream",
     "text": [
      "[0.0333 0.0333 0.2664 0.0666 0.2664 0.0333 0.     0.     0.0333 0.2664]\n"
     ]
    }
   ],
   "source": [
    "# Calculate the new belief, leverage matrix multiplication\n",
    "x_t = np.zeros((10,1))\n",
    "x_t = np.sum((state_transition_prob.T * x_t_minus_1), axis=1)\n",
    "print(x_t)"
   ]
  },
  {
   "cell_type": "code",
   "execution_count": 7,
   "id": "d99247d4-5878-417e-ba2a-4251f2251d76",
   "metadata": {},
   "outputs": [
    {
     "data": {
      "text/plain": [
       "<BarContainer object of 10 artists>"
      ]
     },
     "execution_count": 7,
     "metadata": {},
     "output_type": "execute_result"
    },
    {
     "data": {
      "image/png": "[encoded data removed]",
      "text/plain": [
       "<Figure size 432x288 with 1 Axes>"
      ]
     },
     "metadata": {
      "needs_background": "light"
     },
     "output_type": "display_data"
    }
   ],
   "source": [
    "plt.ylim((0,1))\n",
    "plt.grid()\n",
    "plt.title(\"Prior after One Control Input\")\n",
    "ax = plt.gca()\n",
    "ax.set_xticks(x_axis);\n",
    "plt.bar(x_axis, x_t)"
   ]
  },
  {
   "cell_type": "code",
   "execution_count": 8,
   "id": "704aec15-9403-437d-85af-d838363cd01a",
   "metadata": {},
   "outputs": [
    {
     "name": "stdout",
     "output_type": "stream",
     "text": [
      "Prior Belief after 100 iterations: [0.10030287 0.10095472 0.10120373 0.10095477 0.1003029  0.09949712\n",
      " 0.09884523 0.09859625 0.09884527 0.09949715]\n"
     ]
    },
    {
     "data": {
      "application/vnd.jupyter.widget-view+json": {
       "model_id": "0e3b6d1823bf4f4fac7217281aa5d9ce",
       "version_major": 2,
       "version_minor": 0
      },
      "text/plain": [
       "interactive(children=(IntSlider(value=1, description='step', max=101), Output()), _dom_classes=('widget-intera…"
      ]
     },
     "metadata": {},
     "output_type": "display_data"
    }
   ],
   "source": [
    "# No Measurement and continuous prior updates\n",
    "from ipywidgets import interact, IntSlider\n",
    "\n",
    "x_axis = np.arange(10)\n",
    "prior_beliefs = [np.sum((state_transition_prob.T * x_t_minus_1), axis=1)]\n",
    "x_t = prior_beliefs[0]\n",
    "for i in range(100):\n",
    "    x_t = np.sum((state_transition_prob.T * x_t), axis=1)\n",
    "    prior_beliefs.append(x_t)\n",
    "\n",
    "print('Prior Belief after 100 iterations: {}'.format(x_t))\n",
    "\n",
    "def show_prior(step):\n",
    "    plt.grid()\n",
    "    plt.ylim((0,1))\n",
    "    plt.bar(x_axis, prior_beliefs[step-1])\n",
    "    ax = plt.gca()\n",
    "    ax.set_xticks(x_axis);\n",
    "    plt.title(f'Step {step}')\n",
    "    \n",
    "interact(show_prior, step=IntSlider(value=1, max=len(prior_beliefs)));"
   ]
  },
  {
   "cell_type": "markdown",
   "id": "fa5f3ea3-6925-4af7-b731-8a1bb2489a97",
   "metadata": {},
   "source": [
    "# Incorporating Measurements\n",
    "Let's say we have a binary sensor that gives probability that it sees a door when there is actually a door \n",
    "with probability of 0.7. Let, 0.1 be the probability for when it still reports seeing a door when there is actually no door\n",
    "\n",
    "Let, \n",
    "\n",
    "$hallway = \\begin{bmatrix}\n",
    "True & False & True & False & False & False & False & True & False & False\n",
    "\\end{bmatrix}$\n",
    "\n",
    "Where,\n",
    "_True_ represents the position of door and _False_ represents the walls\n",
    "\n",
    "So, Mathematically, The _observation likelihood_ can be written as\n",
    "\n",
    "$P(z_t | x_t)$ : \n",
    "\n",
    "$P(Z=door|X=hallway) = 0.7$ \n",
    "\n",
    "$P(Z=door|X=\\neg hallway) = 0.1$\n",
    "\n",
    "Similarly,\n",
    "\n",
    "$P(Z=\\neg door|X=hallway) = 0.3$ \n",
    "\n",
    "$P(Z=\\neg door|X=\\neg hallway) = 0.9$\n",
    "\n",
    "Yes, this observation likelihood representation assumes having prior knowledge of doorway positions in hallway\n",
    "\n",
    "Recall,\n",
    "\n",
    "$P(x_t|z_t,u_t) = \\eta P(z_t|x_t) \\times P(x_t|z_{t-1}, u_{t-1})$\n",
    "\n",
    "$bel(x_t) = \\eta P(z_t|x_t) \\times \\bar{bel}(x_t)$"
   ]
  },
  {
   "cell_type": "code",
   "execution_count": 9,
   "id": "b300de22-4524-4070-a588-93d7bfa09ce0",
   "metadata": {},
   "outputs": [
    {
     "data": {
      "text/plain": [
       "<BarContainer object of 10 artists>"
      ]
     },
     "execution_count": 9,
     "metadata": {},
     "output_type": "execute_result"
    },
    {
     "data": {
      "image/png": "[encoded data removed]",
      "text/plain": [
       "<Figure size 432x288 with 1 Axes>"
      ]
     },
     "metadata": {
      "needs_background": "light"
     },
     "output_type": "display_data"
    }
   ],
   "source": [
    "# Uniform initial belief\n",
    "hallway = np.array([True, False, True, False, False, False, True, False, False, False])\n",
    "z_true_pos_prob = 0.7\n",
    "z_false_pos_prob = 0.1\n",
    "\n",
    "x_t = np.array([0.1, 0.1, 0.1, 0.1, 0.1, 0.1, 0.1, 0.1, 0.1, 0.1])\n",
    "x_0 = x_t\n",
    "x_axis = np.linspace(0, 10, num=10)\n",
    "plt.ylim((0,1))\n",
    "plt.grid()\n",
    "plt.title(\"Initial belief\")\n",
    "x_axis = np.arange(10)\n",
    "ax = plt.gca()\n",
    "ax.set_xticks(x_axis);\n",
    "plt.bar(x_axis, x_0)"
   ]
  },
  {
   "cell_type": "code",
   "execution_count": 10,
   "id": "f2d751cf-65da-4721-b812-06b084de3b3b",
   "metadata": {},
   "outputs": [
    {
     "name": "stdout",
     "output_type": "stream",
     "text": [
      "The normalization constant is: 3.571428571428571\n",
      "Verify if it is a proper distribution with sum: 1.0\n"
     ]
    }
   ],
   "source": [
    "# Let's assume robot reports seeing a door (correctly) at first position\n",
    "# Let's do this measurement update at t=0 before incorporating the motion model\n",
    "\n",
    "# Calculate normalization constant\n",
    "eta_inv = 0\n",
    "for i in range(np.size(x_t)):\n",
    "    if hallway[i] == True:\n",
    "        eta_inv = eta_inv + z_true_pos_prob * x_t[i]\n",
    "    else:\n",
    "        eta_inv = eta_inv + z_false_pos_prob * x_t[i]  \n",
    "\n",
    "# Calculate the entire posterior distribution\n",
    "eta = 1 / eta_inv\n",
    "for i in range(np.size(x_t)):\n",
    "    if hallway[i] == True:\n",
    "        x_t[i] = eta * z_true_pos_prob * x_t[i]\n",
    "    else:\n",
    "        x_t[i] = eta * z_false_pos_prob * x_t[i]\n",
    "        \n",
    "\n",
    "print(f'The normalization constant is: {1 / eta_inv}')\n",
    "print(f'Verify if it is a proper distribution with sum: {np.sum(x_t)}')"
   ]
  },
  {
   "cell_type": "code",
   "execution_count": 11,
   "id": "f90beef4-38e8-48ea-a7c7-49764b2ba204",
   "metadata": {},
   "outputs": [
    {
     "data": {
      "text/plain": [
       "<BarContainer object of 10 artists>"
      ]
     },
     "execution_count": 11,
     "metadata": {},
     "output_type": "execute_result"
    },
    {
     "data": {
      "image/png": "[encoded data removed]",
      "text/plain": [
       "<Figure size 432x288 with 1 Axes>"
      ]
     },
     "metadata": {
      "needs_background": "light"
     },
     "output_type": "display_data"
    }
   ],
   "source": [
    "# Plot updated belief after first measurement\n",
    "x_0 = x_t\n",
    "x_axis = np.arange(np.size(x_0))\n",
    "plt.ylim((0,1))\n",
    "plt.grid()\n",
    "plt.title(\"Belief after first measurement\")\n",
    "ax = plt.gca()\n",
    "ax.set_xticks(x_axis);\n",
    "plt.bar(x_axis, x_0)"
   ]
  },
  {
   "cell_type": "code",
   "execution_count": 12,
   "id": "dd251e34-f23b-43ff-8383-72b8a5fb9576",
   "metadata": {},
   "outputs": [
    {
     "name": "stdout",
     "output_type": "stream",
     "text": [
      "Verify if it is a proper distribution with sum: 1.0\n"
     ]
    }
   ],
   "source": [
    "# Let's do it more efficiently\n",
    "z_true_pos_prob = 0.7\n",
    "z_false_pos_prob = 0.1\n",
    "x_t = np.array([0.1, 0.1, 0.1, 0.1, 0.1, 0.1, 0.1, 0.1, 0.1, 0.1])\n",
    "\n",
    "# Use a scaling factor defined by odds\n",
    "odds = z_true_pos_prob / z_false_pos_prob\n",
    "\n",
    "# Measurement update - un-normalized\n",
    "x_t[hallway==True] *= odds\n",
    "\n",
    "# Normalize to make it a distribution\n",
    "x_t = x_t / np.sum(x_t)\n",
    "\n",
    "print(f'Verify if it is a proper distribution with sum: {np.sum(x_t)}')"
   ]
  },
  {
   "cell_type": "code",
   "execution_count": 13,
   "id": "6320be05-8841-401b-9f37-f6f04825b02a",
   "metadata": {},
   "outputs": [
    {
     "data": {
      "image/png": "[encoded data removed]",
      "text/plain": [
       "<Figure size 432x288 with 1 Axes>"
      ]
     },
     "metadata": {
      "needs_background": "light"
     },
     "output_type": "display_data"
    }
   ],
   "source": [
    "# Plot updated belief after first measurement\n",
    "x_0 = x_t\n",
    "plt.ylim((0,1))\n",
    "plt.grid()\n",
    "plt.title(\"Belief after first measurement\")\n",
    "plt.bar(x_axis, x_0)\n",
    "ax = plt.gca()\n",
    "ax.set_xticks(x_axis);"
   ]
  },
  {
   "cell_type": "code",
   "execution_count": 14,
   "id": "3afcb0ba-c0c0-47c8-869d-76fa19c5e69e",
   "metadata": {},
   "outputs": [
    {
     "name": "stdout",
     "output_type": "stream",
     "text": [
      "Belief after 20 time steps: [8.98772395e-01 3.55110319e-02 2.47442730e-02 2.61026508e-04\n",
      " 1.73858031e-04 7.80573915e-05 1.02256669e-03 2.82707441e-04\n",
      " 3.61377808e-03 3.55403058e-02]\n",
      "Robot after 20 time steps is at pos: 0\n"
     ]
    },
    {
     "data": {
      "application/vnd.jupyter.widget-view+json": {
       "model_id": "88d3ed96d6ed45ff8a7ff59e58f25e40",
       "version_major": 2,
       "version_minor": 0
      },
      "text/plain": [
       "interactive(children=(IntSlider(value=0, description='step', max=20), Output()), _dom_classes=('widget-interac…"
      ]
     },
     "metadata": {},
     "output_type": "display_data"
    }
   ],
   "source": [
    "# Get everything together and run for few iterations using Bayes filter algorithm\n",
    "from ipywidgets import interact, IntSlider\n",
    "\n",
    "# Sim Params\n",
    "iter = 20\n",
    "x_axis = np.arange(10)\n",
    "\n",
    "hallway = np.array([True, False, True, False, False, False, True, False, False, False])\n",
    "z_true_pos_prob = 0.7\n",
    "z_false_pos_prob = 0.1\n",
    "odds = z_true_pos_prob / z_false_pos_prob\n",
    "\n",
    "x_0 = np.array([0.1, 0.1, 0.1, 0.1, 0.1, 0.1, 0.1, 0.1, 0.1, 0.1])\n",
    "x_t = x_0\n",
    "x_t[hallway==True] *= odds\n",
    "x_t = x_t / np.sum(x_t)\n",
    "\n",
    "# Measurement update location\n",
    "meas_upd_loc = [0, 2, 6]\n",
    "\n",
    "beliefs = [x_t]\n",
    "total_steps = iter+1\n",
    "for i in range(1,total_steps):\n",
    "    # State Transition\n",
    "    x_t = np.sum((state_transition_prob.T * x_t), axis=1)\n",
    "    # Measurement update\n",
    "    if (i * 2) % np.size(x_t) in meas_upd_loc:\n",
    "        x_t[hallway==True] *= odds\n",
    "        x_t = x_t / np.sum(x_t)\n",
    "    \n",
    "    beliefs.append(x_t)\n",
    "    \n",
    "\n",
    "print('Belief after {} time steps: {}'.format(total_steps - 1, x_t))\n",
    "print('Robot after {} time steps is at pos: {}'.format(total_steps - 1, np.argmax(x_t)))\n",
    "\n",
    "def show_prior(step):\n",
    "    plt.grid()\n",
    "    plt.ylim((0,1))\n",
    "    plt.bar(x_axis, beliefs[step])\n",
    "    plt.title(f'Time Step {step}')\n",
    "    \n",
    "interact(show_prior, step=IntSlider(value=0, max=len(beliefs)-1));"
   ]
  },
  {
   "cell_type": "code",
   "execution_count": null,
   "id": "bd7b0d44-990d-427a-8137-c78b17b026f8",
   "metadata": {},
   "outputs": [],
   "source": []
  }
 ],
 "metadata": {
  "kernelspec": {
   "display_name": "Python 3",
   "language": "python",
   "name": "python3"
  },
  "language_info": {
   "codemirror_mode": {
    "name": "ipython",
    "version": 3
   },
   "file_extension": ".py",
   "mimetype": "text/x-python",
   "name": "python",
   "nbconvert_exporter": "python",
   "pygments_lexer": "ipython3",
   "version": "3.8.8"
  }
 },
 "nbformat": 4,
 "nbformat_minor": 5
}
