{
 "cells": [
  {
   "cell_type": "code",
   "execution_count": 1,
   "id": "c98454ea-6b6f-4694-a0f1-7f3c77c10020",
   "metadata": {},
   "outputs": [],
   "source": [
    "import numpy as np\n",
    "import matplotlib.pyplot as plt"
   ]
  },
  {
   "cell_type": "code",
   "execution_count": 2,
   "id": "4b5944d4-14f1-4652-9195-487b9100a97d",
   "metadata": {},
   "outputs": [],
   "source": [
    "x_t_minus_1 = np.array([0.333, 0, 0.333, 0, 0, 0, 0, 0.333, 0, 0])"
   ]
  },
  {
   "cell_type": "code",
   "execution_count": 3,
   "id": "3bc892c2-ac01-4a36-9996-d5627ea379f0",
   "metadata": {},
   "outputs": [
    {
     "name": "stdout",
     "output_type": "stream",
     "text": [
      "[[0.   ]\n",
      " [0.   ]\n",
      " [0.333]\n",
      " [0.   ]\n",
      " [0.333]\n",
      " [0.   ]\n",
      " [0.   ]\n",
      " [0.   ]\n",
      " [0.   ]\n",
      " [0.333]]\n"
     ]
    }
   ],
   "source": [
    "x_t_perfect = np.zeros((10,1))\n",
    "for i in range(10):\n",
    "    x_t_perfect[i] = x_t_minus_1[i - 2]\n",
    "print(x_t_perfect)"
   ]
  },
  {
   "cell_type": "code",
   "execution_count": 4,
   "id": "5a28f773-fe19-4dbb-8a28-cb0f86b5b642",
   "metadata": {},
   "outputs": [],
   "source": [
    "y = x_t_perfect[:,0]"
   ]
  },
  {
   "cell_type": "code",
   "execution_count": 5,
   "id": "abd1f610-c581-4909-9d1f-c91908a71b6c",
   "metadata": {},
   "outputs": [
    {
     "data": {
      "text/plain": [
       "(10,)"
      ]
     },
     "execution_count": 5,
     "metadata": {},
     "output_type": "execute_result"
    }
   ],
   "source": [
    "y.shape"
   ]
  },
  {
   "cell_type": "code",
   "execution_count": 6,
   "id": "588abea0-c303-4241-98fe-44a39c16e840",
   "metadata": {},
   "outputs": [
    {
     "data": {
      "text/plain": [
       "(10, 1)"
      ]
     },
     "execution_count": 6,
     "metadata": {},
     "output_type": "execute_result"
    }
   ],
   "source": [
    "x_t_perfect.shape"
   ]
  },
  {
   "cell_type": "code",
   "execution_count": 7,
   "id": "78d085e8-f7a9-4dfa-98b0-ffe2ca7699a4",
   "metadata": {},
   "outputs": [
    {
     "data": {
      "text/plain": [
       "array([0.   , 0.   , 0.333, 0.   , 0.333, 0.   , 0.   , 0.   , 0.   ,\n",
       "       0.333])"
      ]
     },
     "execution_count": 7,
     "metadata": {},
     "output_type": "execute_result"
    }
   ],
   "source": [
    "y"
   ]
  },
  {
   "cell_type": "code",
   "execution_count": 8,
   "id": "c5e0c350-c7c9-414d-bf0c-8de5ecc81eb3",
   "metadata": {},
   "outputs": [
    {
     "data": {
      "text/plain": [
       "0.0"
      ]
     },
     "execution_count": 8,
     "metadata": {},
     "output_type": "execute_result"
    }
   ],
   "source": [
    "x_t_perfect[0][0]"
   ]
  },
  {
   "cell_type": "code",
   "execution_count": 9,
   "id": "4e9a21f7-e846-49ce-81a5-930d11389c70",
   "metadata": {},
   "outputs": [
    {
     "data": {
      "text/plain": [
       "0.0"
      ]
     },
     "execution_count": 9,
     "metadata": {},
     "output_type": "execute_result"
    }
   ],
   "source": [
    "y[0]"
   ]
  },
  {
   "cell_type": "code",
   "execution_count": 10,
   "id": "bc1fe81e-1247-4950-b403-cbac737d42e7",
   "metadata": {},
   "outputs": [],
   "source": [
    "state_transition_prob = np.array([[0, 0.1, 0.8, 0.1, 0, 0, 0, 0, 0, 0],\n",
    "                                  [0, 0, 0.1, 0.8, 0.1, 0, 0, 0, 0, 0],\n",
    "                                  [0, 0, 0, 0.1, 0.8, 0.1, 0, 0, 0, 0],\n",
    "                                  [0, 0, 0, 0, 0.1, 0.8, 0.1, 0, 0, 0],\n",
    "                                  [0, 0, 0, 0, 0, 0.1, 0.8, 0.1, 0, 0],\n",
    "                                  [0, 0, 0, 0, 0, 0, 0.1, 0.8, 0.1, 0],\n",
    "                                  [0, 0, 0, 0, 0, 0, 0, 0.1, 0.8, 0.1],\n",
    "                                  [0.1, 0, 0, 0, 0, 0, 0, 0, 0.1, 0.8],\n",
    "                                  [0.8, 0.1, 0, 0, 0, 0, 0, 0, 0, 0.1],\n",
    "                                  [0.1, 0.8, 0.1, 0, 0, 0, 0, 0, 0, 0]])"
   ]
  },
  {
   "cell_type": "code",
   "execution_count": 11,
   "id": "a97dc531-4fc4-434d-9fb4-60c7367c71be",
   "metadata": {},
   "outputs": [
    {
     "data": {
      "text/plain": [
       "array([[0. , 0. , 0. , 0. , 0. , 0. , 0. , 0.1, 0.8, 0.1],\n",
       "       [0.1, 0. , 0. , 0. , 0. , 0. , 0. , 0. , 0.1, 0.8],\n",
       "       [0.8, 0.1, 0. , 0. , 0. , 0. , 0. , 0. , 0. , 0.1],\n",
       "       [0.1, 0.8, 0.1, 0. , 0. , 0. , 0. , 0. , 0. , 0. ],\n",
       "       [0. , 0.1, 0.8, 0.1, 0. , 0. , 0. , 0. , 0. , 0. ],\n",
       "       [0. , 0. , 0.1, 0.8, 0.1, 0. , 0. , 0. , 0. , 0. ],\n",
       "       [0. , 0. , 0. , 0.1, 0.8, 0.1, 0. , 0. , 0. , 0. ],\n",
       "       [0. , 0. , 0. , 0. , 0.1, 0.8, 0.1, 0. , 0. , 0. ],\n",
       "       [0. , 0. , 0. , 0. , 0. , 0.1, 0.8, 0.1, 0. , 0. ],\n",
       "       [0. , 0. , 0. , 0. , 0. , 0. , 0.1, 0.8, 0.1, 0. ]])"
      ]
     },
     "execution_count": 11,
     "metadata": {},
     "output_type": "execute_result"
    }
   ],
   "source": [
    "state_transition_prob.T"
   ]
  },
  {
   "cell_type": "code",
   "execution_count": 12,
   "id": "4292b891-24da-4b22-bc2a-f1c3f6a9517b",
   "metadata": {},
   "outputs": [],
   "source": [
    "x_t_slow = np.zeros((10,1))"
   ]
  },
  {
   "cell_type": "code",
   "execution_count": 13,
   "id": "3959f08b-f6a1-4074-bea3-a2e1423c861d",
   "metadata": {},
   "outputs": [
    {
     "data": {
      "text/plain": [
       "array([0.0333, 0.0333, 0.2664, 0.0666, 0.2664, 0.0333, 0.    , 0.    ,\n",
       "       0.0333, 0.2664])"
      ]
     },
     "execution_count": 13,
     "metadata": {},
     "output_type": "execute_result"
    }
   ],
   "source": [
    "np.dot(state_transition_prob.T,x_t_minus_1)"
   ]
  },
  {
   "cell_type": "code",
   "execution_count": 14,
   "id": "71d63f98-d125-4583-aa6e-4c9346d93e0b",
   "metadata": {},
   "outputs": [
    {
     "data": {
      "text/plain": [
       "array([0.2664, 0.0333, 0.    , 0.    , 0.0333, 0.2664, 0.0333, 0.0333,\n",
       "       0.2664, 0.0666])"
      ]
     },
     "execution_count": 14,
     "metadata": {},
     "output_type": "execute_result"
    }
   ],
   "source": [
    "np.dot(state_transition_prob,x_t_minus_1)"
   ]
  },
  {
   "cell_type": "code",
   "execution_count": 15,
   "id": "546a0b80-c8a1-4de7-ac99-c5568440e6e6",
   "metadata": {},
   "outputs": [
    {
     "data": {
      "text/plain": [
       "array([[0.01, 0.01, 0.01, 0.01, 0.01, 0.01, 0.01, 0.01, 0.01, 0.01],\n",
       "       [0.01, 0.01, 0.01, 0.01, 0.01, 0.01, 0.01, 0.01, 0.01, 0.01],\n",
       "       [0.01, 0.01, 0.01, 0.01, 0.01, 0.01, 0.01, 0.01, 0.01, 0.01],\n",
       "       [0.01, 0.01, 0.01, 0.01, 0.01, 0.01, 0.01, 0.01, 0.01, 0.01],\n",
       "       [0.01, 0.01, 0.01, 0.01, 0.01, 0.01, 0.01, 0.01, 0.01, 0.01],\n",
       "       [0.01, 0.01, 0.01, 0.01, 0.01, 0.01, 0.01, 0.01, 0.01, 0.01],\n",
       "       [0.01, 0.01, 0.01, 0.01, 0.01, 0.01, 0.01, 0.01, 0.01, 0.01],\n",
       "       [0.01, 0.01, 0.01, 0.01, 0.01, 0.01, 0.01, 0.01, 0.01, 0.01],\n",
       "       [0.01, 0.01, 0.01, 0.01, 0.01, 0.01, 0.01, 0.01, 0.01, 0.01],\n",
       "       [0.01, 0.01, 0.01, 0.01, 0.01, 0.01, 0.01, 0.01, 0.01, 0.01]])"
      ]
     },
     "execution_count": 15,
     "metadata": {},
     "output_type": "execute_result"
    }
   ],
   "source": [
    "u = 1\n",
    "n = 10\n",
    "px = np.ones((n,n)) / (n * n)\n",
    "px"
   ]
  },
  {
   "cell_type": "code",
   "execution_count": 16,
   "id": "f7d83cd4-0010-4562-a505-59967d9424e9",
   "metadata": {},
   "outputs": [
    {
     "data": {
      "text/plain": [
       "0.01"
      ]
     },
     "execution_count": 16,
     "metadata": {},
     "output_type": "execute_result"
    }
   ],
   "source": [
    "px[0][0]"
   ]
  },
  {
   "cell_type": "code",
   "execution_count": 17,
   "id": "45024355-abb8-4e66-acae-b425f11ca6fc",
   "metadata": {},
   "outputs": [
    {
     "data": {
      "text/plain": [
       "10"
      ]
     },
     "execution_count": 17,
     "metadata": {},
     "output_type": "execute_result"
    }
   ],
   "source": [
    "r,c = px.shape\n",
    "r"
   ]
  },
  {
   "cell_type": "code",
   "execution_count": 18,
   "id": "92841a31-64e8-493a-861e-e5c8e6dd2c53",
   "metadata": {},
   "outputs": [],
   "source": [
    "mark=np.array(([4,4],[4,6],[4,8],[6,8],[8,8]))\n",
    "mark_x_1 = np.array(([3,4],[3,6],[3,8],[5,8],[7,8]))"
   ]
  },
  {
   "cell_type": "code",
   "execution_count": 19,
   "id": "9de76147-6796-4755-9919-0fb839a9f75f",
   "metadata": {},
   "outputs": [
    {
     "data": {
      "text/plain": [
       "True"
      ]
     },
     "execution_count": 19,
     "metadata": {},
     "output_type": "execute_result"
    }
   ],
   "source": [
    "np.array(([4,1])) in mark"
   ]
  },
  {
   "cell_type": "code",
   "execution_count": 20,
   "id": "0b9a3e95-c31b-41ec-9928-b8e146295ccf",
   "metadata": {},
   "outputs": [
    {
     "data": {
      "text/plain": [
       "array([4, 1])"
      ]
     },
     "execution_count": 20,
     "metadata": {},
     "output_type": "execute_result"
    }
   ],
   "source": [
    "np.array(([4,1]))"
   ]
  },
  {
   "cell_type": "code",
   "execution_count": 21,
   "id": "d79e5d27-2788-4f96-bd2d-4d2d65b34bc1",
   "metadata": {},
   "outputs": [
    {
     "data": {
      "text/plain": [
       "10"
      ]
     },
     "execution_count": 21,
     "metadata": {},
     "output_type": "execute_result"
    }
   ],
   "source": [
    "LL= np.zeros((10,10))\n",
    "LL.shape[0]"
   ]
  },
  {
   "cell_type": "code",
   "execution_count": 22,
   "id": "08b92ad4-2f65-434c-840c-f3f2cbd0a1e2",
   "metadata": {},
   "outputs": [
    {
     "data": {
      "text/plain": [
       "4"
      ]
     },
     "execution_count": 22,
     "metadata": {},
     "output_type": "execute_result"
    }
   ],
   "source": [
    "i,j = mark[0]\n",
    "i"
   ]
  },
  {
   "cell_type": "code",
   "execution_count": 23,
   "id": "9dcfdacb-0379-485c-8fab-95432e33c33c",
   "metadata": {},
   "outputs": [
    {
     "name": "stdout",
     "output_type": "stream",
     "text": [
      "1\n",
      "2\n",
      "3\n",
      "4\n",
      "5\n",
      "6\n",
      "7\n",
      "8\n",
      "9\n"
     ]
    }
   ],
   "source": [
    "for i in range(1,10):\n",
    "    print(i)"
   ]
  },
  {
   "cell_type": "code",
   "execution_count": 24,
   "id": "d33885db-cc65-4a50-9048-be5f3cc51fee",
   "metadata": {},
   "outputs": [
    {
     "data": {
      "text/plain": [
       "array([[0.05, 0.05, 0.05, 0.05, 0.05, 0.05, 0.05, 0.05, 0.05, 0.05],\n",
       "       [0.05, 0.05, 0.05, 0.05, 0.05, 0.05, 0.05, 0.05, 0.05, 0.05],\n",
       "       [0.05, 0.05, 0.05, 0.05, 0.05, 0.05, 0.05, 0.05, 0.05, 0.05],\n",
       "       [0.05, 0.05, 0.05, 0.05, 0.25, 0.05, 0.25, 0.05, 0.25, 0.05],\n",
       "       [0.05, 0.05, 0.05, 0.05, 0.7 , 0.05, 0.7 , 0.05, 0.7 , 0.05],\n",
       "       [0.05, 0.05, 0.05, 0.05, 0.05, 0.05, 0.05, 0.05, 0.25, 0.05],\n",
       "       [0.05, 0.05, 0.05, 0.05, 0.05, 0.05, 0.05, 0.05, 0.7 , 0.05],\n",
       "       [0.05, 0.05, 0.05, 0.05, 0.05, 0.05, 0.05, 0.05, 0.25, 0.05],\n",
       "       [0.05, 0.05, 0.05, 0.05, 0.05, 0.05, 0.05, 0.05, 0.7 , 0.05],\n",
       "       [0.05, 0.05, 0.05, 0.05, 0.05, 0.05, 0.05, 0.05, 0.05, 0.05]])"
      ]
     },
     "execution_count": 24,
     "metadata": {},
     "output_type": "execute_result"
    }
   ],
   "source": [
    "x_loc=0\n",
    "x_1_loc=0\n",
    "for i in range(LL.shape[0]):      \n",
    "    for j in range(LL.shape[0]):\n",
    "        if(x_loc<len(mark)):\n",
    "            r,c = mark[x_loc]\n",
    "        if(x_1_loc<len(mark_x_1)):\n",
    "            r1,c1 = mark_x_1[x_1_loc]            \n",
    "        if(i == r1) and (j==c1):\n",
    "            LL[i][j] = 0.25\n",
    "            x_1_loc+=1\n",
    "        elif(i == r) and (j==c):\n",
    "            LL[i][j] = 0.7\n",
    "            x_loc+=1           \n",
    "        else:\n",
    "            LL[i][j] = 0.05\n",
    "        \n",
    "            \n",
    "LL"
   ]
  },
  {
   "cell_type": "code",
   "execution_count": 25,
   "id": "de3c4f44-010a-4924-a02a-095d181ae8a8",
   "metadata": {},
   "outputs": [
    {
     "data": {
      "text/plain": [
       "array([[3.0e-06, 3.0e-06, 3.0e-06, 3.0e-06, 3.0e-06, 3.0e-06, 3.0e-06,\n",
       "        3.0e-06, 3.0e-06, 3.0e-06],\n",
       "       [3.0e-06, 3.0e-06, 3.0e-06, 3.0e-06, 3.0e-06, 3.0e-06, 3.0e-06,\n",
       "        3.0e-06, 3.0e-06, 3.0e-06],\n",
       "       [3.0e-06, 3.0e-06, 3.0e-06, 3.0e-06, 3.0e-06, 3.0e-06, 3.0e-06,\n",
       "        3.0e-06, 3.0e-06, 3.0e-06],\n",
       "       [3.0e-06, 3.0e-06, 3.0e-06, 3.0e-06, 1.5e-05, 3.0e-06, 1.5e-05,\n",
       "        3.0e-06, 1.5e-05, 3.0e-06],\n",
       "       [3.0e-06, 3.0e-06, 3.0e-06, 3.0e-06, 4.2e-05, 3.0e-06, 4.2e-05,\n",
       "        3.0e-06, 4.2e-05, 3.0e-06],\n",
       "       [3.0e-06, 3.0e-06, 3.0e-06, 3.0e-06, 3.0e-06, 3.0e-06, 3.0e-06,\n",
       "        3.0e-06, 1.5e-05, 3.0e-06],\n",
       "       [3.0e-06, 3.0e-06, 3.0e-06, 3.0e-06, 3.0e-06, 3.0e-06, 3.0e-06,\n",
       "        3.0e-06, 4.2e-05, 3.0e-06],\n",
       "       [3.0e-06, 3.0e-06, 3.0e-06, 3.0e-06, 3.0e-06, 3.0e-06, 3.0e-06,\n",
       "        3.0e-06, 1.5e-05, 3.0e-06],\n",
       "       [3.0e-06, 3.0e-06, 3.0e-06, 3.0e-06, 3.0e-06, 3.0e-06, 3.0e-06,\n",
       "        3.0e-06, 4.2e-05, 3.0e-06],\n",
       "       [3.0e-06, 3.0e-06, 3.0e-06, 3.0e-06, 3.0e-06, 3.0e-06, 3.0e-06,\n",
       "        3.0e-06, 3.0e-06, 3.0e-06]])"
      ]
     },
     "execution_count": 25,
     "metadata": {},
     "output_type": "execute_result"
    }
   ],
   "source": [
    "u=1\n",
    "r_rt, c_rt = LL.shape\n",
    "for i in range(LL.shape[0]):\n",
    "    for j in range(LL.shape[1]):\n",
    "        LL[i,(j+u)%c_rt] *= 0.6\n",
    "        LL[i,(j+u-1)%c_rt] *= 0.1\n",
    "        LL[i,(j+u+1)%c_rt] *= 0.1\n",
    "        LL[(i-1)%r_rt,(j+u)%c_rt] *= 0.1\n",
    "        LL[(i+1)%r_rt,(j+u)%c_rt] *= 0.1\n",
    "LL"
   ]
  },
  {
   "cell_type": "code",
   "execution_count": 26,
   "id": "f8defb96-5e15-4638-8018-dd6b2beead41",
   "metadata": {},
   "outputs": [
    {
     "data": {
      "text/plain": [
       "array([[2.5e-01, 2.5e-01, 2.5e-01, 2.5e-01, 2.5e-01, 2.5e-01, 2.5e-01,\n",
       "        2.5e-01, 2.5e-01, 2.5e-01],\n",
       "       [2.5e-01, 2.5e-01, 2.5e-01, 2.5e-01, 2.5e-01, 2.5e-01, 2.5e-01,\n",
       "        2.5e-01, 2.5e-01, 2.5e-01],\n",
       "       [2.5e-01, 2.5e-01, 2.5e-01, 2.5e-01, 2.5e-01, 2.5e-01, 2.5e-01,\n",
       "        2.5e-01, 2.5e-01, 2.5e-01],\n",
       "       [2.5e-01, 2.5e-01, 2.5e-01, 2.5e-01, 7.0e-01, 2.5e-01, 7.0e-01,\n",
       "        2.5e-01, 7.0e-01, 2.5e-01],\n",
       "       [2.5e-01, 2.5e-01, 2.5e-01, 2.5e-01, 4.2e-05, 2.5e-01, 4.2e-05,\n",
       "        2.5e-01, 4.2e-05, 2.5e-01],\n",
       "       [2.5e-01, 2.5e-01, 2.5e-01, 2.5e-01, 2.5e-01, 2.5e-01, 2.5e-01,\n",
       "        2.5e-01, 7.0e-01, 2.5e-01],\n",
       "       [2.5e-01, 2.5e-01, 2.5e-01, 2.5e-01, 2.5e-01, 2.5e-01, 2.5e-01,\n",
       "        2.5e-01, 4.2e-05, 2.5e-01],\n",
       "       [2.5e-01, 2.5e-01, 2.5e-01, 2.5e-01, 2.5e-01, 2.5e-01, 2.5e-01,\n",
       "        2.5e-01, 7.0e-01, 2.5e-01],\n",
       "       [2.5e-01, 2.5e-01, 2.5e-01, 2.5e-01, 2.5e-01, 2.5e-01, 2.5e-01,\n",
       "        2.5e-01, 4.2e-05, 2.5e-01],\n",
       "       [2.5e-01, 2.5e-01, 2.5e-01, 2.5e-01, 2.5e-01, 2.5e-01, 2.5e-01,\n",
       "        2.5e-01, 2.5e-01, 2.5e-01]])"
      ]
     },
     "execution_count": 26,
     "metadata": {},
     "output_type": "execute_result"
    }
   ],
   "source": [
    "x=0\n",
    "for i in range(LL.shape[0]):      \n",
    "    for j in range(LL.shape[0]):\n",
    "        if(x<len(mark)):\n",
    "            r,c = mark[x] \n",
    "        if(i == r) and (j==c):\n",
    "            LL[i-1][j] = 0.7\n",
    "            x+=1\n",
    "        else:\n",
    "            LL[i][j] = 0.25\n",
    "        \n",
    "            \n",
    "LL"
   ]
  },
  {
   "cell_type": "code",
   "execution_count": 27,
   "id": "9e12fc9e-ae9a-4d1e-8dbf-3dec2e8fe7bc",
   "metadata": {},
   "outputs": [
    {
     "data": {
      "text/plain": [
       "array([[2.500e-01, 2.500e-01, 2.500e-01, 2.500e-01, 2.500e-01, 2.500e-01,\n",
       "        2.500e-01, 2.500e-01, 2.500e-01, 2.500e-01],\n",
       "       [2.500e-01, 2.500e-01, 2.500e-01, 2.500e-01, 2.500e-01, 2.500e-01,\n",
       "        2.500e-01, 2.500e-01, 2.500e-01, 2.500e-01],\n",
       "       [2.500e-01, 2.500e-01, 2.500e-01, 2.500e-01, 2.500e-01, 2.500e-01,\n",
       "        2.500e-01, 2.500e-01, 2.500e-01, 2.500e-01],\n",
       "       [2.500e-01, 2.500e-01, 2.500e-01, 2.500e-01, 2.500e-01, 2.500e-01,\n",
       "        2.500e-01, 2.500e-01, 2.500e-01, 2.500e-01],\n",
       "       [2.500e-01, 2.500e-01, 2.500e-01, 2.500e-01, 1.176e-04, 2.500e-01,\n",
       "        1.176e-04, 2.500e-01, 1.176e-04, 2.500e-01],\n",
       "       [2.500e-01, 2.500e-01, 2.500e-01, 2.500e-01, 2.500e-01, 2.500e-01,\n",
       "        2.500e-01, 2.500e-01, 2.500e-01, 2.500e-01],\n",
       "       [2.500e-01, 2.500e-01, 2.500e-01, 2.500e-01, 2.500e-01, 2.500e-01,\n",
       "        2.500e-01, 2.500e-01, 1.176e-04, 2.500e-01],\n",
       "       [2.500e-01, 2.500e-01, 2.500e-01, 2.500e-01, 2.500e-01, 2.500e-01,\n",
       "        2.500e-01, 2.500e-01, 2.500e-01, 2.500e-01],\n",
       "       [2.500e-01, 2.500e-01, 2.500e-01, 2.500e-01, 2.500e-01, 2.500e-01,\n",
       "        2.500e-01, 2.500e-01, 1.176e-04, 2.500e-01],\n",
       "       [2.500e-01, 2.500e-01, 2.500e-01, 2.500e-01, 2.500e-01, 2.500e-01,\n",
       "        2.500e-01, 2.500e-01, 2.500e-01, 2.500e-01]])"
      ]
     },
     "execution_count": 27,
     "metadata": {},
     "output_type": "execute_result"
    }
   ],
   "source": [
    "markerIndex=0\n",
    "z_false_det_marker = 0.25\n",
    "z_true_det_marker = 0.70\n",
    "odds = z_true_det_marker / z_false_det_marker\n",
    "for i in range(LL.shape[0]):      \n",
    "    for j in range(LL.shape[0]):\n",
    "        if(markerIndex<len(mark)):\n",
    "            r,c = mark[markerIndex] \n",
    "        if(i == r) and (j==c):\n",
    "            LL[i][j] *= odds\n",
    "            markerIndex+=1\n",
    "        else:\n",
    "            LL[i][j] = z_false_det_marker\n",
    "LL"
   ]
  },
  {
   "cell_type": "code",
   "execution_count": 29,
   "id": "236c5b07-ac77-4275-9730-faf0b18bd0bf",
   "metadata": {},
   "outputs": [
    {
     "data": {
      "text/plain": [
       "array([[1., 0., 0., 0.],\n",
       "       [0., 1., 0., 0.],\n",
       "       [0., 0., 1., 0.],\n",
       "       [0., 0., 0., 1.]])"
      ]
     },
     "execution_count": 29,
     "metadata": {},
     "output_type": "execute_result"
    }
   ],
   "source": [
    "np.eye(4)"
   ]
  },
  {
   "cell_type": "code",
   "execution_count": 32,
   "id": "2eb526d6-5485-4a23-815e-e06b39eecd91",
   "metadata": {},
   "outputs": [
    {
     "data": {
      "text/plain": [
       "array([[9.8, 0. , 0. , 0. ],\n",
       "       [0. , 9.8, 0. , 0. ],\n",
       "       [0. , 0. , 9.8, 0. ],\n",
       "       [0. , 0. , 0. , 9.8]])"
      ]
     },
     "execution_count": 32,
     "metadata": {},
     "output_type": "execute_result"
    }
   ],
   "source": [
    "dt = 0.1\n",
    "F = np.array([[1, dt, 0, 0], [0, 1, 0, 0], [0, 0, 1, dt], [0 , 0, 0, 1]]) # State transition Matrix\n",
    "B = np.eye(4) # Control change Matrix\n",
    "G = 9.8\n",
    "X = np.zeros((4,1))\n",
    "X_new = np.dot(F,X)+np.dot(B,G)\n",
    "X_new"
   ]
  },
  {
   "cell_type": "code",
   "execution_count": null,
   "id": "5d6ea10c-b6c7-47bf-9aa5-df49f05420ca",
   "metadata": {},
   "outputs": [],
   "source": []
  }
 ],
 "metadata": {
  "kernelspec": {
   "display_name": "slam",
   "language": "python",
   "name": "slam"
  },
  "language_info": {
   "codemirror_mode": {
    "name": "ipython",
    "version": 3
   },
   "file_extension": ".py",
   "mimetype": "text/x-python",
   "name": "python",
   "nbconvert_exporter": "python",
   "pygments_lexer": "ipython3",
   "version": "3.9.16"
  }
 },
 "nbformat": 4,
 "nbformat_minor": 5
}
