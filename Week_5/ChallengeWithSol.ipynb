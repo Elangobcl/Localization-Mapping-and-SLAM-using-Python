{
 "cells": [
  {
   "cell_type": "markdown",
   "metadata": {},
   "source": [
    "# Extended Kalman Filter Demo"
   ]
  },
  {
   "cell_type": "markdown",
   "metadata": {},
   "source": [
    "* $X_t = F X_{t-1} + BU_t + Q$\n",
    "* $Z_t = H X_t + R$"
   ]
  },
  {
   "cell_type": "markdown",
   "metadata": {},
   "source": [
    "<img src=\"images/robot-mobile-pioneer-3-at.jpg\" alt=\"Trial Image\" width=\"300\" style=\"float: right\"/>  \n",
    "   * Consider a simple planar outdoor robot with Wheel Encoders & GNSS Receiver\n",
    "   * Let's say that the forward velocity and angular velocity are the control inputs\n",
    "   * In other words the robot dynamics are modelled as unicycle\n",
    "   * Simulation Frequency = model dynamics frequency = 100 Hz (0.01s)\n",
    "   * GPS Frequency = Measurement Update = 20 Hz (0.05s)\n",
    "   * State Vector $X_t$ = $\\begin{pmatrix}\n",
    "       x_t \\\\\n",
    "       y_t \\\\\n",
    "       \\theta_t \\\\\n",
    "       v_t\n",
    "     \\end{pmatrix}$\n",
    "   * Input Vector $U_t$ = $\\begin{pmatrix}\n",
    "   v_t \\\\\n",
    "   \\omega_t\n",
    "   \\end{pmatrix}$\n",
    "   * Measurement vector $Z_t$ = $\\begin{pmatrix}\n",
    "   x_t \\\\\n",
    "   y_t\n",
    "   \\end{pmatrix}$"
   ]
  },
  {
   "cell_type": "code",
   "execution_count": 1,
   "metadata": {
    "tags": []
   },
   "outputs": [],
   "source": [
    "import matplotlib.pyplot as plt\n",
    "from matplotlib.animation import FuncAnimation\n",
    "import numpy as np\n",
    "import math\n",
    "import time"
   ]
  },
  {
   "cell_type": "code",
   "execution_count": 2,
   "metadata": {
    "tags": [
     "hide-input"
    ]
   },
   "outputs": [],
   "source": [
    "# Sim params\n",
    "INPUT_NOISE = np.diag([1.0, np.deg2rad(30.0)]) ** 2\n",
    "GPS_NOISE = np.diag([0.5,0.5]) ** 2\n",
    "DT = 0.1"
   ]
  },
  {
   "cell_type": "markdown",
   "metadata": {
    "tags": []
   },
   "source": [
    "### System Dynamics\n",
    "* $x_t = x_{t-1} + v_t \\cos(\\theta_t) $\n",
    "* $y_t = y_{t-1} + v_t \\sin(\\theta_t) $\n",
    "* $\\theta_t = \\theta_{t-1} + \\omega_t \\times dt$\n",
    "* For $X_t = A X_{t-1} + B U_t$:\n",
    "    - $ A = \\begin{bmatrix} \n",
    "        1 & 0 & 0 & 0 \\\\\n",
    "        0 & 1 & 0 & 0 \\\\\n",
    "        0 & 0 & 1 & 0 \\\\\n",
    "        0 & 0 & 0 & 0\n",
    "       \\end{bmatrix}$\n",
    "    - $ B = \\begin{bmatrix}\n",
    "        \\cos(\\theta_t) & 0 \\\\\n",
    "        \\sin(\\theta_t) & 0 \\\\\n",
    "        0 & dt \\\\\n",
    "        1 & 0\n",
    "        \\end{bmatrix} $\n",
    "    - $ J_{A} = \\begin{bmatrix}\n",
    "        \\frac{dx_t}{dx_{t}} & \\frac{dx_t}{dy_t} & \\frac{dx_t}{d\\theta_t} & \\frac{dx_t}{dv_t} \\\\\n",
    "        \\frac{dy_t}{dx_{t}} & \\frac{dy_t}{dy_t} & \\frac{dy_t}{d\\theta_t} & \\frac{dy_t}{dv_t}  \\\\\\frac{d\\theta_t}{dx_{t}} & \\frac{d\\theta_t}{dy_t} & \\frac{d\\theta_t}{d\\theta_t} & \\frac{d\\theta_t}{dv_t}  \\\\\n",
    "        \\frac{dv_t}{dx_{t}} & \\frac{dv_t}{dy_t} & \\frac{dv_t}{d\\theta_t} & \\frac{dv_t}{dv_t} \n",
    "        \\end{bmatrix} $\n",
    "    - $ J_{A} = \\begin{bmatrix}\n",
    "    1 & 0 & -v dt \\sin(\\theta) & \\cos(\\theta)dt \\\\\n",
    "    0 & 1 & v dt \\cos(\\theta) & \\sin(\\theta)dt \\\\\n",
    "    0 & 0 & 1 & 0 \\\\\n",
    "    0 & 0 & 0 & 1\n",
    "    \\end{bmatrix} $"
   ]
  },
  {
   "cell_type": "code",
   "execution_count": 3,
   "metadata": {
    "tags": [
     "hide-input"
    ]
   },
   "outputs": [],
   "source": [
    "def motion_model(x, u):\n",
    "    A = np.array([[1.0, 0, 0, 0],\n",
    "                  [0, 1.0, 0, 0],\n",
    "                  [0, 0, 1.0, 0],\n",
    "                  [0, 0, 0, 0]])\n",
    "\n",
    "    B = np.array([[DT * math.cos(x[2, 0]), 0],\n",
    "                  [DT * math.sin(x[2, 0]), 0],\n",
    "                  [0.0, DT],\n",
    "                  [1.0, 0.0]])\n",
    "\n",
    "    x = A @ x + B @ u\n",
    "\n",
    "    return x"
   ]
  },
  {
   "cell_type": "code",
   "execution_count": 4,
   "metadata": {
    "tags": []
   },
   "outputs": [],
   "source": [
    "def compute_JA(x, u):\n",
    "    yaw = x[2, 0]\n",
    "    v = u[0, 0]\n",
    "    jF = np.array([\n",
    "        [1.0, 0.0, -DT * v * math.sin(yaw), DT * math.cos(yaw)],\n",
    "        [0.0, 1.0, DT * v * math.cos(yaw), DT * math.sin(yaw)],\n",
    "        [0.0, 0.0, 1.0, 0.0],\n",
    "        [0.0, 0.0, 0.0, 1.0]])\n",
    "\n",
    "    return jF"
   ]
  },
  {
   "cell_type": "code",
   "execution_count": 5,
   "metadata": {
    "tags": [
     "hide-input"
    ]
   },
   "outputs": [],
   "source": [
    "def get_covariance_ellipse(xEst, PEst):\n",
    "    Pxy = PEst[0:2, 0:2]\n",
    "    eigval, eigvec = np.linalg.eig(Pxy)\n",
    "\n",
    "    if eigval[0] >= eigval[1]:\n",
    "        bigind = 0\n",
    "        smallind = 1\n",
    "    else:\n",
    "        bigind = 1\n",
    "        smallind = 0\n",
    "\n",
    "    t = np.arange(0, 2 * math.pi + 0.1, 0.1)\n",
    "    a = math.sqrt(eigval[bigind])\n",
    "    b = math.sqrt(eigval[smallind])\n",
    "    x = [a * math.cos(it) for it in t]\n",
    "    y = [b * math.sin(it) for it in t]\n",
    "    angle = math.atan2(eigvec[bigind, 1], eigvec[bigind, 0])\n",
    "    rot = np.array([[math.cos(angle), math.sin(angle)],\n",
    "                    [-math.sin(angle), math.cos(angle)]])\n",
    "    fx = rot @ (np.array([x, y]))\n",
    "    px = np.array(fx[0, :] + xEst[0, 0])\n",
    "    py = np.array(fx[1, :] + xEst[1, 0])\n",
    "    return px, py"
   ]
  },
  {
   "cell_type": "code",
   "execution_count": 6,
   "metadata": {
    "tags": []
   },
   "outputs": [],
   "source": [
    "def prediction(xd, u, P):\n",
    "    jA = compute_JA(xd, u)\n",
    "    ud = u + INPUT_NOISE @ np.random.randn(2, 1)\n",
    "    xd = motion_model(xd, ud)\n",
    "    P_est = jA @ P @ jA.T + Q\n",
    "    return xd,P_est"
   ]
  },
  {
   "cell_type": "code",
   "execution_count": 7,
   "metadata": {
    "tags": []
   },
   "outputs": [],
   "source": [
    "def calc_input():\n",
    "    v = 1.0  # [m/s]\n",
    "    yawrate = 0.1  # [rad/s]\n",
    "    u = np.array([[v], [yawrate]])\n",
    "    return u"
   ]
  },
  {
   "cell_type": "code",
   "execution_count": 8,
   "metadata": {
    "tags": []
   },
   "outputs": [],
   "source": [
    "Q = np.diag([\n",
    "    0.1,  # variance of location on x-axis\n",
    "    0.1,  # variance of location on y-axis\n",
    "    np.deg2rad(1.0),  # variance of yaw angle\n",
    "    1.0  # variance of velocity\n",
    "]) ** 2  # predict state covariance"
   ]
  },
  {
   "cell_type": "code",
   "execution_count": 9,
   "metadata": {
    "tags": []
   },
   "outputs": [],
   "source": [
    "%matplotlib widget"
   ]
  },
  {
   "cell_type": "code",
   "execution_count": 10,
   "metadata": {
    "tags": []
   },
   "outputs": [],
   "source": [
    "# Simulate\n",
    "t = 0.0\n",
    "SIM_TIME = 30.0\n",
    "\n",
    "# State Vector [x y yaw v]'\n",
    "xTrue = np.zeros((4, 1))\n",
    "PEst = 0.0001 * np.eye(4)\n",
    "xDR = np.zeros((4, 1))  # Dead reckoning\n",
    "\n",
    "# history\n",
    "hxTrue = xTrue\n",
    "hxDR = xTrue\n",
    "temp = np.arange(0, 2 * math.pi + 0.1, 0.1)\n",
    "allellipsesX = np.zeros((1, temp.size))\n",
    "allellipsesY = np.zeros((1, temp.size))\n",
    "\n",
    "while SIM_TIME >= t:\n",
    "    t += DT\n",
    "    u = calc_input()\n",
    "    # Propagate\n",
    "    xTrue = motion_model(xTrue, u)\n",
    "    xDR, PEst = prediction(xDR, u, PEst)\n",
    "    \n",
    "    # Get Covariance Ellipse\n",
    "    ellipsesX, ellipsesY = get_covariance_ellipse(xDR, PEst)\n",
    "    \n",
    "    # Stack the history\n",
    "    hxDR = np.hstack((hxDR, xDR))\n",
    "    hxTrue = np.hstack((hxTrue, xTrue))\n",
    "    allellipsesX = np.vstack((allellipsesX, ellipsesX))\n",
    "    allellipsesY = np.vstack((allellipsesY, ellipsesY))"
   ]
  },
  {
   "cell_type": "code",
   "execution_count": 11,
   "metadata": {
    "tags": []
   },
   "outputs": [
    {
     "data": {
      "application/vnd.jupyter.widget-view+json": {
       "model_id": "478345187fb94cb5b01b6ca5c2faf4a9",
       "version_major": 2,
       "version_minor": 0
      },
      "image/png": "[encoded data removed]",
      "text/html": [
       "\n",
       "            <div style=\"display: inline-block;\">\n",
       "                <div class=\"jupyter-widgets widget-label\" style=\"text-align: center;\">\n",
       "                    Figure\n",
       "                </div>\n",
       "                <img src='data:image/png;base64,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' width=640.0/>\n",
       "            </div>\n",
       "        "
      ],
      "text/plain": [
       "Canvas(toolbar=Toolbar(toolitems=[('Home', 'Reset original view', 'home', 'home'), ('Back', 'Back to previous …"
      ]
     },
     "metadata": {},
     "output_type": "display_data"
    }
   ],
   "source": [
    "# Animate DR\n",
    "fig, ax = plt.subplots()\n",
    "drData, = plt.plot([],[],'-k', label='Dead Reckoning Traj')\n",
    "ellipseData, = plt.plot([],[],'--r')\n",
    "gtData, = plt.plot([],[],'-b', label='Ground Truth Traj')\n",
    "numFrames = 1000\n",
    "\n",
    "frames=np.linspace(0, numFrames)\n",
    "ind = [(int)(frame * allellipsesX.shape[0]/ numFrames) for frame in frames]\n",
    "\n",
    "def init():\n",
    "    x_dr = hxDR[0,:]\n",
    "    y_dr = hxDR[1,:]\n",
    "    ax.set_xlim([np.min(x_dr) - 5, np.max(x_dr) + 5])\n",
    "    ax.set_ylim([np.min(y_dr) - 5, np.max(y_dr) + 5])\n",
    "    plt.title(\"Dead Reckoning vs Ground Truth\")\n",
    "    plt.legend()\n",
    "    ax.grid(True)\n",
    "    \n",
    "def update(frameID):\n",
    "    drData.set_data(hxDR[0,0:ind[frameID]], hxDR[1,0:ind[frameID]])\n",
    "    gtData.set_data(hxTrue[0,0:ind[frameID]], hxTrue[1,0:ind[frameID]])\n",
    "    ellipseData.set_data(allellipsesX[ind[frameID],:],allellipsesY[ind[frameID],:])\n",
    "\n",
    "anim = FuncAnimation(fig, update, frames=numFrames, init_func=init, blit=True)\n",
    "plt.show()"
   ]
  },
  {
   "cell_type": "markdown",
   "metadata": {
    "tags": []
   },
   "source": [
    "### Adding GPS as a measurement source\n",
    "$Z_t = H X_t + R$\n",
    "\n",
    "$H = J_H = \\begin{bmatrix} \n",
    "1 & 0 & 0 & 0 \\\\\n",
    "0 & 1 & 0 & 0\n",
    "\\end{bmatrix}$"
   ]
  },
  {
   "cell_type": "code",
   "execution_count": 12,
   "metadata": {
    "tags": []
   },
   "outputs": [],
   "source": [
    "R = np.diag([1.0, 1.0]) ** 2  # Observation x,y position covariance"
   ]
  },
  {
   "cell_type": "code",
   "execution_count": 13,
   "metadata": {
    "tags": []
   },
   "outputs": [],
   "source": [
    "def observation_model(x):\n",
    "    H = np.array([\n",
    "        [1, 0, 0, 0],\n",
    "        [0, 1, 0, 0]\n",
    "    ])\n",
    "\n",
    "    z = H @ x\n",
    "\n",
    "    return z"
   ]
  },
  {
   "cell_type": "code",
   "execution_count": 14,
   "metadata": {
    "tags": []
   },
   "outputs": [],
   "source": [
    "def compute_jH():\n",
    "    jH = np.array([[1.0,0.0,0.0,0.0],\n",
    "                   [0.0,1.0,0.0,0.0]])\n",
    "    return jH"
   ]
  },
  {
   "cell_type": "code",
   "execution_count": 15,
   "metadata": {
    "tags": []
   },
   "outputs": [],
   "source": [
    "def ekf_update(xTrue, xPred, PPred):\n",
    "    # add noise to gps x-y\n",
    "    z = observation_model(xTrue) + GPS_NOISE @ np.random.randn(2, 1)\n",
    "    \n",
    "    # Computed the difference between measurement and predicted measurement\n",
    "    zPred = observation_model(xPred)\n",
    "    y = z - zPred\n",
    "    \n",
    "    # Compute Kalman Gain and find new belief\n",
    "    jH = compute_jH()\n",
    "    S = jH @ PPred @ jH.T + R\n",
    "    K = PPred @ jH.T @ np.linalg.inv(S)\n",
    "    xEst = xPred + K @ y\n",
    "    PEst = (np.eye(len(xEst)) - K @ jH) @ PPred\n",
    "    return xEst, PEst, z.T"
   ]
  },
  {
   "cell_type": "code",
   "execution_count": 16,
   "metadata": {
    "tags": []
   },
   "outputs": [],
   "source": [
    "# Simulate - EKF\n",
    "t = 0.0\n",
    "SIM_TIME = 50.0\n",
    "\n",
    "# State Vector [x y yaw v]'\n",
    "xEst = np.zeros((4, 1))\n",
    "xTrue = np.zeros((4, 1))\n",
    "PEst = np.eye(4)\n",
    "PPred = np.eye(4)\n",
    "PDR = np.eye(4)\n",
    "xDR = np.zeros((4, 1)) \n",
    "xPred = np.zeros((4,1))\n",
    "\n",
    "# history\n",
    "hxEst = xEst\n",
    "hxTrue = xTrue\n",
    "hxDR = xTrue\n",
    "\n",
    "temp = np.arange(0, 2 * math.pi + 0.1, 0.1)\n",
    "allellipsesX = np.zeros((1, temp.size))\n",
    "allellipsesY = np.zeros((1, temp.size))\n",
    "meas = np.zeros((1,2))\n",
    "allMeasurements = np.zeros((1,2))\n",
    "\n",
    "count = 1\n",
    "while SIM_TIME >= t:\n",
    "    t += DT\n",
    "    u = calc_input()\n",
    "    \n",
    "    # Ground Truth\n",
    "    xTrue = motion_model(xTrue, u)\n",
    "    \n",
    "    # Propagate\n",
    "    xDR, PDR = prediction(xDR, u, PDR) # Dead Reckoning for Demonstration\n",
    "    xPred, PPred = prediction(xEst, u, PEst) # Prediction Step\n",
    "    \n",
    "    # EKF Update\n",
    "    count = count + 1\n",
    "    if count % 2 == 0:\n",
    "        xEst, PEst, meas = ekf_update(xTrue, xPred, PPred)\n",
    "    else:\n",
    "        xEst = xPred\n",
    "        PEst = PPred\n",
    "        \n",
    "    # Get Covariance Ellipse\n",
    "    ellipsesX, ellipsesY = get_covariance_ellipse(xEst, PEst)\n",
    "    \n",
    "    # Stack the history\n",
    "    hxDR = np.hstack((hxDR, xDR))\n",
    "    hxTrue = np.hstack((hxTrue, xTrue))\n",
    "    hxEst = np.hstack((hxEst, xEst))\n",
    "    allellipsesX = np.vstack((allellipsesX, ellipsesX))\n",
    "    allellipsesY = np.vstack((allellipsesY, ellipsesY))\n",
    "    allMeasurements = np.vstack((allMeasurements, meas))"
   ]
  },
  {
   "cell_type": "code",
   "execution_count": 17,
   "metadata": {
    "tags": []
   },
   "outputs": [
    {
     "name": "stderr",
     "output_type": "stream",
     "text": [
      "C:\\Users\\maile\\AppData\\Roaming\\Python\\Python39\\site-packages\\matplotlib\\animation.py:884: UserWarning: Animation was deleted without rendering anything. This is most likely not intended. To prevent deletion, assign the Animation to a variable, e.g. `anim`, that exists until you output the Animation using `plt.show()` or `anim.save()`.\n",
      "  warnings.warn(\n"
     ]
    },
    {
     "data": {
      "application/vnd.jupyter.widget-view+json": {
       "model_id": "0b252041cc1b4da6af5058d429861e24",
       "version_major": 2,
       "version_minor": 0
      },
      "image/png": "[encoded data removed]",
      "text/html": [
       "\n",
       "            <div style=\"display: inline-block;\">\n",
       "                <div class=\"jupyter-widgets widget-label\" style=\"text-align: center;\">\n",
       "                    Figure\n",
       "                </div>\n",
       "                <img src='data:image/png;base64,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' width=640.0/>\n",
       "            </div>\n",
       "        "
      ],
      "text/plain": [
       "Canvas(toolbar=Toolbar(toolitems=[('Home', 'Reset original view', 'home', 'home'), ('Back', 'Back to previous …"
      ]
     },
     "metadata": {},
     "output_type": "display_data"
    }
   ],
   "source": [
    "# Animate EKF\n",
    "fig, ax = plt.subplots()\n",
    "predData, = plt.plot([],[],'-k', label='Dead Reckoning Traj')\n",
    "ellipseData, = plt.plot([],[],'--r')\n",
    "gtData, = plt.plot([],[],'-b', label='Ground Truth Traj')\n",
    "ekfData, = plt.plot([],[],'-r', label='EKF Estimate')\n",
    "measData, = plt.plot([],[],'.g', label='GPS Measurement')\n",
    "numFrames = 1000\n",
    "\n",
    "frames=np.linspace(0, numFrames)\n",
    "ind = [(int)(frame * allellipsesX.shape[0]/ numFrames) for frame in frames]\n",
    "ind_GPS = [(int)(frame * allMeasurements.shape[0]/ numFrames) for frame in frames]\n",
    "\n",
    "def init():\n",
    "    x_true = hxTrue[0,:]\n",
    "    y_true = hxTrue[1,:]\n",
    "    ax.set_xlim([np.min(x_true) - 5, np.max(x_true) + 5])\n",
    "    ax.set_ylim([np.min(y_true) - 5, np.max(y_true) + 5])\n",
    "    plt.title(\"Dead Reckoning vs EKF vs Ground Truth\")\n",
    "    plt.legend()\n",
    "    ax.grid(True)\n",
    "    \n",
    "def update(frameID):\n",
    "    predData.set_data(hxDR[0,0:ind[frameID]], hxDR[1,0:ind[frameID]])\n",
    "    gtData.set_data(hxTrue[0,0:ind[frameID]], hxTrue[1,0:ind[frameID]])\n",
    "    ellipseData.set_data(allellipsesX[ind[frameID],:],allellipsesY[ind[frameID],:])\n",
    "    ekfData.set_data(hxEst[0,0:ind[frameID]], hxEst[1,0:ind[frameID]])\n",
    "    measData.set_data(allMeasurements[0:ind_GPS[frameID],0], allMeasurements[0:ind_GPS[frameID],1])\n",
    "\n",
    "anim = FuncAnimation(fig, update, frames=numFrames, interval= 500, init_func=init, blit=True)\n",
    "plt.show()"
   ]
  },
  {
   "cell_type": "code",
   "execution_count": null,
   "metadata": {
    "tags": []
   },
   "outputs": [],
   "source": []
  }
 ],
 "metadata": {
  "celltoolbar": "Edit Metadata",
  "kernelspec": {
   "display_name": "Python 3 (ipykernel)",
   "language": "python",
   "name": "python3"
  },
  "language_info": {
   "codemirror_mode": {
    "name": "ipython",
    "version": 3
   },
   "file_extension": ".py",
   "mimetype": "text/x-python",
   "name": "python",
   "nbconvert_exporter": "python",
   "pygments_lexer": "ipython3",
   "version": "3.9.1"
  }
 },
 "nbformat": 4,
 "nbformat_minor": 4
}
