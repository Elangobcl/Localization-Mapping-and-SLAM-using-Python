{
 "cells": [
  {
   "cell_type": "markdown",
   "metadata": {},
   "source": [
    "# Extended Kalman Filter Demo"
   ]
  },
  {
   "cell_type": "markdown",
   "metadata": {},
   "source": [
    "* $X_t = F X_{t-1} + BU_t + Q$\n",
    "* $Z_t = H X_t + R$"
   ]
  },
  {
   "cell_type": "markdown",
   "metadata": {},
   "source": [
    "<img src=\"images/robot-mobile-pioneer-3-at.jpg\" alt=\"Trial Image\" width=\"300\" style=\"float: right\"/>  \n",
    "   * Consider a simple planar outdoor robot with Wheel Encoders & GNSS Receiver\n",
    "   * Let's say that the forward velocity and angular velocity are the control inputs\n",
    "   * In other words the robot dynamics are modelled as unicycle\n",
    "   * Simulation Frequency = model dynamics frequency = 100 Hz (0.01s)\n",
    "   * GPS Frequency = Measurement Update = 20 Hz (0.05s)\n",
    "   * State Vector $X_t$ = $\\begin{pmatrix}\n",
    "       x_t \\\\\n",
    "       y_t \\\\\n",
    "       \\theta_t \\\\\n",
    "       v_t\n",
    "     \\end{pmatrix}$\n",
    "   * Input Vector $U_t$ = $\\begin{pmatrix}\n",
    "   v_t \\\\\n",
    "   \\omega_t\n",
    "   \\end{pmatrix}$\n",
    "   * Measurement vector $Z_t$ = $\\begin{pmatrix}\n",
    "   x_t \\\\\n",
    "   y_t\n",
    "   \\end{pmatrix}$"
   ]
  },
  {
   "cell_type": "code",
   "execution_count": 1,
   "metadata": {
    "tags": []
   },
   "outputs": [],
   "source": [
    "import matplotlib.pyplot as plt\n",
    "from matplotlib.animation import FuncAnimation\n",
    "import numpy as np\n",
    "import math\n",
    "import time"
   ]
  },
  {
   "cell_type": "code",
   "execution_count": 2,
   "metadata": {
    "tags": [
     "hide-input"
    ]
   },
   "outputs": [],
   "source": [
    "# Sim params\n",
    "INPUT_NOISE = np.diag([1.0, np.deg2rad(30.0)]) ** 2\n",
    "GPS_NOISE = np.diag([0.5,0.5]) ** 2\n",
    "DT = 0.1"
   ]
  },
  {
   "cell_type": "markdown",
   "metadata": {
    "tags": []
   },
   "source": [
    "### System Dynamics\n",
    "* $x_t = x_{t-1} + v_t \\cos(\\theta_t) $\n",
    "* $y_t = y_{t-1} + v_t \\sin(\\theta_t) $\n",
    "* $\\theta_t = \\theta_{t-1} + \\omega_t \\times dt$\n",
    "* For $X_t = A X_{t-1} + B U_t$:\n",
    "    - $ A = \\begin{bmatrix} \n",
    "        1 & 0 & 0 & 0 \\\\\n",
    "        0 & 1 & 0 & 0 \\\\\n",
    "        0 & 0 & 1 & 0 \\\\\n",
    "        0 & 0 & 0 & 0\n",
    "       \\end{bmatrix}$\n",
    "    - $ B = \\begin{bmatrix}\n",
    "        \\cos(\\theta_t) & 0 \\\\\n",
    "        \\sin(\\theta_t) & 0 \\\\\n",
    "        0 & dt \\\\\n",
    "        1 & 0\n",
    "        \\end{bmatrix} $\n",
    "    - $ J_{A} = \\begin{bmatrix}\n",
    "        \\frac{dx_t}{dx_{t}} & \\frac{dx_t}{dy_t} & \\frac{dx_t}{d\\theta_t} & \\frac{dx_t}{dv_t} \\\\\n",
    "        \\frac{dy_t}{dx_{t}} & \\frac{dy_t}{dy_t} & \\frac{dy_t}{d\\theta_t} & \\frac{dy_t}{dv_t}  \\\\\\frac{d\\theta_t}{dx_{t}} & \\frac{d\\theta_t}{dy_t} & \\frac{d\\theta_t}{d\\theta_t} & \\frac{d\\theta_t}{dv_t}  \\\\\n",
    "        \\frac{dv_t}{dx_{t}} & \\frac{dv_t}{dy_t} & \\frac{dv_t}{d\\theta_t} & \\frac{dv_t}{dv_t} \n",
    "        \\end{bmatrix} $\n",
    "    - $ J_{A} = \\begin{bmatrix}\n",
    "    1 & 0 & -v dt \\sin(\\theta) & \\cos(\\theta)dt \\\\\n",
    "    0 & 1 & v dt \\cos(\\theta) & \\sin(\\theta)dt \\\\\n",
    "    0 & 0 & 1 & 0 \\\\\n",
    "    0 & 0 & 0 & 1\n",
    "    \\end{bmatrix} $"
   ]
  },
  {
   "cell_type": "code",
   "execution_count": 3,
   "metadata": {
    "jupyter": {
     "source_hidden": true
    },
    "tags": [
     "hide-input"
    ]
   },
   "outputs": [],
   "source": [
    "def motion_model(x, u):\n",
    "    A = np.array([[1.0, 0, 0, 0],\n",
    "                  [0, 1.0, 0, 0],\n",
    "                  [0, 0, 1.0, 0],\n",
    "                  [0, 0, 0, 0]])\n",
    "\n",
    "    B = np.array([[DT * math.cos(x[2, 0]), 0],\n",
    "                  [DT * math.sin(x[2, 0]), 0],\n",
    "                  [0.0, DT],\n",
    "                  [1.0, 0.0]])\n",
    "\n",
    "    x = A @ x + B @ u\n",
    "\n",
    "    return x"
   ]
  },
  {
   "cell_type": "code",
   "execution_count": 4,
   "metadata": {
    "jupyter": {
     "source_hidden": true
    },
    "tags": []
   },
   "outputs": [],
   "source": [
    "def compute_JA(x, u):\n",
    "    yaw = x[2, 0]\n",
    "    v = u[0, 0]\n",
    "    jF = np.array([\n",
    "        [1.0, 0.0, -DT * v * math.sin(yaw), DT * math.cos(yaw)],\n",
    "        [0.0, 1.0, DT * v * math.cos(yaw), DT * math.sin(yaw)],\n",
    "        [0.0, 0.0, 1.0, 0.0],\n",
    "        [0.0, 0.0, 0.0, 1.0]])\n",
    "\n",
    "    return jF"
   ]
  },
  {
   "cell_type": "code",
   "execution_count": 5,
   "metadata": {
    "jupyter": {
     "source_hidden": true
    },
    "tags": [
     "hide-input"
    ]
   },
   "outputs": [],
   "source": [
    "def get_covariance_ellipse(xEst, PEst):\n",
    "    Pxy = PEst[0:2, 0:2]\n",
    "    eigval, eigvec = np.linalg.eig(Pxy)\n",
    "\n",
    "    if eigval[0] >= eigval[1]:\n",
    "        bigind = 0\n",
    "        smallind = 1\n",
    "    else:\n",
    "        bigind = 1\n",
    "        smallind = 0\n",
    "\n",
    "    t = np.arange(0, 2 * math.pi + 0.1, 0.1)\n",
    "    a = math.sqrt(eigval[bigind])\n",
    "    b = math.sqrt(eigval[smallind])\n",
    "    x = [a * math.cos(it) for it in t]\n",
    "    y = [b * math.sin(it) for it in t]\n",
    "    angle = math.atan2(eigvec[bigind, 1], eigvec[bigind, 0])\n",
    "    rot = np.array([[math.cos(angle), math.sin(angle)],\n",
    "                    [-math.sin(angle), math.cos(angle)]])\n",
    "    fx = rot @ (np.array([x, y]))\n",
    "    px = np.array(fx[0, :] + xEst[0, 0])\n",
    "    py = np.array(fx[1, :] + xEst[1, 0])\n",
    "    return px, py"
   ]
  },
  {
   "cell_type": "code",
   "execution_count": 6,
   "metadata": {
    "jupyter": {
     "source_hidden": true
    },
    "tags": []
   },
   "outputs": [],
   "source": [
    "def prediction(xd, u, P):\n",
    "    jA = compute_JA(xd, u)\n",
    "    ud = u + INPUT_NOISE @ np.random.randn(2, 1)\n",
    "    xd = motion_model(xd, ud)\n",
    "    P_est = jA @ P @ jA.T + Q\n",
    "    return xd,P_est"
   ]
  },
  {
   "cell_type": "code",
   "execution_count": 7,
   "metadata": {
    "jupyter": {
     "source_hidden": true
    },
    "tags": []
   },
   "outputs": [],
   "source": [
    "def calc_input():\n",
    "    v = 1.0  # [m/s]\n",
    "    yawrate = 0.1  # [rad/s]\n",
    "    u = np.array([[v], [yawrate]])\n",
    "    return u"
   ]
  },
  {
   "cell_type": "code",
   "execution_count": 8,
   "metadata": {
    "jupyter": {
     "source_hidden": true
    },
    "tags": []
   },
   "outputs": [],
   "source": [
    "Q = np.diag([\n",
    "    0.1,  # variance of location on x-axis\n",
    "    0.1,  # variance of location on y-axis\n",
    "    np.deg2rad(1.0),  # variance of yaw angle\n",
    "    1.0  # variance of velocity\n",
    "]) ** 2  # predict state covariance"
   ]
  },
  {
   "cell_type": "code",
   "execution_count": 9,
   "metadata": {
    "tags": []
   },
   "outputs": [],
   "source": [
    "%matplotlib widget"
   ]
  },
  {
   "cell_type": "code",
   "execution_count": 10,
   "metadata": {
    "jupyter": {
     "source_hidden": true
    },
    "tags": []
   },
   "outputs": [],
   "source": [
    "# Simulate\n",
    "t = 0.0\n",
    "SIM_TIME = 30.0\n",
    "\n",
    "# State Vector [x y yaw v]'\n",
    "xTrue = np.zeros((4, 1))\n",
    "PEst = 0.0001 * np.eye(4)\n",
    "xDR = np.zeros((4, 1))  # Dead reckoning\n",
    "\n",
    "# history\n",
    "hxTrue = xTrue\n",
    "hxDR = xTrue\n",
    "temp = np.arange(0, 2 * math.pi + 0.1, 0.1)\n",
    "allellipsesX = np.zeros((1, temp.size))\n",
    "allellipsesY = np.zeros((1, temp.size))\n",
    "\n",
    "while SIM_TIME >= t:\n",
    "    t += DT\n",
    "    u = calc_input()\n",
    "    # Propagate\n",
    "    xTrue = motion_model(xTrue, u)\n",
    "    xDR, PEst = prediction(xDR, u, PEst)\n",
    "    \n",
    "    # Get Covariance Ellipse\n",
    "    ellipsesX, ellipsesY = get_covariance_ellipse(xDR, PEst)\n",
    "    \n",
    "    # Stack the history\n",
    "    hxDR = np.hstack((hxDR, xDR))\n",
    "    hxTrue = np.hstack((hxTrue, xTrue))\n",
    "    allellipsesX = np.vstack((allellipsesX, ellipsesX))\n",
    "    allellipsesY = np.vstack((allellipsesY, ellipsesY))"
   ]
  },
  {
   "cell_type": "code",
   "execution_count": 11,
   "metadata": {
    "jupyter": {
     "source_hidden": true
    },
    "tags": []
   },
   "outputs": [
    {
     "data": {
      "application/vnd.jupyter.widget-view+json": {
       "model_id": "1eefa0212c8443439c2a8c0fc60ede75",
       "version_major": 2,
       "version_minor": 0
      },
      "text/plain": [
       "Canvas(toolbar=Toolbar(toolitems=[('Home', 'Reset original view', 'home', 'home'), ('Back', 'Back to previous …"
      ]
     },
     "metadata": {},
     "output_type": "display_data"
    }
   ],
   "source": [
    "# Animate DR\n",
    "fig, ax = plt.subplots()\n",
    "drData, = plt.plot([],[],'-k', label='Dead Reckoning Traj')\n",
    "ellipseData, = plt.plot([],[],'--r')\n",
    "gtData, = plt.plot([],[],'-b', label='Ground Truth Traj')\n",
    "numFrames = 1000\n",
    "\n",
    "frames=np.linspace(0, numFrames)\n",
    "ind = [(int)(frame * allellipsesX.shape[0]/ numFrames) for frame in frames]\n",
    "\n",
    "def init():\n",
    "    x_dr = hxDR[0,:]\n",
    "    y_dr = hxDR[1,:]\n",
    "    ax.set_xlim([np.min(x_dr) - 5, np.max(x_dr) + 5])\n",
    "    ax.set_ylim([np.min(y_dr) - 5, np.max(y_dr) + 5])\n",
    "    plt.title(\"Dead Reckoning vs Ground Truth\")\n",
    "    plt.legend()\n",
    "    ax.grid(True)\n",
    "    \n",
    "def update(frameID):\n",
    "    drData.set_data(hxDR[0,0:ind[frameID]], hxDR[1,0:ind[frameID]])\n",
    "    gtData.set_data(hxTrue[0,0:ind[frameID]], hxTrue[1,0:ind[frameID]])\n",
    "    ellipseData.set_data(allellipsesX[ind[frameID],:],allellipsesY[ind[frameID],:])\n",
    "\n",
    "anim = FuncAnimation(fig, update, frames=numFrames, init_func=init, blit=True)\n",
    "plt.show()"
   ]
  },
  {
   "cell_type": "markdown",
   "metadata": {
    "tags": []
   },
   "source": [
    "### Adding GPS as a measurement source\n",
    "$Z_t = H X_t + R$\n",
    "\n",
    "$H = J_H = \\begin{bmatrix} \n",
    "1 & 0 & 0 & 0 \\\\\n",
    "0 & 1 & 0 & 0\n",
    "\\end{bmatrix}$"
   ]
  },
  {
   "cell_type": "code",
   "execution_count": 12,
   "metadata": {
    "jupyter": {
     "source_hidden": true
    },
    "tags": []
   },
   "outputs": [],
   "source": [
    "R = np.diag([1.0, 1.0]) ** 2  # Observation x,y position covariance"
   ]
  },
  {
   "cell_type": "code",
   "execution_count": 13,
   "metadata": {
    "jupyter": {
     "source_hidden": true
    },
    "tags": []
   },
   "outputs": [],
   "source": [
    "def observation_model(x):\n",
    "    H = np.array([\n",
    "        [1, 0, 0, 0],\n",
    "        [0, 1, 0, 0]\n",
    "    ])\n",
    "\n",
    "    z = H @ x\n",
    "\n",
    "    return z"
   ]
  },
  {
   "cell_type": "code",
   "execution_count": 14,
   "metadata": {
    "jupyter": {
     "source_hidden": true
    },
    "tags": []
   },
   "outputs": [],
   "source": [
    "def compute_jH():\n",
    "    jH = np.array([[1.0,0.0,0.0,0.0],\n",
    "                   [0.0,1.0,0.0,0.0]])\n",
    "    return jH"
   ]
  },
  {
   "cell_type": "code",
   "execution_count": 15,
   "metadata": {
    "jupyter": {
     "source_hidden": true
    },
    "tags": []
   },
   "outputs": [],
   "source": [
    "def ekf_update(xTrue, xPred, PPred):\n",
    "    # add noise to gps x-y\n",
    "    z = observation_model(xTrue) + GPS_NOISE @ np.random.randn(2, 1)\n",
    "    \n",
    "    # Computed the difference between measurement and predicted measurement\n",
    "    zPred = observation_model(xPred)\n",
    "    y = z - zPred\n",
    "    \n",
    "    # Compute Kalman Gain and find new belief\n",
    "    jH = compute_jH()\n",
    "    S = jH @ PPred @ jH.T + R\n",
    "    K = PPred @ jH.T @ np.linalg.inv(S)\n",
    "    xEst = xPred + K @ y\n",
    "    PEst = (np.eye(len(xEst)) - K @ jH) @ PPred\n",
    "    return xEst, PEst, z.T"
   ]
  },
  {
   "cell_type": "code",
   "execution_count": 16,
   "metadata": {
    "tags": []
   },
   "outputs": [],
   "source": [
    "# Simulate - EKF\n",
    "t = 0.0\n",
    "SIM_TIME = 50.0\n",
    "\n",
    "# State Vector [x y yaw v]'\n",
    "xEst = np.zeros((4, 1))\n",
    "xTrue = np.zeros((4, 1))\n",
    "PEst = np.eye(4)\n",
    "PPred = np.eye(4)\n",
    "PDR = np.eye(4)\n",
    "xDR = np.zeros((4, 1)) \n",
    "xPred = np.zeros((4,1))\n",
    "\n",
    "# history\n",
    "hxEst = xEst\n",
    "hxTrue = xTrue\n",
    "hxDR = xTrue\n",
    "\n",
    "temp = np.arange(0, 2 * math.pi + 0.1, 0.1)\n",
    "allellipsesX = np.zeros((1, temp.size))\n",
    "allellipsesY = np.zeros((1, temp.size))\n",
    "meas = np.zeros((1,2))\n",
    "allMeasurements = np.zeros((1,2))\n",
    "\n",
    "count = 1\n",
    "while SIM_TIME >= t:\n",
    "    t += DT\n",
    "    u = calc_input()\n",
    "    \n",
    "    # Ground Truth\n",
    "    xTrue = motion_model(xTrue, u)\n",
    "    \n",
    "    # Propagate\n",
    "    xDR, PDR = prediction(xDR, u, PDR) # Dead Reckoning for Demonstration\n",
    "    xPred, PPred = prediction(xEst, u, PEst) # Prediction Step\n",
    "    \n",
    "    # EKF Update\n",
    "    count = count + 1\n",
    "    if count % 2 == 0:\n",
    "        xEst, PEst, meas = ekf_update(xTrue, xPred, PPred)\n",
    "    else:\n",
    "        xEst = xPred\n",
    "        PEst = PPred\n",
    "        \n",
    "    # Get Covariance Ellipse\n",
    "    ellipsesX, ellipsesY = get_covariance_ellipse(xEst, PEst)\n",
    "    \n",
    "    # Stack the history\n",
    "    hxDR = np.hstack((hxDR, xDR))\n",
    "    hxTrue = np.hstack((hxTrue, xTrue))\n",
    "    hxEst = np.hstack((hxEst, xEst))\n",
    "    allellipsesX = np.vstack((allellipsesX, ellipsesX))\n",
    "    allellipsesY = np.vstack((allellipsesY, ellipsesY))\n",
    "    allMeasurements = np.vstack((allMeasurements, meas))"
   ]
  },
  {
   "cell_type": "code",
   "execution_count": 17,
   "metadata": {
    "tags": []
   },
   "outputs": [
    {
     "data": {
      "application/vnd.jupyter.widget-view+json": {
       "model_id": "37b97b9bb7c249a49ac9d46b24e8e133",
       "version_major": 2,
       "version_minor": 0
      },
      "text/plain": [
       "Canvas(toolbar=Toolbar(toolitems=[('Home', 'Reset original view', 'home', 'home'), ('Back', 'Back to previous …"
      ]
     },
     "metadata": {},
     "output_type": "display_data"
    }
   ],
   "source": [
    "# Animate EKF\n",
    "fig, ax = plt.subplots()\n",
    "predData, = plt.plot([],[],'-k', label='Dead Reckoning Traj')\n",
    "ellipseData, = plt.plot([],[],'--r')\n",
    "gtData, = plt.plot([],[],'-b', label='Ground Truth Traj')\n",
    "ekfData, = plt.plot([],[],'-r', label='EKF Estimate')\n",
    "measData, = plt.plot([],[],'.g', label='GPS Measurement')\n",
    "numFrames = 1000\n",
    "\n",
    "frames=np.linspace(0, numFrames)\n",
    "ind = [(int)(frame * allellipsesX.shape[0]/ numFrames) for frame in frames]\n",
    "ind_GPS = [(int)(frame * allMeasurements.shape[0]/ numFrames) for frame in frames]\n",
    "\n",
    "def init():\n",
    "    x_true = hxTrue[0,:]\n",
    "    y_true = hxTrue[1,:]\n",
    "    ax.set_xlim([np.min(x_true) - 5, np.max(x_true) + 5])\n",
    "    ax.set_ylim([np.min(y_true) - 5, np.max(y_true) + 5])\n",
    "    plt.title(\"Dead Reckoning vs EKF vs Ground Truth\")\n",
    "    plt.legend()\n",
    "    ax.grid(True)\n",
    "    \n",
    "def update(frameID):\n",
    "    predData.set_data(hxDR[0,0:ind[frameID]], hxDR[1,0:ind[frameID]])\n",
    "    gtData.set_data(hxTrue[0,0:ind[frameID]], hxTrue[1,0:ind[frameID]])\n",
    "    ellipseData.set_data(allellipsesX[ind[frameID],:],allellipsesY[ind[frameID],:])\n",
    "    ekfData.set_data(hxEst[0,0:ind[frameID]], hxEst[1,0:ind[frameID]])\n",
    "    measData.set_data(allMeasurements[0:ind_GPS[frameID],0], allMeasurements[0:ind_GPS[frameID],1])\n",
    "\n",
    "anim = FuncAnimation(fig, update, frames=numFrames, interval= 500, init_func=init, blit=True)\n",
    "plt.show()"
   ]
  },
  {
   "cell_type": "code",
   "execution_count": null,
   "metadata": {
    "tags": []
   },
   "outputs": [],
   "source": []
  }
 ],
 "metadata": {
  "celltoolbar": "Edit Metadata",
  "kernelspec": {
   "display_name": "Python 3",
   "language": "python",
   "name": "python3"
  },
  "language_info": {
   "codemirror_mode": {
    "name": "ipython",
    "version": 3
   },
   "file_extension": ".py",
   "mimetype": "text/x-python",
   "name": "python",
   "nbconvert_exporter": "python",
   "pygments_lexer": "ipython3",
   "version": "3.8.8"
  }
 },
 "nbformat": 4,
 "nbformat_minor": 4
}
