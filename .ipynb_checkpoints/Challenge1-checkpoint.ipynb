{
 "cells": [
  {
   "cell_type": "markdown",
   "id": "e5c5b867-914f-4e94-8fd3-7741a4068468",
   "metadata": {
    "tags": []
   },
   "source": [
    "# Simulating a Diff Drive Robot with Unicycle Model\n",
    "\n",
    "<img src=\"supportingMaterial/images/UnicycleWithDiffDrive.png\" alt=\"Test Image\" width=\"300\" style=\"float: center\"/>\n",
    "\n",
    "Let's apply Unicycle Model to diff drive Robot and simulate a dead reckoning/ odometry based Localization"
   ]
  },
  {
   "cell_type": "markdown",
   "id": "4085f1d4-5082-4079-b292-03ac8eaa8385",
   "metadata": {},
   "source": [
    "## System Dynamics\n",
    "As we know, Model Kinematics for Unicycle model looks like\n",
    "\n",
    "$\\dot{X}$ = $f(x_r,y_r,\\theta_r, v, \\omega)$ \n",
    "\n",
    "$\\dot{X} = \\begin{pmatrix}\n",
    "\\dot{x_r} \\\\\n",
    "\\dot{y_r} \\\\\n",
    "\\dot{\\theta_r}\n",
    "\\end{pmatrix}$ = $\\begin{pmatrix} \n",
    "v \\times \\cos(\\theta_r) \\\\\n",
    "v \\times \\sin(\\theta_r) \\\\\n",
    "\\omega\n",
    "\\end{pmatrix}$"
   ]
  },
  {
   "cell_type": "markdown",
   "id": "1bb38963-7c90-4b71-a1b5-732dbdc1231a",
   "metadata": {},
   "source": [
    "## Equation for $v$ and $\\omega$\n",
    "In a differential drive model, Wheel angular velocities translates to $v$ and $\\omega$ as follows\n",
    "$v = \\frac{r}{2} \\times \\omega_R + \\frac{r}{2} \\times \\omega_L$\n",
    "\n",
    "$\\omega$ = $\\frac{r}{d} \\times \\omega_R - \\frac{r}{d} \\times \\omega_L$\n",
    "\n",
    "Where,\n",
    "\n",
    "$r$ = wheel radius\n",
    "\n",
    "$d$ = distance between wheels\n",
    "\n",
    "$\\omega_R$ = Angular velocity given to Right Wheel\n",
    "\n",
    "$\\omega_L$ = Angular velocity given to Left Wheel\n"
   ]
  },
  {
   "cell_type": "markdown",
   "id": "c26351be-db09-434c-bfe6-c9b641234230",
   "metadata": {},
   "source": [
    "## State Transition\n",
    "$x_t = x_{t-1} + v_t \\cos(\\theta_t) \\times dt$\n",
    "\n",
    "$y_t = y_{t-1} + v_t \\sin(\\theta_t) \\times dt$\n",
    "\n",
    "$\\theta_t = \\theta_{t-1} + \\omega_t \\times dt$\n",
    "\n",
    "### Write the State Transition in the form of Matrices\n",
    "For the given input\n",
    "$U_t = \\begin{pmatrix}\n",
    "    \\omega_R \\\\\n",
    "    \\omega_L\n",
    "    \\end{pmatrix}$\n",
    "\n",
    "Express, state transition for the unicycle model in the form of:\n",
    "$X_t = A X_{t-1} + B U_t$\n",
    "\n",
    "You can use the latex form or you can choose to upload the picture with your solution\n",
    "* For $X_t = A X_{t-1} + B U_t$:\n",
    "    - $A = $\n",
    "    - $B= $\n"
   ]
  },
  {
   "cell_type": "code",
   "execution_count": null,
   "id": "2ea275c0-0595-4e57-800a-a58cf4af7048",
   "metadata": {},
   "outputs": [],
   "source": [
    "import matplotlib.pyplot as plt\n",
    "from matplotlib.animation import FuncAnimation\n",
    "import numpy as np\n",
    "import math\n",
    "import time"
   ]
  },
  {
   "cell_type": "code",
   "execution_count": null,
   "id": "8cb193cd-b57a-4e86-bb02-889bcec944c9",
   "metadata": {},
   "outputs": [],
   "source": [
    "# Sim Params - You can choose to modify this\n",
    "dt = 0.1\n",
    "# Fixed params for Robot\n",
    "r = 0.01 # Radius of Wheel\n",
    "d = 0.5 # Distance between wheels"
   ]
  },
  {
   "cell_type": "code",
   "execution_count": null,
   "id": "5a7304b0-4fd9-4590-af11-76008ba5e586",
   "metadata": {},
   "outputs": [],
   "source": [
    "# Assume constant input - You can play around with this\n",
    "omega_L = 11.0  # [rad/s]\n",
    "omega_R = 10.0  # [rad/s]"
   ]
  },
  {
   "cell_type": "code",
   "execution_count": null,
   "id": "84808dce-a6d6-486d-a787-f475c46ea7c5",
   "metadata": {},
   "outputs": [],
   "source": [
    "def motion_model(x, u):\n",
    "    # Return next state when provided with x and u\n",
    "    # x should be a column vector of shape (4,1)\n",
    "    \n",
    "    # Your code here\n",
    "    \n",
    "    return x"
   ]
  },
  {
   "cell_type": "code",
   "execution_count": null,
   "id": "70e4082a-0261-48a1-b2b7-fff398dc6e4d",
   "metadata": {},
   "outputs": [],
   "source": [
    "# You need not modify this function\n",
    "def get_input():\n",
    "    u = np.array([[omega_R], [omega_L]])\n",
    "    return u"
   ]
  },
  {
   "cell_type": "markdown",
   "id": "b1a39944-00b1-4786-86bc-5f2a1deef874",
   "metadata": {},
   "source": [
    "## Robot Axes\n",
    "Let's also draw Robot Axes so that it gives sense of heading for a robot\n",
    "\n",
    "Remember that Robot's x-axis on the body frame co-ordinate always points in front direction and y-axis to the left. This may not be true in global frame.\n",
    "\n",
    "Hence, we have to transform the axes from body frame to global frame\n",
    "Write the equation for how this can be done\n",
    "\n",
    "Assume initial pose of Robot is (0,0,90 degrees)\n",
    "Red represents the X-Axis and Green Represents the Y-axis. This is shown in the figure below\n",
    "\n",
    "This means that Robot's Body frame axes at (0,0,0) are parallel to that of global frame\n",
    "\n",
    "<img src=\"supportingMaterial/images/DiffDriveInitialPos.png\" alt=\"Test Image\" width=\"300\" style=\"float: center\"/>"
   ]
  },
  {
   "cell_type": "code",
   "execution_count": null,
   "id": "252a50c3-00b4-4e3c-af2d-8e3c362e496b",
   "metadata": {},
   "outputs": [],
   "source": [
    "def get_robot_axis(pose):\n",
    "    # pose is a 4x1 column vector (x,y,theta,v)\n",
    "    # Function should return a np.array of shape 2 x 4\n",
    "    # Where first two columns gives co-ordinates of x-axis ([x1,y1],[x2,y2])\n",
    "    # Next two columns gives co-ordinates of y-axis ([x1,y1],[x2,y2])\n",
    "    \n",
    "    # Axes co-ordinates for x and y axis in the Robot Body frame\n",
    "    # Remember that these always remain the same in the body frame\n",
    "    # Irrespective of Robot's pose\n",
    "    # You don't have to change these values    \n",
    "    x_body = np.array([[0, 1.0],[0,0]])\n",
    "    y_body = np.array([[0,0],[0,1.0]])\n",
    "    \n",
    "    # Your Code Here\n",
    "    \n",
    "    "
   ]
  },
  {
   "cell_type": "code",
   "execution_count": null,
   "id": "83ac7243-d92f-4f42-985c-c9ee7e9044a0",
   "metadata": {},
   "outputs": [],
   "source": [
    "def checkTransformedAxes(axes):\n",
    "    # Verify Axes should always be perpendicular - This is sanity check for the axes returned by your method\n",
    "    dot_product = (axes[0,1] - axes[0,0]) * (axes[0,3] - axes[0,2]) + \\\n",
    "                  (axes[1,1] - axes[1,0]) * (axes[1,3] - axes[1,2])\n",
    "    \n",
    "    if abs(dot_product) > 1e-5:\n",
    "        print(\"Non-zero dot product obtained: {}\".format(dot_product))\n",
    "        return False\n",
    "    else:\n",
    "        return True"
   ]
  },
  {
   "cell_type": "code",
   "execution_count": null,
   "id": "44bfab93-ba6b-48df-9ebe-57eeb9fc1ff8",
   "metadata": {},
   "outputs": [],
   "source": [
    "# conda install -c conda-forge ipympl\n",
    "%matplotlib widget"
   ]
  },
  {
   "cell_type": "markdown",
   "id": "f3e3f761-3c87-4749-a843-3aa713370ac2",
   "metadata": {},
   "source": [
    "## Simulation"
   ]
  },
  {
   "cell_type": "code",
   "execution_count": null,
   "id": "07348755-9a81-40ca-b1d9-45705c44d3a0",
   "metadata": {},
   "outputs": [],
   "source": [
    "# Run this cell, to simulate the robot position for 200 seconds\n",
    "t = 0.0\n",
    "SIM_TIME = 200.0 # You can reduce the time to debug\n",
    "\n",
    "# State Vector [x y yaw v]'\n",
    "X_dr = np.zeros((4, 1))\n",
    "X_dr[2,0] = math.pi / 2\n",
    "\n",
    "x_axes = np.zeros((2,2))\n",
    "y_axes = np.zeros((2,2))\n",
    "\n",
    "x_curr = X_dr\n",
    "u = get_input()\n",
    "while SIM_TIME >= t:\n",
    "    x_next = motion_model(x_curr, u)\n",
    "    X_dr = np.hstack((X_dr, x_next))\n",
    "    axes = get_robot_axis(x_next)\n",
    "    if not checkTransformedAxes(axes):\n",
    "        print(\"Aborting Simulation, Transformed axes are not correct, please check\")\n",
    "        break\n",
    "    x_axis_curr = axes[:,0:2]\n",
    "    y_axis_curr = axes[:,2:4]\n",
    "    x_axes = np.hstack((x_axes, x_axis_curr))\n",
    "    y_axes = np.hstack((y_axes, y_axis_curr))\n",
    "    x_curr = x_next\n",
    "    t += dt"
   ]
  },
  {
   "cell_type": "code",
   "execution_count": null,
   "id": "45c8b0d6-09eb-44d0-b952-d6b80b0d1a63",
   "metadata": {
    "tags": []
   },
   "outputs": [],
   "source": [
    "# Animate DR for Diff Drive Robot\n",
    "# You just have to execute this cell\n",
    "numFrames = 2000\n",
    "\n",
    "fig, ax = plt.subplots()\n",
    "dr_data, = plt.plot([],[],'-k', label='Dead Reckoning Traj')\n",
    "x_axes_data, = plt.plot([],[],'-r', label='X-axis')\n",
    "y_axes_data, = plt.plot([],[],'-g', label='Y-Axis')\n",
    "\n",
    "frames=np.linspace(0, numFrames)\n",
    "ind_dr = [(int)(frame * (X_dr.shape[1] - 1)/ numFrames) for frame in frames]\n",
    "ind_ax = [(int)(frame * (x_axes.shape[1]- 2)/ numFrames) for frame in frames]\n",
    "\n",
    "def init():\n",
    "    x_dr = X_dr[0,:]\n",
    "    y_dr = X_dr[1,:]\n",
    "    \n",
    "    if np.min(x_dr) < np.min(y_dr):\n",
    "        min_val = np.min(x_dr)\n",
    "    else:\n",
    "        min_val = np.min(y_dr)\n",
    "    \n",
    "    if np.max(x_dr) > np.max(y_dr):\n",
    "        max_val = np.max(x_dr)\n",
    "    else:\n",
    "        max_val = np.max(y_dr)\n",
    "        \n",
    "    min_x = np.min(x_dr) - 5\n",
    "    ax.set_xlim([min_val - 5, max_val + 5])\n",
    "    ax.set_ylim([min_val - 5, max_val + 5])\n",
    "    plt.title(\"Dead Reckoning for a Unicycle Model with a Diff Drive Robot\")\n",
    "    plt.legend()\n",
    "    ax.grid(True)\n",
    "    return dr_data,x_axes_data,y_axes_data\n",
    "    \n",
    "def update(frameID):\n",
    "    dr_data.set_data(X_dr[0,0:ind_dr[frameID]], X_dr[1,0:ind_dr[frameID]])\n",
    "    x1 = x_axes[:,ind_ax[frameID]]\n",
    "    x2 = x_axes[:,ind_ax[frameID] + 1]\n",
    "    x_axes_data.set_data([x1[0], x2[0]],[x1[1], x2[1]])\n",
    "    y1 = y_axes[:, ind_ax[frameID]]\n",
    "    y2 = y_axes[:, ind_ax[frameID] + 1]\n",
    "    y_axes_data.set_data([y1[0], y2[0]], [y1[1], y2[1]])\n",
    "    return dr_data,\n",
    "\n",
    "anim = FuncAnimation(fig, update, frames=numFrames-1, init_func=init, blit=True)\n",
    "plt.show()"
   ]
  },
  {
   "cell_type": "code",
   "execution_count": null,
   "id": "90dbbbd7-03c3-4441-8237-4ecfccfe2208",
   "metadata": {},
   "outputs": [],
   "source": []
  }
 ],
 "metadata": {
  "kernelspec": {
   "display_name": "Python 3",
   "language": "python",
   "name": "python3"
  },
  "language_info": {
   "codemirror_mode": {
    "name": "ipython",
    "version": 3
   },
   "file_extension": ".py",
   "mimetype": "text/x-python",
   "name": "python",
   "nbconvert_exporter": "python",
   "pygments_lexer": "ipython3",
   "version": "3.8.8"
  }
 },
 "nbformat": 4,
 "nbformat_minor": 5
}
